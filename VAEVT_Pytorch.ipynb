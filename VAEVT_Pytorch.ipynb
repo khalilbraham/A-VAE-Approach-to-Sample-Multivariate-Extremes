{
  "nbformat": 4,
  "nbformat_minor": 0,
  "metadata": {
    "colab": {
      "provenance": [],
      "gpuType": "T4"
    },
    "kernelspec": {
      "name": "python3",
      "display_name": "Python 3"
    },
    "language_info": {
      "name": "python"
    },
    "accelerator": "GPU"
  },
  "cells": [
    {
      "cell_type": "code",
      "source": [
        "!pip install netCDF4"
      ],
      "metadata": {
        "colab": {
          "base_uri": "https://localhost:8080/"
        },
        "id": "RdHIilS01KJc",
        "outputId": "e7c9139f-5682-4d01-ad94-4264660ca73a"
      },
      "execution_count": null,
      "outputs": [
        {
          "output_type": "stream",
          "name": "stdout",
          "text": [
            "Collecting netCDF4\n",
            "  Downloading netCDF4-1.6.5-cp310-cp310-manylinux_2_17_x86_64.manylinux2014_x86_64.whl (5.5 MB)\n",
            "\u001b[2K     \u001b[90m━━━━━━━━━━━━━━━━━━━━━━━━━━━━━━━━━━━━━━━━\u001b[0m \u001b[32m5.5/5.5 MB\u001b[0m \u001b[31m21.9 MB/s\u001b[0m eta \u001b[36m0:00:00\u001b[0m\n",
            "\u001b[?25hCollecting cftime (from netCDF4)\n",
            "  Downloading cftime-1.6.3-cp310-cp310-manylinux_2_17_x86_64.manylinux2014_x86_64.whl (1.3 MB)\n",
            "\u001b[2K     \u001b[90m━━━━━━━━━━━━━━━━━━━━━━━━━━━━━━━━━━━━━━━━\u001b[0m \u001b[32m1.3/1.3 MB\u001b[0m \u001b[31m41.7 MB/s\u001b[0m eta \u001b[36m0:00:00\u001b[0m\n",
            "\u001b[?25hRequirement already satisfied: certifi in /usr/local/lib/python3.10/dist-packages (from netCDF4) (2023.11.17)\n",
            "Requirement already satisfied: numpy in /usr/local/lib/python3.10/dist-packages (from netCDF4) (1.23.5)\n",
            "Installing collected packages: cftime, netCDF4\n",
            "Successfully installed cftime-1.6.3 netCDF4-1.6.5\n"
          ]
        }
      ]
    },
    {
      "cell_type": "code",
      "execution_count": null,
      "metadata": {
        "id": "cglMw7HPhtPM"
      },
      "outputs": [],
      "source": [
        "import seaborn as sns\n",
        "import matplotlib.pyplot as plt\n",
        "from datetime import datetime\n",
        "import numpy as np\n",
        "import tensorboard\n",
        "import random\n",
        "from netCDF4 import Dataset\n",
        "import torch\n",
        "import torch.nn as nn\n",
        "import torch.nn.functional as F\n",
        "import torch.optim as optim\n",
        "from torch.distributions import Normal\n",
        "from torch.utils.data import DataLoader, TensorDataset\n",
        "from tqdm import tqdm\n",
        "from torch.distributions import Normal, Dirichlet\n"
      ]
    },
    {
      "cell_type": "markdown",
      "source": [
        "# **Radius model**"
      ],
      "metadata": {
        "id": "Wmp997LMDfjk"
      }
    },
    {
      "cell_type": "code",
      "source": [
        "class CustomDistributionLambdaWithRegularizer(nn.Module):\n",
        "    def __init__(self, make_distribution_fn, prior):\n",
        "        super(CustomDistributionLambdaWithRegularizer, self).__init__()\n",
        "        self.make_distribution_fn = make_distribution_fn\n",
        "        self.prior = prior\n",
        "\n",
        "    def forward(self, inputs):\n",
        "        distribution = self.make_distribution_fn(inputs)\n",
        "        kl_divergence = torch.distributions.kl.kl_divergence(distribution, self.prior).mean()\n",
        "        return distribution, kl_divergence"
      ],
      "metadata": {
        "id": "jcNVIzJqSnGh"
      },
      "execution_count": null,
      "outputs": []
    },
    {
      "cell_type": "code",
      "source": [
        "class CustomDistributionLambda(nn.Module):\n",
        "    def __init__(self, make_distribution_fn):\n",
        "        super(CustomDistributionLambda, self).__init__()\n",
        "        self.make_distribution_fn = make_distribution_fn\n",
        "\n",
        "    def forward(self, inputs):\n",
        "        return self.make_distribution_fn(inputs)"
      ],
      "metadata": {
        "id": "E5sddljmSAHf"
      },
      "execution_count": null,
      "outputs": []
    },
    {
      "cell_type": "code",
      "source": [
        "def make_gamma_distribution(inputs):\n",
        "    concentration = inputs[..., 0]\n",
        "    rate = inputs[..., 1]\n",
        "    return torch.distributions.gamma.Gamma(concentration, rate)"
      ],
      "metadata": {
        "id": "CnwH_Y0cSDDG"
      },
      "execution_count": null,
      "outputs": []
    },
    {
      "cell_type": "code",
      "source": [
        "class U_Encoder(nn.Module):\n",
        "    def __init__(self):\n",
        "        super(U_Encoder, self).__init__()\n",
        "        self.alpha = 1.5\n",
        "        self.prior = self.make_mvn_prior(1, True)\n",
        "        self.dense1 = nn.Linear(1, 5)\n",
        "        self.dense1.weight.data.uniform_(0.01, 0.02)\n",
        "        self.dense2 = nn.Linear(5, 5)\n",
        "        self.dense2.weight.data.uniform_(0.01, 0.02)\n",
        "        self.dense3 = nn.Linear(5, 2)\n",
        "        self.dense3.bias.data.uniform_(3.0, 5.5)\n",
        "        self.lambda1 = lambda x: torch.abs(x) + 0.001\n",
        "        self.dist_lambda3 = CustomDistributionLambdaWithRegularizer(make_distribution_fn=make_gamma_distribution, prior=self.prior)\n",
        "\n",
        "    def make_mvn_prior(self, ndim, Trainable=True):\n",
        "        if Trainable:\n",
        "            c = nn.Parameter(torch.rand([ndim]) * (5.5 - 3.5) + 3.5)\n",
        "            rate = 1\n",
        "        else:\n",
        "            c = self.alpha\n",
        "            rate = 1\n",
        "        prior = torch.distributions.gamma.Gamma(concentration=c, rate=rate)\n",
        "        return prior\n",
        "\n",
        "    def forward(self, inputs):\n",
        "        x = F.relu(self.dense1(inputs))\n",
        "        x = F.relu(self.dense2(x))\n",
        "        x = F.relu(self.dense3(x))\n",
        "        x = self.lambda1(x)\n",
        "        gamma_dist = self.dist_lambda3(x)\n",
        "        pdf_at_x = gamma_dist[0].log_prob(x)\n",
        "        return pdf_at_x.exp()\n",
        "\n",
        "class U_Decoder(nn.Module):\n",
        "    def __init__(self):\n",
        "        super(U_Decoder, self).__init__()\n",
        "        self.dense1 = nn.Linear(1, 5)\n",
        "        self.lambda1 = lambda x: 1 / x\n",
        "        self.dense2 = nn.Linear(5, 5)\n",
        "        self.dense31 = nn.Linear(5, 1)\n",
        "        self.dense32 = nn.Linear(5, 1)\n",
        "        self.lambda2 = lambda x: torch.abs(x) + 0.001\n",
        "        self.dist_lambda1 = CustomDistributionLambda(make_distribution_fn=make_gamma_distribution)\n",
        "\n",
        "    def forward(self, inputs):\n",
        "        y1 = inputs.view(-1, 1)\n",
        "        y = self.lambda1(y1)\n",
        "        x = F.relu(self.dense1(y))\n",
        "        x = F.relu(self.dense2(x))\n",
        "        alpha = self.dense31(x)\n",
        "        alpha = self.lambda2(alpha * y1)\n",
        "        beta = self.dense32(x)\n",
        "        beta = self.lambda2(beta / y**2)\n",
        "        x = torch.cat([alpha, beta], dim=1)\n",
        "        gamma_dist = self.dist_lambda1(x)\n",
        "        pdf_at_x = gamma_dist.log_prob(x)\n",
        "        return pdf_at_x.exp()\n",
        "\n",
        "class U_Ext_VAE(nn.Module):\n",
        "    def __init__(self):\n",
        "        super(U_Ext_VAE, self).__init__()\n",
        "        self.encoder = U_Encoder()\n",
        "        self.decoder = U_Decoder()\n",
        "\n",
        "    def forward(self, inputs):\n",
        "        res = self.decoder(self.encoder(inputs))\n",
        "        return res"
      ],
      "metadata": {
        "id": "JCN6ty0YkXM3"
      },
      "execution_count": null,
      "outputs": []
    },
    {
      "cell_type": "code",
      "source": [
        "ncfile = Dataset('/content/Dataset_danube.nc',\"r\")\n",
        "L=[]\n",
        "for i in range(31):\n",
        "    L.append(ncfile['S'+str(i+1)][:].reshape(18244,1))\n",
        "\n",
        "dataset = np.concatenate((L[0],L[1],L[2],L[3],L[4],L[5],L[6],L[7],L[8],L[9],L[10],L[11],L[12],L[13],L[14],L[15],L[16],L[17],L[18],L[19],L[20],L[21],L[22],L[23],L[24],L[25],L[26],L[27],L[28],L[29],L[30]),axis=1)"
      ],
      "metadata": {
        "id": "zGFbt5W20mTh"
      },
      "execution_count": null,
      "outputs": []
    },
    {
      "cell_type": "code",
      "source": [
        "R4 = dataset[:,22:27]\n",
        "axis = 1\n",
        "R4_rad = np.sum(R4,axis)\n",
        "R4_rad = R4_rad.reshape((18244,1))\n",
        "R4_S = np.divide(R4,R4_rad)\n",
        "train_dataset = R4_rad[::25,:]\n",
        "eval_dataset  = R4_rad\n",
        "print(train_dataset.shape)\n",
        "print(np.max(train_dataset))\n",
        "print(np.max(R4_rad))"
      ],
      "metadata": {
        "colab": {
          "base_uri": "https://localhost:8080/"
        },
        "id": "4PcdyXZJ1p3p",
        "outputId": "1cc374d2-b16b-4742-f525-47d447c90eb2"
      },
      "execution_count": null,
      "outputs": [
        {
          "output_type": "stream",
          "name": "stdout",
          "text": [
            "(730, 1)\n",
            "856.9\n",
            "1899.0\n"
          ]
        }
      ]
    },
    {
      "cell_type": "code",
      "source": [
        "def negative_log_likelihood(x, rv_x):\n",
        "  mean = rv_x[:, 0]\n",
        "  log_variance = rv_x[:, 1]\n",
        "  dist = Normal(mean, torch.exp(0.5 * log_variance))  # Assuming log_variance represents the log-variance\n",
        "  log_prob = -dist.log_prob(x).mean()  # Calculate the negative log-likelihood\n",
        "\n",
        "  return log_prob"
      ],
      "metadata": {
        "id": "LTAkPz_G3Jwa"
      },
      "execution_count": null,
      "outputs": []
    },
    {
      "cell_type": "code",
      "source": [
        "# Initialize the model\n",
        "vae = U_Ext_VAE()\n",
        "\n",
        "# Define optimizer and loss function\n",
        "optimizer = optim.Adam(vae.parameters(), lr=1e-3)\n",
        "\n",
        "train_loader = train_dataset\n",
        "eval_loader = train_dataset\n",
        "\n",
        "# Training loop\n",
        "num_epochs = 5000\n",
        "batch_size = 32\n",
        "\n",
        "\n",
        "for epoch in range(num_epochs):\n",
        "    vae.train()\n",
        "    train_loss = 0.0\n",
        "    for batch in tqdm(train_loader, desc=f\"Epoch {epoch + 1}/{num_epochs} (Training)\"):\n",
        "        optimizer.zero_grad()\n",
        "\n",
        "        masked_array = batch\n",
        "        numpy_array = masked_array.data\n",
        "        inputs = torch.from_numpy(numpy_array).float()\n",
        "\n",
        "        reconstructed_output = vae(inputs)\n",
        "        reconstructed_output = torch.where(torch.isnan(reconstructed_output), torch.zeros_like(reconstructed_output), reconstructed_output)\n",
        "        reconstructed_output[torch.isnan(reconstructed_output)] = 0\n",
        "        loss = negative_log_likelihood(inputs, reconstructed_output)\n",
        "\n",
        "        loss.backward()\n",
        "        optimizer.step()\n",
        "        train_loss += loss.item()\n",
        "\n",
        "    vae.eval()\n",
        "    eval_loss = 0.0\n",
        "    with torch.no_grad():\n",
        "        for batch in tqdm(eval_loader, desc=f\"Epoch {epoch + 1}/{num_epochs} (Validation)\"):\n",
        "            inputs = batch\n",
        "            masked_array = batch\n",
        "            numpy_array = masked_array.data\n",
        "            inputs = torch.from_numpy(numpy_array).float()\n",
        "            reconstructed_output = vae(inputs)\n",
        "            reconstructed_output = torch.where(torch.isnan(reconstructed_output), torch.zeros_like(reconstructed_output), reconstructed_output)\n",
        "            reconstructed_output[torch.isnan(reconstructed_output)] = 0\n",
        "            loss = negative_log_likelihood(inputs, reconstructed_output)\n",
        "            eval_loss += loss.item()\n",
        "\n",
        "    # Calculate average loss\n",
        "    train_loss /= len(train_loader)\n",
        "    eval_loss /= len(eval_loader)\n",
        "\n",
        "    # Print progress\n",
        "    print(f\"Epoch [{epoch + 1}/{num_epochs}] | \"\n",
        "          f\"Train Loss: {train_loss:.4f} | Eval Loss: {eval_loss:.4f}\")\n"
      ],
      "metadata": {
        "colab": {
          "base_uri": "https://localhost:8080/",
          "height": 1000
        },
        "id": "jrTUyRxh1vQT",
        "outputId": "376962cd-e96f-45b5-86c7-f7befdf92926"
      },
      "execution_count": null,
      "outputs": [
        {
          "output_type": "stream",
          "name": "stderr",
          "text": [
            "Epoch 1/5000 (Training): 100%|██████████| 730/730 [00:02<00:00, 278.05it/s]\n",
            "Epoch 1/5000 (Validation): 100%|██████████| 730/730 [00:00<00:00, 735.02it/s]\n"
          ]
        },
        {
          "output_type": "stream",
          "name": "stdout",
          "text": [
            "Epoch [1/5000] | Train Loss: 8.2143 | Eval Loss: 6.7989\n"
          ]
        },
        {
          "output_type": "stream",
          "name": "stderr",
          "text": [
            "Epoch 2/5000 (Training): 100%|██████████| 730/730 [00:03<00:00, 206.31it/s]\n",
            "Epoch 2/5000 (Validation): 100%|██████████| 730/730 [00:00<00:00, 937.71it/s]\n"
          ]
        },
        {
          "output_type": "stream",
          "name": "stdout",
          "text": [
            "Epoch [2/5000] | Train Loss: 6.8302 | Eval Loss: 6.8057\n"
          ]
        },
        {
          "output_type": "stream",
          "name": "stderr",
          "text": [
            "Epoch 3/5000 (Training): 100%|██████████| 730/730 [00:02<00:00, 273.59it/s]\n",
            "Epoch 3/5000 (Validation): 100%|██████████| 730/730 [00:00<00:00, 909.79it/s]\n"
          ]
        },
        {
          "output_type": "stream",
          "name": "stdout",
          "text": [
            "Epoch [3/5000] | Train Loss: 6.8460 | Eval Loss: 6.8138\n"
          ]
        },
        {
          "output_type": "stream",
          "name": "stderr",
          "text": [
            "Epoch 4/5000 (Training): 100%|██████████| 730/730 [00:02<00:00, 278.29it/s]\n",
            "Epoch 4/5000 (Validation): 100%|██████████| 730/730 [00:00<00:00, 926.66it/s]\n"
          ]
        },
        {
          "output_type": "stream",
          "name": "stdout",
          "text": [
            "Epoch [4/5000] | Train Loss: 6.8565 | Eval Loss: 6.8257\n"
          ]
        },
        {
          "output_type": "stream",
          "name": "stderr",
          "text": [
            "Epoch 5/5000 (Training): 100%|██████████| 730/730 [00:02<00:00, 244.16it/s]\n",
            "Epoch 5/5000 (Validation): 100%|██████████| 730/730 [00:01<00:00, 676.71it/s]\n"
          ]
        },
        {
          "output_type": "stream",
          "name": "stdout",
          "text": [
            "Epoch [5/5000] | Train Loss: 6.8627 | Eval Loss: 6.8382\n"
          ]
        },
        {
          "output_type": "stream",
          "name": "stderr",
          "text": [
            "Epoch 6/5000 (Training): 100%|██████████| 730/730 [00:03<00:00, 220.23it/s]\n",
            "Epoch 6/5000 (Validation): 100%|██████████| 730/730 [00:00<00:00, 913.01it/s]\n"
          ]
        },
        {
          "output_type": "stream",
          "name": "stdout",
          "text": [
            "Epoch [6/5000] | Train Loss: 6.8657 | Eval Loss: 6.8465\n"
          ]
        },
        {
          "output_type": "stream",
          "name": "stderr",
          "text": [
            "Epoch 7/5000 (Training): 100%|██████████| 730/730 [00:02<00:00, 254.29it/s]\n",
            "Epoch 7/5000 (Validation): 100%|██████████| 730/730 [00:00<00:00, 860.63it/s]\n"
          ]
        },
        {
          "output_type": "stream",
          "name": "stdout",
          "text": [
            "Epoch [7/5000] | Train Loss: 6.8655 | Eval Loss: 6.8484\n"
          ]
        },
        {
          "output_type": "stream",
          "name": "stderr",
          "text": [
            "Epoch 8/5000 (Training): 100%|██████████| 730/730 [00:02<00:00, 268.22it/s]\n",
            "Epoch 8/5000 (Validation): 100%|██████████| 730/730 [00:00<00:00, 937.78it/s]\n"
          ]
        },
        {
          "output_type": "stream",
          "name": "stdout",
          "text": [
            "Epoch [8/5000] | Train Loss: 6.8615 | Eval Loss: 6.8438\n"
          ]
        },
        {
          "output_type": "stream",
          "name": "stderr",
          "text": [
            "Epoch 9/5000 (Training): 100%|██████████| 730/730 [00:03<00:00, 198.17it/s]\n",
            "Epoch 9/5000 (Validation): 100%|██████████| 730/730 [00:01<00:00, 704.86it/s]\n"
          ]
        },
        {
          "output_type": "stream",
          "name": "stdout",
          "text": [
            "Epoch [9/5000] | Train Loss: 6.8524 | Eval Loss: 6.8312\n"
          ]
        },
        {
          "output_type": "stream",
          "name": "stderr",
          "text": [
            "Epoch 10/5000 (Training): 100%|██████████| 730/730 [00:02<00:00, 275.62it/s]\n",
            "Epoch 10/5000 (Validation): 100%|██████████| 730/730 [00:00<00:00, 855.75it/s]\n"
          ]
        },
        {
          "output_type": "stream",
          "name": "stdout",
          "text": [
            "Epoch [10/5000] | Train Loss: 6.8324 | Eval Loss: 6.7997\n"
          ]
        },
        {
          "output_type": "stream",
          "name": "stderr",
          "text": [
            "Epoch 11/5000 (Training): 100%|██████████| 730/730 [00:02<00:00, 276.28it/s]\n",
            "Epoch 11/5000 (Validation): 100%|██████████| 730/730 [00:00<00:00, 939.05it/s]\n"
          ]
        },
        {
          "output_type": "stream",
          "name": "stdout",
          "text": [
            "Epoch [11/5000] | Train Loss: 6.7800 | Eval Loss: 6.7080\n"
          ]
        },
        {
          "output_type": "stream",
          "name": "stderr",
          "text": [
            "Epoch 12/5000 (Training): 100%|██████████| 730/730 [00:02<00:00, 282.13it/s]\n",
            "Epoch 12/5000 (Validation): 100%|██████████| 730/730 [00:01<00:00, 664.59it/s]\n"
          ]
        },
        {
          "output_type": "stream",
          "name": "stdout",
          "text": [
            "Epoch [12/5000] | Train Loss: 6.6304 | Eval Loss: 6.4809\n"
          ]
        },
        {
          "output_type": "stream",
          "name": "stderr",
          "text": [
            "Epoch 13/5000 (Training): 100%|██████████| 730/730 [00:03<00:00, 210.22it/s]\n",
            "Epoch 13/5000 (Validation): 100%|██████████| 730/730 [00:00<00:00, 938.72it/s]\n"
          ]
        },
        {
          "output_type": "stream",
          "name": "stdout",
          "text": [
            "Epoch [13/5000] | Train Loss: 6.4735 | Eval Loss: 6.4603\n"
          ]
        },
        {
          "output_type": "stream",
          "name": "stderr",
          "text": [
            "Epoch 14/5000 (Training): 100%|██████████| 730/730 [00:02<00:00, 274.46it/s]\n",
            "Epoch 14/5000 (Validation): 100%|██████████| 730/730 [00:00<00:00, 896.22it/s]\n"
          ]
        },
        {
          "output_type": "stream",
          "name": "stdout",
          "text": [
            "Epoch [14/5000] | Train Loss: 6.4555 | Eval Loss: 6.4418\n"
          ]
        },
        {
          "output_type": "stream",
          "name": "stderr",
          "text": [
            "Epoch 15/5000 (Training): 100%|██████████| 730/730 [00:02<00:00, 275.86it/s]\n",
            "Epoch 15/5000 (Validation): 100%|██████████| 730/730 [00:00<00:00, 929.45it/s]\n"
          ]
        },
        {
          "output_type": "stream",
          "name": "stdout",
          "text": [
            "Epoch [15/5000] | Train Loss: 6.4386 | Eval Loss: 6.4346\n"
          ]
        },
        {
          "output_type": "stream",
          "name": "stderr",
          "text": [
            "Epoch 16/5000 (Training): 100%|██████████| 730/730 [00:03<00:00, 236.32it/s]\n",
            "Epoch 16/5000 (Validation): 100%|██████████| 730/730 [00:01<00:00, 656.78it/s]\n"
          ]
        },
        {
          "output_type": "stream",
          "name": "stdout",
          "text": [
            "Epoch [16/5000] | Train Loss: 6.4364 | Eval Loss: 6.4358\n"
          ]
        },
        {
          "output_type": "stream",
          "name": "stderr",
          "text": [
            "Epoch 17/5000 (Training): 100%|██████████| 730/730 [00:03<00:00, 240.90it/s]\n",
            "Epoch 17/5000 (Validation): 100%|██████████| 730/730 [00:00<00:00, 915.08it/s]\n"
          ]
        },
        {
          "output_type": "stream",
          "name": "stdout",
          "text": [
            "Epoch [17/5000] | Train Loss: 6.4379 | Eval Loss: 6.4406\n"
          ]
        },
        {
          "output_type": "stream",
          "name": "stderr",
          "text": [
            "Epoch 18/5000 (Training): 100%|██████████| 730/730 [00:02<00:00, 276.72it/s]\n",
            "Epoch 18/5000 (Validation): 100%|██████████| 730/730 [00:00<00:00, 907.65it/s]\n"
          ]
        },
        {
          "output_type": "stream",
          "name": "stdout",
          "text": [
            "Epoch [18/5000] | Train Loss: 6.4395 | Eval Loss: 6.4361\n"
          ]
        },
        {
          "output_type": "stream",
          "name": "stderr",
          "text": [
            "Epoch 19/5000 (Training): 100%|██████████| 730/730 [00:02<00:00, 271.42it/s]\n",
            "Epoch 19/5000 (Validation): 100%|██████████| 730/730 [00:00<00:00, 920.51it/s]\n"
          ]
        },
        {
          "output_type": "stream",
          "name": "stdout",
          "text": [
            "Epoch [19/5000] | Train Loss: 6.4407 | Eval Loss: 6.4329\n"
          ]
        },
        {
          "output_type": "stream",
          "name": "stderr",
          "text": [
            "Epoch 20/5000 (Training): 100%|██████████| 730/730 [00:03<00:00, 208.89it/s]\n",
            "Epoch 20/5000 (Validation): 100%|██████████| 730/730 [00:01<00:00, 699.08it/s]\n"
          ]
        },
        {
          "output_type": "stream",
          "name": "stdout",
          "text": [
            "Epoch [20/5000] | Train Loss: 6.4400 | Eval Loss: 6.4359\n"
          ]
        },
        {
          "output_type": "stream",
          "name": "stderr",
          "text": [
            "Epoch 21/5000 (Training): 100%|██████████| 730/730 [00:02<00:00, 274.46it/s]\n",
            "Epoch 21/5000 (Validation): 100%|██████████| 730/730 [00:00<00:00, 943.78it/s]\n"
          ]
        },
        {
          "output_type": "stream",
          "name": "stdout",
          "text": [
            "Epoch [21/5000] | Train Loss: 6.4338 | Eval Loss: 6.4284\n"
          ]
        },
        {
          "output_type": "stream",
          "name": "stderr",
          "text": [
            "Epoch 22/5000 (Training): 100%|██████████| 730/730 [00:02<00:00, 276.93it/s]\n",
            "Epoch 22/5000 (Validation): 100%|██████████| 730/730 [00:00<00:00, 901.00it/s]\n"
          ]
        },
        {
          "output_type": "stream",
          "name": "stdout",
          "text": [
            "Epoch [22/5000] | Train Loss: 6.4309 | Eval Loss: 6.4326\n"
          ]
        },
        {
          "output_type": "stream",
          "name": "stderr",
          "text": [
            "Epoch 23/5000 (Training): 100%|██████████| 730/730 [00:02<00:00, 277.24it/s]\n",
            "Epoch 23/5000 (Validation): 100%|██████████| 730/730 [00:01<00:00, 647.61it/s]\n"
          ]
        },
        {
          "output_type": "stream",
          "name": "stdout",
          "text": [
            "Epoch [23/5000] | Train Loss: 6.4302 | Eval Loss: 6.4365\n"
          ]
        },
        {
          "output_type": "stream",
          "name": "stderr",
          "text": [
            "Epoch 24/5000 (Training): 100%|██████████| 730/730 [00:03<00:00, 207.42it/s]\n",
            "Epoch 24/5000 (Validation): 100%|██████████| 730/730 [00:00<00:00, 918.44it/s]\n"
          ]
        },
        {
          "output_type": "stream",
          "name": "stdout",
          "text": [
            "Epoch [24/5000] | Train Loss: 6.4359 | Eval Loss: 6.4281\n"
          ]
        },
        {
          "output_type": "stream",
          "name": "stderr",
          "text": [
            "Epoch 25/5000 (Training): 100%|██████████| 730/730 [00:02<00:00, 274.84it/s]\n",
            "Epoch 25/5000 (Validation): 100%|██████████| 730/730 [00:00<00:00, 941.91it/s]\n"
          ]
        },
        {
          "output_type": "stream",
          "name": "stdout",
          "text": [
            "Epoch [25/5000] | Train Loss: 6.4289 | Eval Loss: 6.4376\n"
          ]
        },
        {
          "output_type": "stream",
          "name": "stderr",
          "text": [
            "Epoch 26/5000 (Training): 100%|██████████| 730/730 [00:02<00:00, 283.59it/s]\n",
            "Epoch 26/5000 (Validation): 100%|██████████| 730/730 [00:00<00:00, 947.08it/s]\n"
          ]
        },
        {
          "output_type": "stream",
          "name": "stdout",
          "text": [
            "Epoch [26/5000] | Train Loss: 6.4278 | Eval Loss: 6.4290\n"
          ]
        },
        {
          "output_type": "stream",
          "name": "stderr",
          "text": [
            "Epoch 27/5000 (Training): 100%|██████████| 730/730 [00:02<00:00, 244.74it/s]\n",
            "Epoch 27/5000 (Validation): 100%|██████████| 730/730 [00:01<00:00, 650.00it/s]\n"
          ]
        },
        {
          "output_type": "stream",
          "name": "stdout",
          "text": [
            "Epoch [27/5000] | Train Loss: 6.4292 | Eval Loss: 6.4502\n"
          ]
        },
        {
          "output_type": "stream",
          "name": "stderr",
          "text": [
            "Epoch 28/5000 (Training): 100%|██████████| 730/730 [00:03<00:00, 239.60it/s]\n",
            "Epoch 28/5000 (Validation): 100%|██████████| 730/730 [00:00<00:00, 941.40it/s]\n"
          ]
        },
        {
          "output_type": "stream",
          "name": "stdout",
          "text": [
            "Epoch [28/5000] | Train Loss: 6.4282 | Eval Loss: 6.4286\n"
          ]
        },
        {
          "output_type": "stream",
          "name": "stderr",
          "text": [
            "Epoch 29/5000 (Training): 100%|██████████| 730/730 [00:02<00:00, 283.88it/s]\n",
            "Epoch 29/5000 (Validation): 100%|██████████| 730/730 [00:00<00:00, 897.29it/s]\n"
          ]
        },
        {
          "output_type": "stream",
          "name": "stdout",
          "text": [
            "Epoch [29/5000] | Train Loss: 6.4271 | Eval Loss: 6.4308\n"
          ]
        },
        {
          "output_type": "stream",
          "name": "stderr",
          "text": [
            "Epoch 30/5000 (Training): 100%|██████████| 730/730 [00:02<00:00, 277.84it/s]\n",
            "Epoch 30/5000 (Validation): 100%|██████████| 730/730 [00:00<00:00, 938.37it/s]\n"
          ]
        },
        {
          "output_type": "stream",
          "name": "stdout",
          "text": [
            "Epoch [30/5000] | Train Loss: 6.4276 | Eval Loss: 6.4316\n"
          ]
        },
        {
          "output_type": "stream",
          "name": "stderr",
          "text": [
            "Epoch 31/5000 (Training): 100%|██████████| 730/730 [00:03<00:00, 213.29it/s]\n",
            "Epoch 31/5000 (Validation): 100%|██████████| 730/730 [00:01<00:00, 645.97it/s]\n"
          ]
        },
        {
          "output_type": "stream",
          "name": "stdout",
          "text": [
            "Epoch [31/5000] | Train Loss: 6.4378 | Eval Loss: 6.4274\n"
          ]
        },
        {
          "output_type": "stream",
          "name": "stderr",
          "text": [
            "Epoch 32/5000 (Training): 100%|██████████| 730/730 [00:02<00:00, 274.25it/s]\n",
            "Epoch 32/5000 (Validation): 100%|██████████| 730/730 [00:00<00:00, 932.56it/s]\n"
          ]
        },
        {
          "output_type": "stream",
          "name": "stdout",
          "text": [
            "Epoch [32/5000] | Train Loss: 6.4295 | Eval Loss: 6.4272\n"
          ]
        },
        {
          "output_type": "stream",
          "name": "stderr",
          "text": [
            "Epoch 33/5000 (Training): 100%|██████████| 730/730 [00:02<00:00, 271.96it/s]\n",
            "Epoch 33/5000 (Validation): 100%|██████████| 730/730 [00:00<00:00, 933.84it/s]\n"
          ]
        },
        {
          "output_type": "stream",
          "name": "stdout",
          "text": [
            "Epoch [33/5000] | Train Loss: 6.4287 | Eval Loss: 6.4602\n"
          ]
        },
        {
          "output_type": "stream",
          "name": "stderr",
          "text": [
            "Epoch 34/5000 (Training): 100%|██████████| 730/730 [00:02<00:00, 279.50it/s]\n",
            "Epoch 34/5000 (Validation): 100%|██████████| 730/730 [00:00<00:00, 768.61it/s]\n"
          ]
        },
        {
          "output_type": "stream",
          "name": "stdout",
          "text": [
            "Epoch [34/5000] | Train Loss: 6.4294 | Eval Loss: 6.4514\n"
          ]
        },
        {
          "output_type": "stream",
          "name": "stderr",
          "text": [
            "Epoch 35/5000 (Training): 100%|██████████| 730/730 [00:03<00:00, 191.19it/s]\n",
            "Epoch 35/5000 (Validation): 100%|██████████| 730/730 [00:00<00:00, 906.63it/s]\n"
          ]
        },
        {
          "output_type": "stream",
          "name": "stdout",
          "text": [
            "Epoch [35/5000] | Train Loss: 6.4282 | Eval Loss: 6.4265\n"
          ]
        },
        {
          "output_type": "stream",
          "name": "stderr",
          "text": [
            "Epoch 36/5000 (Training): 100%|██████████| 730/730 [00:02<00:00, 275.36it/s]\n",
            "Epoch 36/5000 (Validation): 100%|██████████| 730/730 [00:00<00:00, 933.43it/s]\n"
          ]
        },
        {
          "output_type": "stream",
          "name": "stdout",
          "text": [
            "Epoch [36/5000] | Train Loss: 6.4280 | Eval Loss: 6.4319\n"
          ]
        },
        {
          "output_type": "stream",
          "name": "stderr",
          "text": [
            "Epoch 37/5000 (Training): 100%|██████████| 730/730 [00:02<00:00, 278.25it/s]\n",
            "Epoch 37/5000 (Validation): 100%|██████████| 730/730 [00:00<00:00, 865.71it/s]\n"
          ]
        },
        {
          "output_type": "stream",
          "name": "stdout",
          "text": [
            "Epoch [37/5000] | Train Loss: 6.4274 | Eval Loss: 6.4292\n"
          ]
        },
        {
          "output_type": "stream",
          "name": "stderr",
          "text": [
            "Epoch 38/5000 (Training): 100%|██████████| 730/730 [00:03<00:00, 242.43it/s]\n",
            "Epoch 38/5000 (Validation): 100%|██████████| 730/730 [00:01<00:00, 663.34it/s]\n"
          ]
        },
        {
          "output_type": "stream",
          "name": "stdout",
          "text": [
            "Epoch [38/5000] | Train Loss: 6.4273 | Eval Loss: 6.4264\n"
          ]
        },
        {
          "output_type": "stream",
          "name": "stderr",
          "text": [
            "Epoch 39/5000 (Training): 100%|██████████| 730/730 [00:03<00:00, 236.13it/s]\n",
            "Epoch 39/5000 (Validation): 100%|██████████| 730/730 [00:00<00:00, 916.60it/s]\n"
          ]
        },
        {
          "output_type": "stream",
          "name": "stdout",
          "text": [
            "Epoch [39/5000] | Train Loss: 6.4283 | Eval Loss: 6.4262\n"
          ]
        },
        {
          "output_type": "stream",
          "name": "stderr",
          "text": [
            "Epoch 40/5000 (Training): 100%|██████████| 730/730 [00:02<00:00, 276.51it/s]\n",
            "Epoch 40/5000 (Validation): 100%|██████████| 730/730 [00:00<00:00, 907.80it/s]\n"
          ]
        },
        {
          "output_type": "stream",
          "name": "stdout",
          "text": [
            "Epoch [40/5000] | Train Loss: 6.4289 | Eval Loss: 6.4279\n"
          ]
        },
        {
          "output_type": "stream",
          "name": "stderr",
          "text": [
            "Epoch 41/5000 (Training): 100%|██████████| 730/730 [00:02<00:00, 273.42it/s]\n",
            "Epoch 41/5000 (Validation): 100%|██████████| 730/730 [00:00<00:00, 921.21it/s]\n"
          ]
        },
        {
          "output_type": "stream",
          "name": "stdout",
          "text": [
            "Epoch [41/5000] | Train Loss: 6.4274 | Eval Loss: 6.4305\n"
          ]
        },
        {
          "output_type": "stream",
          "name": "stderr",
          "text": [
            "Epoch 42/5000 (Training): 100%|██████████| 730/730 [00:03<00:00, 207.20it/s]\n",
            "Epoch 42/5000 (Validation): 100%|██████████| 730/730 [00:01<00:00, 674.63it/s]\n"
          ]
        },
        {
          "output_type": "stream",
          "name": "stdout",
          "text": [
            "Epoch [42/5000] | Train Loss: 6.4275 | Eval Loss: 6.4261\n"
          ]
        },
        {
          "output_type": "stream",
          "name": "stderr",
          "text": [
            "Epoch 43/5000 (Training): 100%|██████████| 730/730 [00:02<00:00, 280.39it/s]\n",
            "Epoch 43/5000 (Validation): 100%|██████████| 730/730 [00:00<00:00, 910.27it/s]\n"
          ]
        },
        {
          "output_type": "stream",
          "name": "stdout",
          "text": [
            "Epoch [43/5000] | Train Loss: 6.4361 | Eval Loss: 6.4269\n"
          ]
        },
        {
          "output_type": "stream",
          "name": "stderr",
          "text": [
            "Epoch 44/5000 (Training): 100%|██████████| 730/730 [00:02<00:00, 281.96it/s]\n",
            "Epoch 44/5000 (Validation): 100%|██████████| 730/730 [00:00<00:00, 932.91it/s]\n"
          ]
        },
        {
          "output_type": "stream",
          "name": "stdout",
          "text": [
            "Epoch [44/5000] | Train Loss: 6.4293 | Eval Loss: 6.4337\n"
          ]
        },
        {
          "output_type": "stream",
          "name": "stderr",
          "text": [
            "Epoch 45/5000 (Training): 100%|██████████| 730/730 [00:02<00:00, 279.09it/s]\n",
            "Epoch 45/5000 (Validation): 100%|██████████| 730/730 [00:00<00:00, 808.36it/s]\n"
          ]
        },
        {
          "output_type": "stream",
          "name": "stdout",
          "text": [
            "Epoch [45/5000] | Train Loss: 6.4285 | Eval Loss: 6.4354\n"
          ]
        },
        {
          "output_type": "stream",
          "name": "stderr",
          "text": [
            "Epoch 46/5000 (Training): 100%|██████████| 730/730 [00:03<00:00, 199.68it/s]\n",
            "Epoch 46/5000 (Validation): 100%|██████████| 730/730 [00:00<00:00, 968.07it/s]\n"
          ]
        },
        {
          "output_type": "stream",
          "name": "stdout",
          "text": [
            "Epoch [46/5000] | Train Loss: 6.4268 | Eval Loss: 6.4436\n"
          ]
        },
        {
          "output_type": "stream",
          "name": "stderr",
          "text": [
            "Epoch 47/5000 (Training): 100%|██████████| 730/730 [00:02<00:00, 281.57it/s]\n",
            "Epoch 47/5000 (Validation): 100%|██████████| 730/730 [00:00<00:00, 941.72it/s]\n"
          ]
        },
        {
          "output_type": "stream",
          "name": "stdout",
          "text": [
            "Epoch [47/5000] | Train Loss: 6.4274 | Eval Loss: 6.5106\n"
          ]
        },
        {
          "output_type": "stream",
          "name": "stderr",
          "text": [
            "Epoch 48/5000 (Training): 100%|██████████| 730/730 [00:02<00:00, 281.35it/s]\n",
            "Epoch 48/5000 (Validation): 100%|██████████| 730/730 [00:00<00:00, 908.69it/s]\n"
          ]
        },
        {
          "output_type": "stream",
          "name": "stdout",
          "text": [
            "Epoch [48/5000] | Train Loss: 6.4285 | Eval Loss: 6.5040\n"
          ]
        },
        {
          "output_type": "stream",
          "name": "stderr",
          "text": [
            "Epoch 49/5000 (Training): 100%|██████████| 730/730 [00:02<00:00, 262.48it/s]\n",
            "Epoch 49/5000 (Validation): 100%|██████████| 730/730 [00:01<00:00, 634.82it/s]\n"
          ]
        },
        {
          "output_type": "stream",
          "name": "stdout",
          "text": [
            "Epoch [49/5000] | Train Loss: 6.4279 | Eval Loss: 6.4905\n"
          ]
        },
        {
          "output_type": "stream",
          "name": "stderr",
          "text": [
            "Epoch 50/5000 (Training): 100%|██████████| 730/730 [00:03<00:00, 225.69it/s]\n",
            "Epoch 50/5000 (Validation): 100%|██████████| 730/730 [00:00<00:00, 902.28it/s]\n"
          ]
        },
        {
          "output_type": "stream",
          "name": "stdout",
          "text": [
            "Epoch [50/5000] | Train Loss: 6.4276 | Eval Loss: 6.4337\n"
          ]
        },
        {
          "output_type": "stream",
          "name": "stderr",
          "text": [
            "Epoch 51/5000 (Training): 100%|██████████| 730/730 [00:02<00:00, 273.80it/s]\n",
            "Epoch 51/5000 (Validation): 100%|██████████| 730/730 [00:00<00:00, 940.66it/s]\n"
          ]
        },
        {
          "output_type": "stream",
          "name": "stdout",
          "text": [
            "Epoch [51/5000] | Train Loss: 6.4285 | Eval Loss: 6.4268\n"
          ]
        },
        {
          "output_type": "stream",
          "name": "stderr",
          "text": [
            "Epoch 52/5000 (Training): 100%|██████████| 730/730 [00:02<00:00, 277.60it/s]\n",
            "Epoch 52/5000 (Validation): 100%|██████████| 730/730 [00:00<00:00, 923.82it/s]\n"
          ]
        },
        {
          "output_type": "stream",
          "name": "stdout",
          "text": [
            "Epoch [52/5000] | Train Loss: 6.4274 | Eval Loss: 6.5124\n"
          ]
        },
        {
          "output_type": "stream",
          "name": "stderr",
          "text": [
            "Epoch 53/5000 (Training): 100%|██████████| 730/730 [00:03<00:00, 225.12it/s]\n",
            "Epoch 53/5000 (Validation): 100%|██████████| 730/730 [00:01<00:00, 673.26it/s]\n"
          ]
        },
        {
          "output_type": "stream",
          "name": "stdout",
          "text": [
            "Epoch [53/5000] | Train Loss: 6.4276 | Eval Loss: 6.4320\n"
          ]
        },
        {
          "output_type": "stream",
          "name": "stderr",
          "text": [
            "Epoch 54/5000 (Training): 100%|██████████| 730/730 [00:02<00:00, 261.99it/s]\n",
            "Epoch 54/5000 (Validation): 100%|██████████| 730/730 [00:00<00:00, 901.05it/s]\n"
          ]
        },
        {
          "output_type": "stream",
          "name": "stdout",
          "text": [
            "Epoch [54/5000] | Train Loss: 6.4274 | Eval Loss: 6.4306\n"
          ]
        },
        {
          "output_type": "stream",
          "name": "stderr",
          "text": [
            "Epoch 55/5000 (Training): 100%|██████████| 730/730 [00:02<00:00, 276.02it/s]\n",
            "Epoch 55/5000 (Validation): 100%|██████████| 730/730 [00:00<00:00, 937.25it/s]\n"
          ]
        },
        {
          "output_type": "stream",
          "name": "stdout",
          "text": [
            "Epoch [55/5000] | Train Loss: 6.4275 | Eval Loss: 6.4379\n"
          ]
        },
        {
          "output_type": "stream",
          "name": "stderr",
          "text": [
            "Epoch 56/5000 (Training): 100%|██████████| 730/730 [00:02<00:00, 281.95it/s]\n",
            "Epoch 56/5000 (Validation): 100%|██████████| 730/730 [00:00<00:00, 925.08it/s]\n"
          ]
        },
        {
          "output_type": "stream",
          "name": "stdout",
          "text": [
            "Epoch [56/5000] | Train Loss: 6.4269 | Eval Loss: 6.4282\n"
          ]
        },
        {
          "output_type": "stream",
          "name": "stderr",
          "text": [
            "Epoch 57/5000 (Training): 100%|██████████| 730/730 [00:03<00:00, 193.62it/s]\n",
            "Epoch 57/5000 (Validation): 100%|██████████| 730/730 [00:00<00:00, 846.64it/s]\n"
          ]
        },
        {
          "output_type": "stream",
          "name": "stdout",
          "text": [
            "Epoch [57/5000] | Train Loss: 6.4272 | Eval Loss: 6.4545\n"
          ]
        },
        {
          "output_type": "stream",
          "name": "stderr",
          "text": [
            "Epoch 58/5000 (Training): 100%|██████████| 730/730 [00:02<00:00, 276.69it/s]\n",
            "Epoch 58/5000 (Validation): 100%|██████████| 730/730 [00:00<00:00, 921.93it/s]\n"
          ]
        },
        {
          "output_type": "stream",
          "name": "stdout",
          "text": [
            "Epoch [58/5000] | Train Loss: 6.4275 | Eval Loss: 6.4325\n"
          ]
        },
        {
          "output_type": "stream",
          "name": "stderr",
          "text": [
            "Epoch 59/5000 (Training): 100%|██████████| 730/730 [00:02<00:00, 273.17it/s]\n",
            "Epoch 59/5000 (Validation): 100%|██████████| 730/730 [00:00<00:00, 944.04it/s]\n"
          ]
        },
        {
          "output_type": "stream",
          "name": "stdout",
          "text": [
            "Epoch [59/5000] | Train Loss: 6.4270 | Eval Loss: 6.4284\n"
          ]
        },
        {
          "output_type": "stream",
          "name": "stderr",
          "text": [
            "Epoch 60/5000 (Training): 100%|██████████| 730/730 [00:02<00:00, 275.90it/s]\n",
            "Epoch 60/5000 (Validation): 100%|██████████| 730/730 [00:01<00:00, 667.88it/s]\n"
          ]
        },
        {
          "output_type": "stream",
          "name": "stdout",
          "text": [
            "Epoch [60/5000] | Train Loss: 6.4268 | Eval Loss: 6.4305\n"
          ]
        },
        {
          "output_type": "stream",
          "name": "stderr",
          "text": [
            "Epoch 61/5000 (Training): 100%|██████████| 730/730 [00:03<00:00, 218.77it/s]\n",
            "Epoch 61/5000 (Validation): 100%|██████████| 730/730 [00:00<00:00, 951.50it/s]\n"
          ]
        },
        {
          "output_type": "stream",
          "name": "stdout",
          "text": [
            "Epoch [61/5000] | Train Loss: 6.4270 | Eval Loss: 6.4280\n"
          ]
        },
        {
          "output_type": "stream",
          "name": "stderr",
          "text": [
            "Epoch 62/5000 (Training): 100%|██████████| 730/730 [00:02<00:00, 275.81it/s]\n",
            "Epoch 62/5000 (Validation): 100%|██████████| 730/730 [00:00<00:00, 925.33it/s]\n"
          ]
        },
        {
          "output_type": "stream",
          "name": "stdout",
          "text": [
            "Epoch [62/5000] | Train Loss: 6.4270 | Eval Loss: 6.4264\n"
          ]
        },
        {
          "output_type": "stream",
          "name": "stderr",
          "text": [
            "Epoch 63/5000 (Training): 100%|██████████| 730/730 [00:02<00:00, 276.45it/s]\n",
            "Epoch 63/5000 (Validation): 100%|██████████| 730/730 [00:00<00:00, 921.83it/s]\n"
          ]
        },
        {
          "output_type": "stream",
          "name": "stdout",
          "text": [
            "Epoch [63/5000] | Train Loss: 6.4271 | Eval Loss: 6.4313\n"
          ]
        },
        {
          "output_type": "stream",
          "name": "stderr",
          "text": [
            "Epoch 64/5000 (Training): 100%|██████████| 730/730 [00:03<00:00, 234.43it/s]\n",
            "Epoch 64/5000 (Validation): 100%|██████████| 730/730 [00:01<00:00, 643.35it/s]\n"
          ]
        },
        {
          "output_type": "stream",
          "name": "stdout",
          "text": [
            "Epoch [64/5000] | Train Loss: 6.4270 | Eval Loss: 6.4287\n"
          ]
        },
        {
          "output_type": "stream",
          "name": "stderr",
          "text": [
            "Epoch 65/5000 (Training): 100%|██████████| 730/730 [00:02<00:00, 244.95it/s]\n",
            "Epoch 65/5000 (Validation): 100%|██████████| 730/730 [00:00<00:00, 884.45it/s]\n"
          ]
        },
        {
          "output_type": "stream",
          "name": "stdout",
          "text": [
            "Epoch [65/5000] | Train Loss: 6.4269 | Eval Loss: 6.4280\n"
          ]
        },
        {
          "output_type": "stream",
          "name": "stderr",
          "text": [
            "Epoch 66/5000 (Training): 100%|██████████| 730/730 [00:02<00:00, 277.12it/s]\n",
            "Epoch 66/5000 (Validation): 100%|██████████| 730/730 [00:00<00:00, 898.89it/s]\n"
          ]
        },
        {
          "output_type": "stream",
          "name": "stdout",
          "text": [
            "Epoch [66/5000] | Train Loss: 6.4268 | Eval Loss: 6.4273\n"
          ]
        },
        {
          "output_type": "stream",
          "name": "stderr",
          "text": [
            "Epoch 67/5000 (Training): 100%|██████████| 730/730 [00:02<00:00, 271.60it/s]\n",
            "Epoch 67/5000 (Validation): 100%|██████████| 730/730 [00:00<00:00, 898.54it/s]\n"
          ]
        },
        {
          "output_type": "stream",
          "name": "stdout",
          "text": [
            "Epoch [67/5000] | Train Loss: 6.4268 | Eval Loss: 6.4280\n"
          ]
        },
        {
          "output_type": "stream",
          "name": "stderr",
          "text": [
            "Epoch 68/5000 (Training): 100%|██████████| 730/730 [00:03<00:00, 204.62it/s]\n",
            "Epoch 68/5000 (Validation): 100%|██████████| 730/730 [00:00<00:00, 756.32it/s]\n"
          ]
        },
        {
          "output_type": "stream",
          "name": "stdout",
          "text": [
            "Epoch [68/5000] | Train Loss: 6.4269 | Eval Loss: 6.4263\n"
          ]
        },
        {
          "output_type": "stream",
          "name": "stderr",
          "text": [
            "Epoch 69/5000 (Training): 100%|██████████| 730/730 [00:02<00:00, 279.21it/s]\n",
            "Epoch 69/5000 (Validation): 100%|██████████| 730/730 [00:00<00:00, 914.56it/s]\n"
          ]
        },
        {
          "output_type": "stream",
          "name": "stdout",
          "text": [
            "Epoch [69/5000] | Train Loss: 6.4271 | Eval Loss: 6.4309\n"
          ]
        },
        {
          "output_type": "stream",
          "name": "stderr",
          "text": [
            "Epoch 70/5000 (Training): 100%|██████████| 730/730 [00:02<00:00, 278.18it/s]\n",
            "Epoch 70/5000 (Validation): 100%|██████████| 730/730 [00:00<00:00, 908.07it/s]\n"
          ]
        },
        {
          "output_type": "stream",
          "name": "stdout",
          "text": [
            "Epoch [70/5000] | Train Loss: 6.4270 | Eval Loss: 6.4288\n"
          ]
        },
        {
          "output_type": "stream",
          "name": "stderr",
          "text": [
            "Epoch 71/5000 (Training): 100%|██████████| 730/730 [00:02<00:00, 279.60it/s]\n",
            "Epoch 71/5000 (Validation): 100%|██████████| 730/730 [00:01<00:00, 650.13it/s]\n"
          ]
        },
        {
          "output_type": "stream",
          "name": "stdout",
          "text": [
            "Epoch [71/5000] | Train Loss: 6.4270 | Eval Loss: 6.4296\n"
          ]
        },
        {
          "output_type": "stream",
          "name": "stderr",
          "text": [
            "Epoch 72/5000 (Training): 100%|██████████| 730/730 [00:03<00:00, 210.41it/s]\n",
            "Epoch 72/5000 (Validation): 100%|██████████| 730/730 [00:00<00:00, 751.92it/s]\n"
          ]
        },
        {
          "output_type": "stream",
          "name": "stdout",
          "text": [
            "Epoch [72/5000] | Train Loss: 6.4270 | Eval Loss: 6.4294\n"
          ]
        },
        {
          "output_type": "stream",
          "name": "stderr",
          "text": [
            "Epoch 73/5000 (Training): 100%|██████████| 730/730 [00:02<00:00, 281.25it/s]\n",
            "Epoch 73/5000 (Validation): 100%|██████████| 730/730 [00:00<00:00, 943.85it/s]\n"
          ]
        },
        {
          "output_type": "stream",
          "name": "stdout",
          "text": [
            "Epoch [73/5000] | Train Loss: 6.4270 | Eval Loss: 6.4296\n"
          ]
        },
        {
          "output_type": "stream",
          "name": "stderr",
          "text": [
            "Epoch 74/5000 (Training): 100%|██████████| 730/730 [00:02<00:00, 283.43it/s]\n",
            "Epoch 74/5000 (Validation): 100%|██████████| 730/730 [00:00<00:00, 878.86it/s]\n"
          ]
        },
        {
          "output_type": "stream",
          "name": "stdout",
          "text": [
            "Epoch [74/5000] | Train Loss: 6.4271 | Eval Loss: 6.4303\n"
          ]
        },
        {
          "output_type": "stream",
          "name": "stderr",
          "text": [
            "Epoch 75/5000 (Training): 100%|██████████| 730/730 [00:03<00:00, 230.02it/s]\n",
            "Epoch 75/5000 (Validation): 100%|██████████| 730/730 [00:01<00:00, 658.54it/s]\n"
          ]
        },
        {
          "output_type": "stream",
          "name": "stdout",
          "text": [
            "Epoch [75/5000] | Train Loss: 6.4270 | Eval Loss: 6.4298\n"
          ]
        },
        {
          "output_type": "stream",
          "name": "stderr",
          "text": [
            "Epoch 76/5000 (Training): 100%|██████████| 730/730 [00:02<00:00, 245.47it/s]\n",
            "Epoch 76/5000 (Validation): 100%|██████████| 730/730 [00:00<00:00, 922.93it/s]\n"
          ]
        },
        {
          "output_type": "stream",
          "name": "stdout",
          "text": [
            "Epoch [76/5000] | Train Loss: 6.4271 | Eval Loss: 6.4306\n"
          ]
        },
        {
          "output_type": "stream",
          "name": "stderr",
          "text": [
            "Epoch 77/5000 (Training): 100%|██████████| 730/730 [00:02<00:00, 286.49it/s]\n",
            "Epoch 77/5000 (Validation): 100%|██████████| 730/730 [00:00<00:00, 928.99it/s]\n"
          ]
        },
        {
          "output_type": "stream",
          "name": "stdout",
          "text": [
            "Epoch [77/5000] | Train Loss: 6.4271 | Eval Loss: 6.4299\n"
          ]
        },
        {
          "output_type": "stream",
          "name": "stderr",
          "text": [
            "Epoch 78/5000 (Training): 100%|██████████| 730/730 [00:02<00:00, 281.62it/s]\n",
            "Epoch 78/5000 (Validation): 100%|██████████| 730/730 [00:00<00:00, 933.88it/s]\n"
          ]
        },
        {
          "output_type": "stream",
          "name": "stdout",
          "text": [
            "Epoch [78/5000] | Train Loss: 6.4271 | Eval Loss: 6.4307\n"
          ]
        },
        {
          "output_type": "stream",
          "name": "stderr",
          "text": [
            "Epoch 79/5000 (Training): 100%|██████████| 730/730 [00:03<00:00, 207.61it/s]\n",
            "Epoch 79/5000 (Validation): 100%|██████████| 730/730 [00:01<00:00, 660.54it/s]\n"
          ]
        },
        {
          "output_type": "stream",
          "name": "stdout",
          "text": [
            "Epoch [79/5000] | Train Loss: 6.4271 | Eval Loss: 6.4296\n"
          ]
        },
        {
          "output_type": "stream",
          "name": "stderr",
          "text": [
            "Epoch 80/5000 (Training): 100%|██████████| 730/730 [00:02<00:00, 271.91it/s]\n",
            "Epoch 80/5000 (Validation): 100%|██████████| 730/730 [00:00<00:00, 910.30it/s]\n"
          ]
        },
        {
          "output_type": "stream",
          "name": "stdout",
          "text": [
            "Epoch [80/5000] | Train Loss: 6.4271 | Eval Loss: 6.4307\n"
          ]
        },
        {
          "output_type": "stream",
          "name": "stderr",
          "text": [
            "Epoch 81/5000 (Training): 100%|██████████| 730/730 [00:02<00:00, 275.35it/s]\n",
            "Epoch 81/5000 (Validation): 100%|██████████| 730/730 [00:00<00:00, 912.00it/s]\n"
          ]
        },
        {
          "output_type": "stream",
          "name": "stdout",
          "text": [
            "Epoch [81/5000] | Train Loss: 6.4270 | Eval Loss: 6.4296\n"
          ]
        },
        {
          "output_type": "stream",
          "name": "stderr",
          "text": [
            "Epoch 82/5000 (Training): 100%|██████████| 730/730 [00:02<00:00, 276.53it/s]\n",
            "Epoch 82/5000 (Validation): 100%|██████████| 730/730 [00:01<00:00, 704.17it/s]\n"
          ]
        },
        {
          "output_type": "stream",
          "name": "stdout",
          "text": [
            "Epoch [82/5000] | Train Loss: 6.4271 | Eval Loss: 6.4306\n"
          ]
        },
        {
          "output_type": "stream",
          "name": "stderr",
          "text": [
            "Epoch 83/5000 (Training): 100%|██████████| 730/730 [00:03<00:00, 202.68it/s]\n",
            "Epoch 83/5000 (Validation): 100%|██████████| 730/730 [00:00<00:00, 929.70it/s]\n"
          ]
        },
        {
          "output_type": "stream",
          "name": "stdout",
          "text": [
            "Epoch [83/5000] | Train Loss: 6.4270 | Eval Loss: 6.4297\n"
          ]
        },
        {
          "output_type": "stream",
          "name": "stderr",
          "text": [
            "Epoch 84/5000 (Training): 100%|██████████| 730/730 [00:02<00:00, 271.80it/s]\n",
            "Epoch 84/5000 (Validation): 100%|██████████| 730/730 [00:00<00:00, 907.20it/s]\n"
          ]
        },
        {
          "output_type": "stream",
          "name": "stdout",
          "text": [
            "Epoch [84/5000] | Train Loss: 6.4270 | Eval Loss: 6.4302\n"
          ]
        },
        {
          "output_type": "stream",
          "name": "stderr",
          "text": [
            "Epoch 85/5000 (Training): 100%|██████████| 730/730 [00:02<00:00, 280.34it/s]\n",
            "Epoch 85/5000 (Validation): 100%|██████████| 730/730 [00:00<00:00, 914.08it/s]\n"
          ]
        },
        {
          "output_type": "stream",
          "name": "stdout",
          "text": [
            "Epoch [85/5000] | Train Loss: 6.4270 | Eval Loss: 6.4297\n"
          ]
        },
        {
          "output_type": "stream",
          "name": "stderr",
          "text": [
            "Epoch 86/5000 (Training): 100%|██████████| 730/730 [00:02<00:00, 244.12it/s]\n",
            "Epoch 86/5000 (Validation): 100%|██████████| 730/730 [00:01<00:00, 644.96it/s]\n"
          ]
        },
        {
          "output_type": "stream",
          "name": "stdout",
          "text": [
            "Epoch [86/5000] | Train Loss: 6.4271 | Eval Loss: 6.4287\n"
          ]
        },
        {
          "output_type": "stream",
          "name": "stderr",
          "text": [
            "Epoch 87/5000 (Training): 100%|██████████| 730/730 [00:03<00:00, 236.60it/s]\n",
            "Epoch 87/5000 (Validation): 100%|██████████| 730/730 [00:00<00:00, 917.29it/s]\n"
          ]
        },
        {
          "output_type": "stream",
          "name": "stdout",
          "text": [
            "Epoch [87/5000] | Train Loss: 6.4269 | Eval Loss: 6.4294\n"
          ]
        },
        {
          "output_type": "stream",
          "name": "stderr",
          "text": [
            "Epoch 88/5000 (Training): 100%|██████████| 730/730 [00:02<00:00, 275.75it/s]\n",
            "Epoch 88/5000 (Validation): 100%|██████████| 730/730 [00:00<00:00, 939.54it/s]\n"
          ]
        },
        {
          "output_type": "stream",
          "name": "stdout",
          "text": [
            "Epoch [88/5000] | Train Loss: 6.4271 | Eval Loss: 6.4302\n"
          ]
        },
        {
          "output_type": "stream",
          "name": "stderr",
          "text": [
            "Epoch 89/5000 (Training): 100%|██████████| 730/730 [00:02<00:00, 279.94it/s]\n",
            "Epoch 89/5000 (Validation): 100%|██████████| 730/730 [00:00<00:00, 923.28it/s]\n"
          ]
        },
        {
          "output_type": "stream",
          "name": "stdout",
          "text": [
            "Epoch [89/5000] | Train Loss: 6.4270 | Eval Loss: 6.4286\n"
          ]
        },
        {
          "output_type": "stream",
          "name": "stderr",
          "text": [
            "Epoch 90/5000 (Training): 100%|██████████| 730/730 [00:03<00:00, 213.57it/s]\n",
            "Epoch 90/5000 (Validation): 100%|██████████| 730/730 [00:01<00:00, 639.02it/s]\n"
          ]
        },
        {
          "output_type": "stream",
          "name": "stdout",
          "text": [
            "Epoch [90/5000] | Train Loss: 6.4269 | Eval Loss: 6.4294\n"
          ]
        },
        {
          "output_type": "stream",
          "name": "stderr",
          "text": [
            "Epoch 91/5000 (Training): 100%|██████████| 730/730 [00:02<00:00, 277.06it/s]\n",
            "Epoch 91/5000 (Validation): 100%|██████████| 730/730 [00:00<00:00, 909.87it/s]\n"
          ]
        },
        {
          "output_type": "stream",
          "name": "stdout",
          "text": [
            "Epoch [91/5000] | Train Loss: 6.4269 | Eval Loss: 6.4294\n"
          ]
        },
        {
          "output_type": "stream",
          "name": "stderr",
          "text": [
            "Epoch 92/5000 (Training): 100%|██████████| 730/730 [00:02<00:00, 280.21it/s]\n",
            "Epoch 92/5000 (Validation): 100%|██████████| 730/730 [00:00<00:00, 910.46it/s]\n"
          ]
        },
        {
          "output_type": "stream",
          "name": "stdout",
          "text": [
            "Epoch [92/5000] | Train Loss: 6.4271 | Eval Loss: 6.4286\n"
          ]
        },
        {
          "output_type": "stream",
          "name": "stderr",
          "text": [
            "Epoch 93/5000 (Training): 100%|██████████| 730/730 [00:02<00:00, 284.86it/s]\n",
            "Epoch 93/5000 (Validation): 100%|██████████| 730/730 [00:00<00:00, 854.89it/s]\n"
          ]
        },
        {
          "output_type": "stream",
          "name": "stdout",
          "text": [
            "Epoch [93/5000] | Train Loss: 6.4269 | Eval Loss: 6.4295\n"
          ]
        },
        {
          "output_type": "stream",
          "name": "stderr",
          "text": [
            "Epoch 94/5000 (Training): 100%|██████████| 730/730 [00:03<00:00, 196.08it/s]\n",
            "Epoch 94/5000 (Validation): 100%|██████████| 730/730 [00:00<00:00, 903.04it/s]\n"
          ]
        },
        {
          "output_type": "stream",
          "name": "stdout",
          "text": [
            "Epoch [94/5000] | Train Loss: 6.4269 | Eval Loss: 6.4294\n"
          ]
        },
        {
          "output_type": "stream",
          "name": "stderr",
          "text": [
            "Epoch 95/5000 (Training): 100%|██████████| 730/730 [00:02<00:00, 275.75it/s]\n",
            "Epoch 95/5000 (Validation): 100%|██████████| 730/730 [00:00<00:00, 902.74it/s]\n"
          ]
        },
        {
          "output_type": "stream",
          "name": "stdout",
          "text": [
            "Epoch [95/5000] | Train Loss: 6.4270 | Eval Loss: 6.4286\n"
          ]
        },
        {
          "output_type": "stream",
          "name": "stderr",
          "text": [
            "Epoch 96/5000 (Training): 100%|██████████| 730/730 [00:02<00:00, 284.52it/s]\n",
            "Epoch 96/5000 (Validation): 100%|██████████| 730/730 [00:00<00:00, 927.79it/s]\n"
          ]
        },
        {
          "output_type": "stream",
          "name": "stdout",
          "text": [
            "Epoch [96/5000] | Train Loss: 6.4269 | Eval Loss: 6.4294\n"
          ]
        },
        {
          "output_type": "stream",
          "name": "stderr",
          "text": [
            "Epoch 97/5000 (Training): 100%|██████████| 730/730 [00:02<00:00, 251.94it/s]\n",
            "Epoch 97/5000 (Validation): 100%|██████████| 730/730 [00:01<00:00, 665.38it/s]\n"
          ]
        },
        {
          "output_type": "stream",
          "name": "stdout",
          "text": [
            "Epoch [97/5000] | Train Loss: 6.4269 | Eval Loss: 6.4295\n"
          ]
        },
        {
          "output_type": "stream",
          "name": "stderr",
          "text": [
            "Epoch 98/5000 (Training): 100%|██████████| 730/730 [00:03<00:00, 222.27it/s]\n",
            "Epoch 98/5000 (Validation): 100%|██████████| 730/730 [00:00<00:00, 879.25it/s]\n"
          ]
        },
        {
          "output_type": "stream",
          "name": "stdout",
          "text": [
            "Epoch [98/5000] | Train Loss: 6.4270 | Eval Loss: 6.4287\n"
          ]
        },
        {
          "output_type": "stream",
          "name": "stderr",
          "text": [
            "Epoch 99/5000 (Training): 100%|██████████| 730/730 [00:02<00:00, 277.66it/s]\n",
            "Epoch 99/5000 (Validation): 100%|██████████| 730/730 [00:00<00:00, 924.43it/s]\n"
          ]
        },
        {
          "output_type": "stream",
          "name": "stdout",
          "text": [
            "Epoch [99/5000] | Train Loss: 6.4269 | Eval Loss: 6.4294\n"
          ]
        },
        {
          "output_type": "stream",
          "name": "stderr",
          "text": [
            "Epoch 100/5000 (Training): 100%|██████████| 730/730 [00:02<00:00, 276.69it/s]\n",
            "Epoch 100/5000 (Validation): 100%|██████████| 730/730 [00:00<00:00, 918.26it/s]\n"
          ]
        },
        {
          "output_type": "stream",
          "name": "stdout",
          "text": [
            "Epoch [100/5000] | Train Loss: 6.4269 | Eval Loss: 6.4294\n"
          ]
        },
        {
          "output_type": "stream",
          "name": "stderr",
          "text": [
            "Epoch 101/5000 (Training): 100%|██████████| 730/730 [00:03<00:00, 218.54it/s]\n",
            "Epoch 101/5000 (Validation): 100%|██████████| 730/730 [00:01<00:00, 646.11it/s]\n"
          ]
        },
        {
          "output_type": "stream",
          "name": "stdout",
          "text": [
            "Epoch [101/5000] | Train Loss: 6.4270 | Eval Loss: 6.4288\n"
          ]
        },
        {
          "output_type": "stream",
          "name": "stderr",
          "text": [
            "Epoch 102/5000 (Training): 100%|██████████| 730/730 [00:02<00:00, 259.34it/s]\n",
            "Epoch 102/5000 (Validation): 100%|██████████| 730/730 [00:00<00:00, 921.87it/s]\n"
          ]
        },
        {
          "output_type": "stream",
          "name": "stdout",
          "text": [
            "Epoch [102/5000] | Train Loss: 6.4270 | Eval Loss: 6.4300\n"
          ]
        },
        {
          "output_type": "stream",
          "name": "stderr",
          "text": [
            "Epoch 103/5000 (Training): 100%|██████████| 730/730 [00:02<00:00, 256.67it/s]\n",
            "Epoch 103/5000 (Validation): 100%|██████████| 730/730 [00:00<00:00, 838.95it/s]\n"
          ]
        },
        {
          "output_type": "stream",
          "name": "stdout",
          "text": [
            "Epoch [103/5000] | Train Loss: 6.4270 | Eval Loss: 6.4296\n"
          ]
        },
        {
          "output_type": "stream",
          "name": "stderr",
          "text": [
            "Epoch 104/5000 (Training): 100%|██████████| 730/730 [00:02<00:00, 259.21it/s]\n",
            "Epoch 104/5000 (Validation): 100%|██████████| 730/730 [00:01<00:00, 688.88it/s]\n"
          ]
        },
        {
          "output_type": "stream",
          "name": "stdout",
          "text": [
            "Epoch [104/5000] | Train Loss: 6.4269 | Eval Loss: 6.4293\n"
          ]
        },
        {
          "output_type": "stream",
          "name": "stderr",
          "text": [
            "Epoch 105/5000 (Training): 100%|██████████| 730/730 [00:03<00:00, 199.87it/s]\n",
            "Epoch 105/5000 (Validation): 100%|██████████| 730/730 [00:00<00:00, 904.08it/s]\n"
          ]
        },
        {
          "output_type": "stream",
          "name": "stdout",
          "text": [
            "Epoch [105/5000] | Train Loss: 6.4269 | Eval Loss: 6.4294\n"
          ]
        },
        {
          "output_type": "stream",
          "name": "stderr",
          "text": [
            "Epoch 106/5000 (Training): 100%|██████████| 730/730 [00:02<00:00, 274.62it/s]\n",
            "Epoch 106/5000 (Validation): 100%|██████████| 730/730 [00:00<00:00, 910.19it/s]\n"
          ]
        },
        {
          "output_type": "stream",
          "name": "stdout",
          "text": [
            "Epoch [106/5000] | Train Loss: 6.4269 | Eval Loss: 6.4294\n"
          ]
        },
        {
          "output_type": "stream",
          "name": "stderr",
          "text": [
            "Epoch 107/5000 (Training): 100%|██████████| 730/730 [00:02<00:00, 280.71it/s]\n",
            "Epoch 107/5000 (Validation): 100%|██████████| 730/730 [00:00<00:00, 933.62it/s]\n"
          ]
        },
        {
          "output_type": "stream",
          "name": "stdout",
          "text": [
            "Epoch [107/5000] | Train Loss: 6.4270 | Eval Loss: 6.4296\n"
          ]
        },
        {
          "output_type": "stream",
          "name": "stderr",
          "text": [
            "Epoch 108/5000 (Training): 100%|██████████| 730/730 [00:02<00:00, 244.78it/s]\n",
            "Epoch 108/5000 (Validation): 100%|██████████| 730/730 [00:01<00:00, 664.97it/s]\n"
          ]
        },
        {
          "output_type": "stream",
          "name": "stdout",
          "text": [
            "Epoch [108/5000] | Train Loss: 6.4270 | Eval Loss: 6.4295\n"
          ]
        },
        {
          "output_type": "stream",
          "name": "stderr",
          "text": [
            "Epoch 109/5000 (Training): 100%|██████████| 730/730 [00:03<00:00, 234.57it/s]\n",
            "Epoch 109/5000 (Validation): 100%|██████████| 730/730 [00:00<00:00, 902.79it/s]\n"
          ]
        },
        {
          "output_type": "stream",
          "name": "stdout",
          "text": [
            "Epoch [109/5000] | Train Loss: 6.4269 | Eval Loss: 6.4280\n"
          ]
        },
        {
          "output_type": "stream",
          "name": "stderr",
          "text": [
            "Epoch 110/5000 (Training): 100%|██████████| 730/730 [00:02<00:00, 277.03it/s]\n",
            "Epoch 110/5000 (Validation): 100%|██████████| 730/730 [00:00<00:00, 956.06it/s]\n"
          ]
        },
        {
          "output_type": "stream",
          "name": "stdout",
          "text": [
            "Epoch [110/5000] | Train Loss: 6.4270 | Eval Loss: 6.4298\n"
          ]
        },
        {
          "output_type": "stream",
          "name": "stderr",
          "text": [
            "Epoch 111/5000 (Training): 100%|██████████| 730/730 [00:02<00:00, 277.67it/s]\n",
            "Epoch 111/5000 (Validation): 100%|██████████| 730/730 [00:00<00:00, 926.53it/s]\n"
          ]
        },
        {
          "output_type": "stream",
          "name": "stdout",
          "text": [
            "Epoch [111/5000] | Train Loss: 6.4269 | Eval Loss: 6.4296\n"
          ]
        },
        {
          "output_type": "stream",
          "name": "stderr",
          "text": [
            "Epoch 112/5000 (Training): 100%|██████████| 730/730 [00:03<00:00, 215.70it/s]\n",
            "Epoch 112/5000 (Validation): 100%|██████████| 730/730 [00:01<00:00, 643.28it/s]\n"
          ]
        },
        {
          "output_type": "stream",
          "name": "stdout",
          "text": [
            "Epoch [112/5000] | Train Loss: 6.4269 | Eval Loss: 6.4281\n"
          ]
        },
        {
          "output_type": "stream",
          "name": "stderr",
          "text": [
            "Epoch 113/5000 (Training): 100%|██████████| 730/730 [00:02<00:00, 277.79it/s]\n",
            "Epoch 113/5000 (Validation): 100%|██████████| 730/730 [00:00<00:00, 940.41it/s]\n"
          ]
        },
        {
          "output_type": "stream",
          "name": "stdout",
          "text": [
            "Epoch [113/5000] | Train Loss: 6.4269 | Eval Loss: 6.4298\n"
          ]
        },
        {
          "output_type": "stream",
          "name": "stderr",
          "text": [
            "Epoch 114/5000 (Training): 100%|██████████| 730/730 [00:02<00:00, 279.04it/s]\n",
            "Epoch 114/5000 (Validation): 100%|██████████| 730/730 [00:00<00:00, 921.50it/s]\n"
          ]
        },
        {
          "output_type": "stream",
          "name": "stdout",
          "text": [
            "Epoch [114/5000] | Train Loss: 6.4269 | Eval Loss: 6.4296\n"
          ]
        },
        {
          "output_type": "stream",
          "name": "stderr",
          "text": [
            "Epoch 115/5000 (Training): 100%|██████████| 730/730 [00:02<00:00, 273.21it/s]\n",
            "Epoch 115/5000 (Validation): 100%|██████████| 730/730 [00:00<00:00, 786.97it/s]\n"
          ]
        },
        {
          "output_type": "stream",
          "name": "stdout",
          "text": [
            "Epoch [115/5000] | Train Loss: 6.4269 | Eval Loss: 6.4291\n"
          ]
        },
        {
          "output_type": "stream",
          "name": "stderr",
          "text": [
            "Epoch 116/5000 (Training): 100%|██████████| 730/730 [00:03<00:00, 201.79it/s]\n",
            "Epoch 116/5000 (Validation): 100%|██████████| 730/730 [00:00<00:00, 913.32it/s]\n"
          ]
        },
        {
          "output_type": "stream",
          "name": "stdout",
          "text": [
            "Epoch [116/5000] | Train Loss: 6.4269 | Eval Loss: 6.4295\n"
          ]
        },
        {
          "output_type": "stream",
          "name": "stderr",
          "text": [
            "Epoch 117/5000 (Training): 100%|██████████| 730/730 [00:02<00:00, 273.27it/s]\n",
            "Epoch 117/5000 (Validation): 100%|██████████| 730/730 [00:00<00:00, 966.82it/s]\n"
          ]
        },
        {
          "output_type": "stream",
          "name": "stdout",
          "text": [
            "Epoch [117/5000] | Train Loss: 6.4269 | Eval Loss: 6.4290\n"
          ]
        },
        {
          "output_type": "stream",
          "name": "stderr",
          "text": [
            "Epoch 118/5000 (Training): 100%|██████████| 730/730 [00:02<00:00, 274.45it/s]\n",
            "Epoch 118/5000 (Validation): 100%|██████████| 730/730 [00:00<00:00, 898.71it/s]\n"
          ]
        },
        {
          "output_type": "stream",
          "name": "stdout",
          "text": [
            "Epoch [118/5000] | Train Loss: 6.4269 | Eval Loss: 6.4290\n"
          ]
        },
        {
          "output_type": "stream",
          "name": "stderr",
          "text": [
            "Epoch 119/5000 (Training): 100%|██████████| 730/730 [00:02<00:00, 247.69it/s]\n",
            "Epoch 119/5000 (Validation): 100%|██████████| 730/730 [00:01<00:00, 657.95it/s]\n"
          ]
        },
        {
          "output_type": "stream",
          "name": "stdout",
          "text": [
            "Epoch [119/5000] | Train Loss: 6.4269 | Eval Loss: 6.4291\n"
          ]
        },
        {
          "output_type": "stream",
          "name": "stderr",
          "text": [
            "Epoch 120/5000 (Training): 100%|██████████| 730/730 [00:03<00:00, 231.30it/s]\n",
            "Epoch 120/5000 (Validation): 100%|██████████| 730/730 [00:00<00:00, 891.44it/s]\n"
          ]
        },
        {
          "output_type": "stream",
          "name": "stdout",
          "text": [
            "Epoch [120/5000] | Train Loss: 6.4269 | Eval Loss: 6.4295\n"
          ]
        },
        {
          "output_type": "stream",
          "name": "stderr",
          "text": [
            "Epoch 121/5000 (Training): 100%|██████████| 730/730 [00:02<00:00, 272.66it/s]\n",
            "Epoch 121/5000 (Validation): 100%|██████████| 730/730 [00:00<00:00, 905.92it/s]\n"
          ]
        },
        {
          "output_type": "stream",
          "name": "stdout",
          "text": [
            "Epoch [121/5000] | Train Loss: 6.4269 | Eval Loss: 6.4291\n"
          ]
        },
        {
          "output_type": "stream",
          "name": "stderr",
          "text": [
            "Epoch 122/5000 (Training): 100%|██████████| 730/730 [00:02<00:00, 277.39it/s]\n",
            "Epoch 122/5000 (Validation): 100%|██████████| 730/730 [00:00<00:00, 909.38it/s]\n"
          ]
        },
        {
          "output_type": "stream",
          "name": "stdout",
          "text": [
            "Epoch [122/5000] | Train Loss: 6.4268 | Eval Loss: 6.4292\n"
          ]
        },
        {
          "output_type": "stream",
          "name": "stderr",
          "text": [
            "Epoch 123/5000 (Training): 100%|██████████| 730/730 [00:03<00:00, 213.46it/s]\n",
            "Epoch 123/5000 (Validation): 100%|██████████| 730/730 [00:01<00:00, 657.22it/s]\n"
          ]
        },
        {
          "output_type": "stream",
          "name": "stdout",
          "text": [
            "Epoch [123/5000] | Train Loss: 6.4268 | Eval Loss: 6.4291\n"
          ]
        },
        {
          "output_type": "stream",
          "name": "stderr",
          "text": [
            "Epoch 124/5000 (Training): 100%|██████████| 730/730 [00:02<00:00, 271.91it/s]\n",
            "Epoch 124/5000 (Validation): 100%|██████████| 730/730 [00:00<00:00, 919.50it/s]\n"
          ]
        },
        {
          "output_type": "stream",
          "name": "stdout",
          "text": [
            "Epoch [124/5000] | Train Loss: 6.4269 | Eval Loss: 6.4291\n"
          ]
        },
        {
          "output_type": "stream",
          "name": "stderr",
          "text": [
            "Epoch 125/5000 (Training): 100%|██████████| 730/730 [00:02<00:00, 278.76it/s]\n",
            "Epoch 125/5000 (Validation): 100%|██████████| 730/730 [00:00<00:00, 888.80it/s]\n"
          ]
        },
        {
          "output_type": "stream",
          "name": "stdout",
          "text": [
            "Epoch [125/5000] | Train Loss: 6.4268 | Eval Loss: 6.4291\n"
          ]
        },
        {
          "output_type": "stream",
          "name": "stderr",
          "text": [
            "Epoch 126/5000 (Training): 100%|██████████| 730/730 [00:02<00:00, 274.95it/s]\n",
            "Epoch 126/5000 (Validation): 100%|██████████| 730/730 [00:00<00:00, 741.87it/s]\n"
          ]
        },
        {
          "output_type": "stream",
          "name": "stdout",
          "text": [
            "Epoch [126/5000] | Train Loss: 6.4268 | Eval Loss: 6.4291\n"
          ]
        },
        {
          "output_type": "stream",
          "name": "stderr",
          "text": [
            "Epoch 127/5000 (Training): 100%|██████████| 730/730 [00:03<00:00, 198.46it/s]\n",
            "Epoch 127/5000 (Validation): 100%|██████████| 730/730 [00:00<00:00, 891.86it/s]\n"
          ]
        },
        {
          "output_type": "stream",
          "name": "stdout",
          "text": [
            "Epoch [127/5000] | Train Loss: 6.4271 | Eval Loss: 6.4458\n"
          ]
        },
        {
          "output_type": "stream",
          "name": "stderr",
          "text": [
            "Epoch 128/5000 (Training): 100%|██████████| 730/730 [00:02<00:00, 277.61it/s]\n",
            "Epoch 128/5000 (Validation): 100%|██████████| 730/730 [00:00<00:00, 935.88it/s]\n"
          ]
        },
        {
          "output_type": "stream",
          "name": "stdout",
          "text": [
            "Epoch [128/5000] | Train Loss: 6.4267 | Eval Loss: 6.4298\n"
          ]
        },
        {
          "output_type": "stream",
          "name": "stderr",
          "text": [
            "Epoch 129/5000 (Training): 100%|██████████| 730/730 [00:02<00:00, 275.03it/s]\n",
            "Epoch 129/5000 (Validation): 100%|██████████| 730/730 [00:00<00:00, 934.60it/s]\n"
          ]
        },
        {
          "output_type": "stream",
          "name": "stdout",
          "text": [
            "Epoch [129/5000] | Train Loss: 6.4268 | Eval Loss: 6.4291\n"
          ]
        },
        {
          "output_type": "stream",
          "name": "stderr",
          "text": [
            "Epoch 130/5000 (Training): 100%|██████████| 730/730 [00:02<00:00, 247.02it/s]\n",
            "Epoch 130/5000 (Validation): 100%|██████████| 730/730 [00:01<00:00, 646.89it/s]\n"
          ]
        },
        {
          "output_type": "stream",
          "name": "stdout",
          "text": [
            "Epoch [130/5000] | Train Loss: 6.4271 | Eval Loss: 6.4552\n"
          ]
        },
        {
          "output_type": "stream",
          "name": "stderr",
          "text": [
            "Epoch 131/5000 (Training): 100%|██████████| 730/730 [00:03<00:00, 226.87it/s]\n",
            "Epoch 131/5000 (Validation): 100%|██████████| 730/730 [00:00<00:00, 904.10it/s]\n"
          ]
        },
        {
          "output_type": "stream",
          "name": "stdout",
          "text": [
            "Epoch [131/5000] | Train Loss: 6.4267 | Eval Loss: 6.4316\n"
          ]
        },
        {
          "output_type": "stream",
          "name": "stderr",
          "text": [
            "Epoch 132/5000 (Training): 100%|██████████| 730/730 [00:02<00:00, 273.30it/s]\n",
            "Epoch 132/5000 (Validation): 100%|██████████| 730/730 [00:00<00:00, 947.90it/s]\n"
          ]
        },
        {
          "output_type": "stream",
          "name": "stdout",
          "text": [
            "Epoch [132/5000] | Train Loss: 6.4268 | Eval Loss: 6.4295\n"
          ]
        },
        {
          "output_type": "stream",
          "name": "stderr",
          "text": [
            "Epoch 133/5000 (Training): 100%|██████████| 730/730 [00:02<00:00, 277.78it/s]\n",
            "Epoch 133/5000 (Validation): 100%|██████████| 730/730 [00:00<00:00, 927.80it/s]\n"
          ]
        },
        {
          "output_type": "stream",
          "name": "stdout",
          "text": [
            "Epoch [133/5000] | Train Loss: 6.4269 | Eval Loss: 6.4313\n"
          ]
        },
        {
          "output_type": "stream",
          "name": "stderr",
          "text": [
            "Epoch 134/5000 (Training): 100%|██████████| 730/730 [00:03<00:00, 218.69it/s]\n",
            "Epoch 134/5000 (Validation): 100%|██████████| 730/730 [00:01<00:00, 679.90it/s]\n"
          ]
        },
        {
          "output_type": "stream",
          "name": "stdout",
          "text": [
            "Epoch [134/5000] | Train Loss: 6.4266 | Eval Loss: 6.4296\n"
          ]
        },
        {
          "output_type": "stream",
          "name": "stderr",
          "text": [
            "Epoch 135/5000 (Training): 100%|██████████| 730/730 [00:02<00:00, 270.38it/s]\n",
            "Epoch 135/5000 (Validation): 100%|██████████| 730/730 [00:00<00:00, 908.45it/s]\n"
          ]
        },
        {
          "output_type": "stream",
          "name": "stdout",
          "text": [
            "Epoch [135/5000] | Train Loss: 6.4272 | Eval Loss: 6.4533\n"
          ]
        },
        {
          "output_type": "stream",
          "name": "stderr",
          "text": [
            "Epoch 136/5000 (Training): 100%|██████████| 730/730 [00:02<00:00, 276.28it/s]\n",
            "Epoch 136/5000 (Validation): 100%|██████████| 730/730 [00:00<00:00, 915.20it/s]\n"
          ]
        },
        {
          "output_type": "stream",
          "name": "stdout",
          "text": [
            "Epoch [136/5000] | Train Loss: 6.4267 | Eval Loss: 6.4324\n"
          ]
        },
        {
          "output_type": "stream",
          "name": "stderr",
          "text": [
            "Epoch 137/5000 (Training): 100%|██████████| 730/730 [00:02<00:00, 274.60it/s]\n",
            "Epoch 137/5000 (Validation): 100%|██████████| 730/730 [00:00<00:00, 813.60it/s]\n"
          ]
        },
        {
          "output_type": "stream",
          "name": "stdout",
          "text": [
            "Epoch [137/5000] | Train Loss: 6.4269 | Eval Loss: 6.4305\n"
          ]
        },
        {
          "output_type": "stream",
          "name": "stderr",
          "text": [
            "Epoch 138/5000 (Training): 100%|██████████| 730/730 [00:03<00:00, 200.39it/s]\n",
            "Epoch 138/5000 (Validation): 100%|██████████| 730/730 [00:00<00:00, 926.39it/s]\n"
          ]
        },
        {
          "output_type": "stream",
          "name": "stdout",
          "text": [
            "Epoch [138/5000] | Train Loss: 6.4266 | Eval Loss: 6.4309\n"
          ]
        },
        {
          "output_type": "stream",
          "name": "stderr",
          "text": [
            "Epoch 139/5000 (Training): 100%|██████████| 730/730 [00:02<00:00, 263.76it/s]\n",
            "Epoch 139/5000 (Validation): 100%|██████████| 730/730 [00:00<00:00, 919.32it/s]\n"
          ]
        },
        {
          "output_type": "stream",
          "name": "stdout",
          "text": [
            "Epoch [139/5000] | Train Loss: 6.4269 | Eval Loss: 6.4302\n"
          ]
        },
        {
          "output_type": "stream",
          "name": "stderr",
          "text": [
            "Epoch 140/5000 (Training): 100%|██████████| 730/730 [00:02<00:00, 277.17it/s]\n",
            "Epoch 140/5000 (Validation): 100%|██████████| 730/730 [00:00<00:00, 923.37it/s]\n"
          ]
        },
        {
          "output_type": "stream",
          "name": "stdout",
          "text": [
            "Epoch [140/5000] | Train Loss: 6.4270 | Eval Loss: 6.4389\n"
          ]
        },
        {
          "output_type": "stream",
          "name": "stderr",
          "text": [
            "Epoch 141/5000 (Training): 100%|██████████| 730/730 [00:02<00:00, 249.76it/s]\n",
            "Epoch 141/5000 (Validation): 100%|██████████| 730/730 [00:01<00:00, 647.57it/s]\n"
          ]
        },
        {
          "output_type": "stream",
          "name": "stdout",
          "text": [
            "Epoch [141/5000] | Train Loss: 6.4266 | Eval Loss: 6.4304\n"
          ]
        },
        {
          "output_type": "stream",
          "name": "stderr",
          "text": [
            "Epoch 142/5000 (Training): 100%|██████████| 730/730 [00:03<00:00, 226.71it/s]\n",
            "Epoch 142/5000 (Validation): 100%|██████████| 730/730 [00:00<00:00, 940.47it/s]\n"
          ]
        },
        {
          "output_type": "stream",
          "name": "stdout",
          "text": [
            "Epoch [142/5000] | Train Loss: 6.4266 | Eval Loss: 6.4303\n"
          ]
        },
        {
          "output_type": "stream",
          "name": "stderr",
          "text": [
            "Epoch 143/5000 (Training): 100%|██████████| 730/730 [00:02<00:00, 277.51it/s]\n",
            "Epoch 143/5000 (Validation): 100%|██████████| 730/730 [00:00<00:00, 930.76it/s]\n"
          ]
        },
        {
          "output_type": "stream",
          "name": "stdout",
          "text": [
            "Epoch [143/5000] | Train Loss: 6.4270 | Eval Loss: 6.4373\n"
          ]
        },
        {
          "output_type": "stream",
          "name": "stderr",
          "text": [
            "Epoch 144/5000 (Training): 100%|██████████| 730/730 [00:02<00:00, 281.36it/s]\n",
            "Epoch 144/5000 (Validation): 100%|██████████| 730/730 [00:00<00:00, 912.20it/s]\n"
          ]
        },
        {
          "output_type": "stream",
          "name": "stdout",
          "text": [
            "Epoch [144/5000] | Train Loss: 6.4266 | Eval Loss: 6.4305\n"
          ]
        },
        {
          "output_type": "stream",
          "name": "stderr",
          "text": [
            "Epoch 145/5000 (Training): 100%|██████████| 730/730 [00:03<00:00, 216.60it/s]\n",
            "Epoch 145/5000 (Validation): 100%|██████████| 730/730 [00:01<00:00, 667.89it/s]\n"
          ]
        },
        {
          "output_type": "stream",
          "name": "stdout",
          "text": [
            "Epoch [145/5000] | Train Loss: 6.4267 | Eval Loss: 6.4304\n"
          ]
        },
        {
          "output_type": "stream",
          "name": "stderr",
          "text": [
            "Epoch 146/5000 (Training): 100%|██████████| 730/730 [00:02<00:00, 267.70it/s]\n",
            "Epoch 146/5000 (Validation): 100%|██████████| 730/730 [00:00<00:00, 914.95it/s]\n"
          ]
        },
        {
          "output_type": "stream",
          "name": "stdout",
          "text": [
            "Epoch [146/5000] | Train Loss: 6.4270 | Eval Loss: 6.4372\n"
          ]
        },
        {
          "output_type": "stream",
          "name": "stderr",
          "text": [
            "Epoch 147/5000 (Training): 100%|██████████| 730/730 [00:02<00:00, 272.53it/s]\n",
            "Epoch 147/5000 (Validation): 100%|██████████| 730/730 [00:00<00:00, 881.94it/s]\n"
          ]
        },
        {
          "output_type": "stream",
          "name": "stdout",
          "text": [
            "Epoch [147/5000] | Train Loss: 6.4266 | Eval Loss: 6.4306\n"
          ]
        },
        {
          "output_type": "stream",
          "name": "stderr",
          "text": [
            "Epoch 148/5000 (Training): 100%|██████████| 730/730 [00:02<00:00, 272.88it/s]\n",
            "Epoch 148/5000 (Validation): 100%|██████████| 730/730 [00:00<00:00, 793.16it/s]\n"
          ]
        },
        {
          "output_type": "stream",
          "name": "stdout",
          "text": [
            "Epoch [148/5000] | Train Loss: 6.4267 | Eval Loss: 6.4305\n"
          ]
        },
        {
          "output_type": "stream",
          "name": "stderr",
          "text": [
            "Epoch 149/5000 (Training): 100%|██████████| 730/730 [00:03<00:00, 198.05it/s]\n",
            "Epoch 149/5000 (Validation): 100%|██████████| 730/730 [00:00<00:00, 930.81it/s]\n"
          ]
        },
        {
          "output_type": "stream",
          "name": "stdout",
          "text": [
            "Epoch [149/5000] | Train Loss: 6.4270 | Eval Loss: 6.4372\n"
          ]
        },
        {
          "output_type": "stream",
          "name": "stderr",
          "text": [
            "Epoch 150/5000 (Training): 100%|██████████| 730/730 [00:02<00:00, 276.04it/s]\n",
            "Epoch 150/5000 (Validation): 100%|██████████| 730/730 [00:00<00:00, 879.97it/s]\n"
          ]
        },
        {
          "output_type": "stream",
          "name": "stdout",
          "text": [
            "Epoch [150/5000] | Train Loss: 6.4266 | Eval Loss: 6.4307\n"
          ]
        },
        {
          "output_type": "stream",
          "name": "stderr",
          "text": [
            "Epoch 151/5000 (Training): 100%|██████████| 730/730 [00:02<00:00, 274.76it/s]\n",
            "Epoch 151/5000 (Validation): 100%|██████████| 730/730 [00:00<00:00, 898.04it/s]\n"
          ]
        },
        {
          "output_type": "stream",
          "name": "stdout",
          "text": [
            "Epoch [151/5000] | Train Loss: 6.4267 | Eval Loss: 6.4305\n"
          ]
        },
        {
          "output_type": "stream",
          "name": "stderr",
          "text": [
            "Epoch 152/5000 (Training): 100%|██████████| 730/730 [00:03<00:00, 239.65it/s]\n",
            "Epoch 152/5000 (Validation): 100%|██████████| 730/730 [00:01<00:00, 626.64it/s]\n"
          ]
        },
        {
          "output_type": "stream",
          "name": "stdout",
          "text": [
            "Epoch [152/5000] | Train Loss: 6.4270 | Eval Loss: 6.4371\n"
          ]
        },
        {
          "output_type": "stream",
          "name": "stderr",
          "text": [
            "Epoch 153/5000 (Training): 100%|██████████| 730/730 [00:03<00:00, 215.31it/s]\n",
            "Epoch 153/5000 (Validation): 100%|██████████| 730/730 [00:00<00:00, 884.90it/s]\n"
          ]
        },
        {
          "output_type": "stream",
          "name": "stdout",
          "text": [
            "Epoch [153/5000] | Train Loss: 6.4266 | Eval Loss: 6.4307\n"
          ]
        },
        {
          "output_type": "stream",
          "name": "stderr",
          "text": [
            "Epoch 154/5000 (Training): 100%|██████████| 730/730 [00:02<00:00, 261.05it/s]\n",
            "Epoch 154/5000 (Validation): 100%|██████████| 730/730 [00:00<00:00, 868.60it/s]\n"
          ]
        },
        {
          "output_type": "stream",
          "name": "stdout",
          "text": [
            "Epoch [154/5000] | Train Loss: 6.4266 | Eval Loss: 6.4306\n"
          ]
        },
        {
          "output_type": "stream",
          "name": "stderr",
          "text": [
            "Epoch 155/5000 (Training): 100%|██████████| 730/730 [00:02<00:00, 256.17it/s]\n",
            "Epoch 155/5000 (Validation): 100%|██████████| 730/730 [00:00<00:00, 855.35it/s]\n"
          ]
        },
        {
          "output_type": "stream",
          "name": "stdout",
          "text": [
            "Epoch [155/5000] | Train Loss: 6.4270 | Eval Loss: 6.4372\n"
          ]
        },
        {
          "output_type": "stream",
          "name": "stderr",
          "text": [
            "Epoch 156/5000 (Training): 100%|██████████| 730/730 [00:03<00:00, 190.18it/s]\n",
            "Epoch 156/5000 (Validation): 100%|██████████| 730/730 [00:00<00:00, 763.56it/s]\n"
          ]
        },
        {
          "output_type": "stream",
          "name": "stdout",
          "text": [
            "Epoch [156/5000] | Train Loss: 6.4266 | Eval Loss: 6.4308\n"
          ]
        },
        {
          "output_type": "stream",
          "name": "stderr",
          "text": [
            "Epoch 157/5000 (Training): 100%|██████████| 730/730 [00:02<00:00, 258.00it/s]\n",
            "Epoch 157/5000 (Validation): 100%|██████████| 730/730 [00:00<00:00, 885.66it/s]\n"
          ]
        },
        {
          "output_type": "stream",
          "name": "stdout",
          "text": [
            "Epoch [157/5000] | Train Loss: 6.4266 | Eval Loss: 6.4307\n"
          ]
        },
        {
          "output_type": "stream",
          "name": "stderr",
          "text": [
            "Epoch 158/5000 (Training): 100%|██████████| 730/730 [00:02<00:00, 257.45it/s]\n",
            "Epoch 158/5000 (Validation): 100%|██████████| 730/730 [00:00<00:00, 904.05it/s]\n"
          ]
        },
        {
          "output_type": "stream",
          "name": "stdout",
          "text": [
            "Epoch [158/5000] | Train Loss: 6.4270 | Eval Loss: 6.4372\n"
          ]
        },
        {
          "output_type": "stream",
          "name": "stderr",
          "text": [
            "Epoch 159/5000 (Training): 100%|██████████| 730/730 [00:03<00:00, 234.65it/s]\n",
            "Epoch 159/5000 (Validation): 100%|██████████| 730/730 [00:01<00:00, 621.13it/s]\n"
          ]
        },
        {
          "output_type": "stream",
          "name": "stdout",
          "text": [
            "Epoch [159/5000] | Train Loss: 6.4266 | Eval Loss: 6.4308\n"
          ]
        },
        {
          "output_type": "stream",
          "name": "stderr",
          "text": [
            "Epoch 160/5000 (Training): 100%|██████████| 730/730 [00:03<00:00, 219.70it/s]\n",
            "Epoch 160/5000 (Validation): 100%|██████████| 730/730 [00:00<00:00, 854.72it/s]\n"
          ]
        },
        {
          "output_type": "stream",
          "name": "stdout",
          "text": [
            "Epoch [160/5000] | Train Loss: 6.4266 | Eval Loss: 6.4307\n"
          ]
        },
        {
          "output_type": "stream",
          "name": "stderr",
          "text": [
            "Epoch 161/5000 (Training): 100%|██████████| 730/730 [00:02<00:00, 264.90it/s]\n",
            "Epoch 161/5000 (Validation): 100%|██████████| 730/730 [00:00<00:00, 871.31it/s]\n"
          ]
        },
        {
          "output_type": "stream",
          "name": "stdout",
          "text": [
            "Epoch [161/5000] | Train Loss: 6.4270 | Eval Loss: 6.4395\n"
          ]
        },
        {
          "output_type": "stream",
          "name": "stderr",
          "text": [
            "Epoch 162/5000 (Training): 100%|██████████| 730/730 [00:02<00:00, 264.26it/s]\n",
            "Epoch 162/5000 (Validation): 100%|██████████| 730/730 [00:00<00:00, 885.26it/s]\n"
          ]
        },
        {
          "output_type": "stream",
          "name": "stdout",
          "text": [
            "Epoch [162/5000] | Train Loss: 6.4266 | Eval Loss: 6.4310\n"
          ]
        },
        {
          "output_type": "stream",
          "name": "stderr",
          "text": [
            "Epoch 163/5000 (Training): 100%|██████████| 730/730 [00:03<00:00, 201.99it/s]\n",
            "Epoch 163/5000 (Validation): 100%|██████████| 730/730 [00:00<00:00, 731.19it/s]\n"
          ]
        },
        {
          "output_type": "stream",
          "name": "stdout",
          "text": [
            "Epoch [163/5000] | Train Loss: 6.4266 | Eval Loss: 6.4298\n"
          ]
        },
        {
          "output_type": "stream",
          "name": "stderr",
          "text": [
            "Epoch 164/5000 (Training): 100%|██████████| 730/730 [00:02<00:00, 277.51it/s]\n",
            "Epoch 164/5000 (Validation): 100%|██████████| 730/730 [00:00<00:00, 912.57it/s]\n"
          ]
        },
        {
          "output_type": "stream",
          "name": "stdout",
          "text": [
            "Epoch [164/5000] | Train Loss: 6.4267 | Eval Loss: 6.4306\n"
          ]
        },
        {
          "output_type": "stream",
          "name": "stderr",
          "text": [
            "Epoch 165/5000 (Training): 100%|██████████| 730/730 [00:02<00:00, 273.60it/s]\n",
            "Epoch 165/5000 (Validation): 100%|██████████| 730/730 [00:00<00:00, 931.98it/s]\n"
          ]
        },
        {
          "output_type": "stream",
          "name": "stdout",
          "text": [
            "Epoch [165/5000] | Train Loss: 6.4270 | Eval Loss: 6.4395\n"
          ]
        },
        {
          "output_type": "stream",
          "name": "stderr",
          "text": [
            "Epoch 166/5000 (Training): 100%|██████████| 730/730 [00:02<00:00, 270.48it/s]\n",
            "Epoch 166/5000 (Validation): 100%|██████████| 730/730 [00:01<00:00, 640.12it/s]\n"
          ]
        },
        {
          "output_type": "stream",
          "name": "stdout",
          "text": [
            "Epoch [166/5000] | Train Loss: 6.4266 | Eval Loss: 6.4311\n"
          ]
        },
        {
          "output_type": "stream",
          "name": "stderr",
          "text": [
            "Epoch 167/5000 (Training): 100%|██████████| 730/730 [00:03<00:00, 213.40it/s]\n",
            "Epoch 167/5000 (Validation): 100%|██████████| 730/730 [00:00<00:00, 952.89it/s]\n"
          ]
        },
        {
          "output_type": "stream",
          "name": "stdout",
          "text": [
            "Epoch [167/5000] | Train Loss: 6.4266 | Eval Loss: 6.4301\n"
          ]
        },
        {
          "output_type": "stream",
          "name": "stderr",
          "text": [
            "Epoch 168/5000 (Training): 100%|██████████| 730/730 [00:02<00:00, 273.87it/s]\n",
            "Epoch 168/5000 (Validation): 100%|██████████| 730/730 [00:00<00:00, 916.88it/s]\n"
          ]
        },
        {
          "output_type": "stream",
          "name": "stdout",
          "text": [
            "Epoch [168/5000] | Train Loss: 6.4270 | Eval Loss: 6.4405\n"
          ]
        },
        {
          "output_type": "stream",
          "name": "stderr",
          "text": [
            "Epoch 169/5000 (Training): 100%|██████████| 730/730 [00:02<00:00, 270.57it/s]\n",
            "Epoch 169/5000 (Validation): 100%|██████████| 730/730 [00:00<00:00, 926.89it/s]\n"
          ]
        },
        {
          "output_type": "stream",
          "name": "stdout",
          "text": [
            "Epoch [169/5000] | Train Loss: 6.4266 | Eval Loss: 6.4313\n"
          ]
        },
        {
          "output_type": "stream",
          "name": "stderr",
          "text": [
            "Epoch 170/5000 (Training): 100%|██████████| 730/730 [00:03<00:00, 230.35it/s]\n",
            "Epoch 170/5000 (Validation): 100%|██████████| 730/730 [00:01<00:00, 652.57it/s]\n"
          ]
        },
        {
          "output_type": "stream",
          "name": "stdout",
          "text": [
            "Epoch [170/5000] | Train Loss: 6.4266 | Eval Loss: 6.4307\n"
          ]
        },
        {
          "output_type": "stream",
          "name": "stderr",
          "text": [
            "Epoch 171/5000 (Training): 100%|██████████| 730/730 [00:03<00:00, 238.97it/s]\n",
            "Epoch 171/5000 (Validation): 100%|██████████| 730/730 [00:00<00:00, 924.36it/s]\n"
          ]
        },
        {
          "output_type": "stream",
          "name": "stdout",
          "text": [
            "Epoch [171/5000] | Train Loss: 6.4270 | Eval Loss: 6.4388\n"
          ]
        },
        {
          "output_type": "stream",
          "name": "stderr",
          "text": [
            "Epoch 172/5000 (Training): 100%|██████████| 730/730 [00:02<00:00, 278.23it/s]\n",
            "Epoch 172/5000 (Validation): 100%|██████████| 730/730 [00:00<00:00, 940.99it/s]\n"
          ]
        },
        {
          "output_type": "stream",
          "name": "stdout",
          "text": [
            "Epoch [172/5000] | Train Loss: 6.4266 | Eval Loss: 6.4312\n"
          ]
        },
        {
          "output_type": "stream",
          "name": "stderr",
          "text": [
            "Epoch 173/5000 (Training): 100%|██████████| 730/730 [00:02<00:00, 278.90it/s]\n",
            "Epoch 173/5000 (Validation): 100%|██████████| 730/730 [00:00<00:00, 933.18it/s]\n"
          ]
        },
        {
          "output_type": "stream",
          "name": "stdout",
          "text": [
            "Epoch [173/5000] | Train Loss: 6.4266 | Eval Loss: 6.4302\n"
          ]
        },
        {
          "output_type": "stream",
          "name": "stderr",
          "text": [
            "Epoch 174/5000 (Training): 100%|██████████| 730/730 [00:03<00:00, 206.28it/s]\n",
            "Epoch 174/5000 (Validation): 100%|██████████| 730/730 [00:01<00:00, 685.10it/s]\n"
          ]
        },
        {
          "output_type": "stream",
          "name": "stdout",
          "text": [
            "Epoch [174/5000] | Train Loss: 6.4266 | Eval Loss: 6.4300\n"
          ]
        },
        {
          "output_type": "stream",
          "name": "stderr",
          "text": [
            "Epoch 175/5000 (Training): 100%|██████████| 730/730 [00:02<00:00, 277.44it/s]\n",
            "Epoch 175/5000 (Validation): 100%|██████████| 730/730 [00:00<00:00, 901.46it/s]\n"
          ]
        },
        {
          "output_type": "stream",
          "name": "stdout",
          "text": [
            "Epoch [175/5000] | Train Loss: 6.4270 | Eval Loss: 6.4395\n"
          ]
        },
        {
          "output_type": "stream",
          "name": "stderr",
          "text": [
            "Epoch 176/5000 (Training): 100%|██████████| 730/730 [00:02<00:00, 278.88it/s]\n",
            "Epoch 176/5000 (Validation): 100%|██████████| 730/730 [00:00<00:00, 920.92it/s]\n"
          ]
        },
        {
          "output_type": "stream",
          "name": "stdout",
          "text": [
            "Epoch [176/5000] | Train Loss: 6.4266 | Eval Loss: 6.4314\n"
          ]
        },
        {
          "output_type": "stream",
          "name": "stderr",
          "text": [
            "Epoch 177/5000 (Training): 100%|██████████| 730/730 [00:02<00:00, 276.43it/s]\n",
            "Epoch 177/5000 (Validation): 100%|██████████| 730/730 [00:00<00:00, 763.74it/s]\n"
          ]
        },
        {
          "output_type": "stream",
          "name": "stdout",
          "text": [
            "Epoch [177/5000] | Train Loss: 6.4266 | Eval Loss: 6.4308\n"
          ]
        },
        {
          "output_type": "stream",
          "name": "stderr",
          "text": [
            "Epoch 178/5000 (Training): 100%|██████████| 730/730 [00:03<00:00, 201.34it/s]\n",
            "Epoch 178/5000 (Validation): 100%|██████████| 730/730 [00:00<00:00, 928.43it/s]\n"
          ]
        },
        {
          "output_type": "stream",
          "name": "stdout",
          "text": [
            "Epoch [178/5000] | Train Loss: 6.4267 | Eval Loss: 6.4300\n"
          ]
        },
        {
          "output_type": "stream",
          "name": "stderr",
          "text": [
            "Epoch 179/5000 (Training): 100%|██████████| 730/730 [00:02<00:00, 278.71it/s]\n",
            "Epoch 179/5000 (Validation): 100%|██████████| 730/730 [00:00<00:00, 940.11it/s]\n"
          ]
        },
        {
          "output_type": "stream",
          "name": "stdout",
          "text": [
            "Epoch [179/5000] | Train Loss: 6.4266 | Eval Loss: 6.4310\n"
          ]
        },
        {
          "output_type": "stream",
          "name": "stderr",
          "text": [
            "Epoch 180/5000 (Training): 100%|██████████| 730/730 [00:02<00:00, 266.01it/s]\n",
            "Epoch 180/5000 (Validation): 100%|██████████| 730/730 [00:00<00:00, 906.64it/s]\n"
          ]
        },
        {
          "output_type": "stream",
          "name": "stdout",
          "text": [
            "Epoch [180/5000] | Train Loss: 6.4267 | Eval Loss: 6.4311\n"
          ]
        },
        {
          "output_type": "stream",
          "name": "stderr",
          "text": [
            "Epoch 181/5000 (Training): 100%|██████████| 730/730 [00:03<00:00, 240.50it/s]\n",
            "Epoch 181/5000 (Validation): 100%|██████████| 730/730 [00:01<00:00, 691.87it/s]\n"
          ]
        },
        {
          "output_type": "stream",
          "name": "stdout",
          "text": [
            "Epoch [181/5000] | Train Loss: 6.4267 | Eval Loss: 6.4303\n"
          ]
        },
        {
          "output_type": "stream",
          "name": "stderr",
          "text": [
            "Epoch 182/5000 (Training): 100%|██████████| 730/730 [00:03<00:00, 234.37it/s]\n",
            "Epoch 182/5000 (Validation): 100%|██████████| 730/730 [00:00<00:00, 939.48it/s]\n"
          ]
        },
        {
          "output_type": "stream",
          "name": "stdout",
          "text": [
            "Epoch [182/5000] | Train Loss: 6.4267 | Eval Loss: 6.4312\n"
          ]
        },
        {
          "output_type": "stream",
          "name": "stderr",
          "text": [
            "Epoch 183/5000 (Training): 100%|██████████| 730/730 [00:02<00:00, 281.21it/s]\n",
            "Epoch 183/5000 (Validation): 100%|██████████| 730/730 [00:00<00:00, 933.35it/s]\n"
          ]
        },
        {
          "output_type": "stream",
          "name": "stdout",
          "text": [
            "Epoch [183/5000] | Train Loss: 6.4267 | Eval Loss: 6.4304\n"
          ]
        },
        {
          "output_type": "stream",
          "name": "stderr",
          "text": [
            "Epoch 184/5000 (Training): 100%|██████████| 730/730 [00:02<00:00, 279.82it/s]\n",
            "Epoch 184/5000 (Validation): 100%|██████████| 730/730 [00:00<00:00, 892.56it/s]\n"
          ]
        },
        {
          "output_type": "stream",
          "name": "stdout",
          "text": [
            "Epoch [184/5000] | Train Loss: 6.4267 | Eval Loss: 6.4304\n"
          ]
        },
        {
          "output_type": "stream",
          "name": "stderr",
          "text": [
            "Epoch 185/5000 (Training): 100%|██████████| 730/730 [00:03<00:00, 216.57it/s]\n",
            "Epoch 185/5000 (Validation): 100%|██████████| 730/730 [00:01<00:00, 666.36it/s]\n"
          ]
        },
        {
          "output_type": "stream",
          "name": "stdout",
          "text": [
            "Epoch [185/5000] | Train Loss: 6.4266 | Eval Loss: 6.4305\n"
          ]
        },
        {
          "output_type": "stream",
          "name": "stderr",
          "text": [
            "Epoch 186/5000 (Training): 100%|██████████| 730/730 [00:02<00:00, 257.54it/s]\n",
            "Epoch 186/5000 (Validation): 100%|██████████| 730/730 [00:00<00:00, 907.51it/s]\n"
          ]
        },
        {
          "output_type": "stream",
          "name": "stdout",
          "text": [
            "Epoch [186/5000] | Train Loss: 6.4267 | Eval Loss: 6.4305\n"
          ]
        },
        {
          "output_type": "stream",
          "name": "stderr",
          "text": [
            "Epoch 187/5000 (Training): 100%|██████████| 730/730 [00:02<00:00, 275.76it/s]\n",
            "Epoch 187/5000 (Validation): 100%|██████████| 730/730 [00:00<00:00, 929.18it/s]\n"
          ]
        },
        {
          "output_type": "stream",
          "name": "stdout",
          "text": [
            "Epoch [187/5000] | Train Loss: 6.4267 | Eval Loss: 6.4305\n"
          ]
        },
        {
          "output_type": "stream",
          "name": "stderr",
          "text": [
            "Epoch 188/5000 (Training): 100%|██████████| 730/730 [00:02<00:00, 279.53it/s]\n",
            "Epoch 188/5000 (Validation): 100%|██████████| 730/730 [00:00<00:00, 940.18it/s]\n"
          ]
        },
        {
          "output_type": "stream",
          "name": "stdout",
          "text": [
            "Epoch [188/5000] | Train Loss: 6.4267 | Eval Loss: 6.4324\n"
          ]
        },
        {
          "output_type": "stream",
          "name": "stderr",
          "text": [
            "Epoch 189/5000 (Training): 100%|██████████| 730/730 [00:03<00:00, 190.31it/s]\n",
            "Epoch 189/5000 (Validation): 100%|██████████| 730/730 [00:00<00:00, 834.20it/s]\n"
          ]
        },
        {
          "output_type": "stream",
          "name": "stdout",
          "text": [
            "Epoch [189/5000] | Train Loss: 6.4269 | Eval Loss: 6.4280\n"
          ]
        },
        {
          "output_type": "stream",
          "name": "stderr",
          "text": [
            "Epoch 190/5000 (Training): 100%|██████████| 730/730 [00:02<00:00, 276.18it/s]\n",
            "Epoch 190/5000 (Validation): 100%|██████████| 730/730 [00:00<00:00, 882.47it/s]\n"
          ]
        },
        {
          "output_type": "stream",
          "name": "stdout",
          "text": [
            "Epoch [190/5000] | Train Loss: 6.4266 | Eval Loss: 6.4315\n"
          ]
        },
        {
          "output_type": "stream",
          "name": "stderr",
          "text": [
            "Epoch 191/5000 (Training): 100%|██████████| 730/730 [00:02<00:00, 272.50it/s]\n",
            "Epoch 191/5000 (Validation): 100%|██████████| 730/730 [00:00<00:00, 920.54it/s]\n"
          ]
        },
        {
          "output_type": "stream",
          "name": "stdout",
          "text": [
            "Epoch [191/5000] | Train Loss: 6.4267 | Eval Loss: 6.4325\n"
          ]
        },
        {
          "output_type": "stream",
          "name": "stderr",
          "text": [
            "Epoch 192/5000 (Training): 100%|██████████| 730/730 [00:02<00:00, 263.40it/s]\n",
            "Epoch 192/5000 (Validation): 100%|██████████| 730/730 [00:01<00:00, 632.93it/s]\n"
          ]
        },
        {
          "output_type": "stream",
          "name": "stdout",
          "text": [
            "Epoch [192/5000] | Train Loss: 6.4269 | Eval Loss: 6.4281\n"
          ]
        },
        {
          "output_type": "stream",
          "name": "stderr",
          "text": [
            "Epoch 193/5000 (Training): 100%|██████████| 730/730 [00:03<00:00, 216.33it/s]\n",
            "Epoch 193/5000 (Validation): 100%|██████████| 730/730 [00:00<00:00, 902.53it/s]\n"
          ]
        },
        {
          "output_type": "stream",
          "name": "stdout",
          "text": [
            "Epoch [193/5000] | Train Loss: 6.4266 | Eval Loss: 6.4316\n"
          ]
        },
        {
          "output_type": "stream",
          "name": "stderr",
          "text": [
            "Epoch 194/5000 (Training): 100%|██████████| 730/730 [00:02<00:00, 275.61it/s]\n",
            "Epoch 194/5000 (Validation): 100%|██████████| 730/730 [00:00<00:00, 853.90it/s]\n"
          ]
        },
        {
          "output_type": "stream",
          "name": "stdout",
          "text": [
            "Epoch [194/5000] | Train Loss: 6.4267 | Eval Loss: 6.4325\n"
          ]
        },
        {
          "output_type": "stream",
          "name": "stderr",
          "text": [
            "Epoch 195/5000 (Training): 100%|██████████| 730/730 [00:02<00:00, 271.10it/s]\n",
            "Epoch 195/5000 (Validation): 100%|██████████| 730/730 [00:00<00:00, 897.53it/s]\n"
          ]
        },
        {
          "output_type": "stream",
          "name": "stdout",
          "text": [
            "Epoch [195/5000] | Train Loss: 6.4269 | Eval Loss: 6.4281\n"
          ]
        },
        {
          "output_type": "stream",
          "name": "stderr",
          "text": [
            "Epoch 196/5000 (Training): 100%|██████████| 730/730 [00:03<00:00, 215.51it/s]\n",
            "Epoch 196/5000 (Validation): 100%|██████████| 730/730 [00:01<00:00, 672.52it/s]\n"
          ]
        },
        {
          "output_type": "stream",
          "name": "stdout",
          "text": [
            "Epoch [196/5000] | Train Loss: 6.4266 | Eval Loss: 6.4316\n"
          ]
        },
        {
          "output_type": "stream",
          "name": "stderr",
          "text": [
            "Epoch 197/5000 (Training): 100%|██████████| 730/730 [00:02<00:00, 258.55it/s]\n",
            "Epoch 197/5000 (Validation): 100%|██████████| 730/730 [00:00<00:00, 916.22it/s]\n"
          ]
        },
        {
          "output_type": "stream",
          "name": "stdout",
          "text": [
            "Epoch [197/5000] | Train Loss: 6.4267 | Eval Loss: 6.4325\n"
          ]
        },
        {
          "output_type": "stream",
          "name": "stderr",
          "text": [
            "Epoch 198/5000 (Training): 100%|██████████| 730/730 [00:02<00:00, 277.05it/s]\n",
            "Epoch 198/5000 (Validation): 100%|██████████| 730/730 [00:00<00:00, 917.35it/s]\n"
          ]
        },
        {
          "output_type": "stream",
          "name": "stdout",
          "text": [
            "Epoch [198/5000] | Train Loss: 6.4269 | Eval Loss: 6.4282\n"
          ]
        },
        {
          "output_type": "stream",
          "name": "stderr",
          "text": [
            "Epoch 199/5000 (Training): 100%|██████████| 730/730 [00:02<00:00, 276.80it/s]\n",
            "Epoch 199/5000 (Validation): 100%|██████████| 730/730 [00:00<00:00, 876.92it/s]\n"
          ]
        },
        {
          "output_type": "stream",
          "name": "stdout",
          "text": [
            "Epoch [199/5000] | Train Loss: 6.4266 | Eval Loss: 6.4317\n"
          ]
        },
        {
          "output_type": "stream",
          "name": "stderr",
          "text": [
            "Epoch 200/5000 (Training): 100%|██████████| 730/730 [00:03<00:00, 194.10it/s]\n",
            "Epoch 200/5000 (Validation): 100%|██████████| 730/730 [00:00<00:00, 835.37it/s]\n"
          ]
        },
        {
          "output_type": "stream",
          "name": "stdout",
          "text": [
            "Epoch [200/5000] | Train Loss: 6.4266 | Eval Loss: 6.4325\n"
          ]
        },
        {
          "output_type": "stream",
          "name": "stderr",
          "text": [
            "Epoch 201/5000 (Training): 100%|██████████| 730/730 [00:02<00:00, 273.99it/s]\n",
            "Epoch 201/5000 (Validation): 100%|██████████| 730/730 [00:00<00:00, 906.80it/s]\n"
          ]
        },
        {
          "output_type": "stream",
          "name": "stdout",
          "text": [
            "Epoch [201/5000] | Train Loss: 6.4269 | Eval Loss: 6.4284\n"
          ]
        },
        {
          "output_type": "stream",
          "name": "stderr",
          "text": [
            "Epoch 202/5000 (Training): 100%|██████████| 730/730 [00:02<00:00, 273.28it/s]\n",
            "Epoch 202/5000 (Validation): 100%|██████████| 730/730 [00:00<00:00, 891.15it/s]\n"
          ]
        },
        {
          "output_type": "stream",
          "name": "stdout",
          "text": [
            "Epoch [202/5000] | Train Loss: 6.4266 | Eval Loss: 6.4318\n"
          ]
        },
        {
          "output_type": "stream",
          "name": "stderr",
          "text": [
            "Epoch 203/5000 (Training): 100%|██████████| 730/730 [00:02<00:00, 260.31it/s]\n",
            "Epoch 203/5000 (Validation): 100%|██████████| 730/730 [00:01<00:00, 642.15it/s]\n"
          ]
        },
        {
          "output_type": "stream",
          "name": "stdout",
          "text": [
            "Epoch [203/5000] | Train Loss: 6.4266 | Eval Loss: 6.4326\n"
          ]
        },
        {
          "output_type": "stream",
          "name": "stderr",
          "text": [
            "Epoch 204/5000 (Training): 100%|██████████| 730/730 [00:03<00:00, 217.46it/s]\n",
            "Epoch 204/5000 (Validation): 100%|██████████| 730/730 [00:00<00:00, 914.18it/s]\n"
          ]
        },
        {
          "output_type": "stream",
          "name": "stdout",
          "text": [
            "Epoch [204/5000] | Train Loss: 6.4269 | Eval Loss: 6.4285\n"
          ]
        },
        {
          "output_type": "stream",
          "name": "stderr",
          "text": [
            "Epoch 205/5000 (Training): 100%|██████████| 730/730 [00:02<00:00, 262.74it/s]\n",
            "Epoch 205/5000 (Validation): 100%|██████████| 730/730 [00:00<00:00, 903.98it/s]\n"
          ]
        },
        {
          "output_type": "stream",
          "name": "stdout",
          "text": [
            "Epoch [205/5000] | Train Loss: 6.4266 | Eval Loss: 6.4318\n"
          ]
        },
        {
          "output_type": "stream",
          "name": "stderr",
          "text": [
            "Epoch 206/5000 (Training): 100%|██████████| 730/730 [00:02<00:00, 277.24it/s]\n",
            "Epoch 206/5000 (Validation): 100%|██████████| 730/730 [00:00<00:00, 934.02it/s]\n"
          ]
        },
        {
          "output_type": "stream",
          "name": "stdout",
          "text": [
            "Epoch [206/5000] | Train Loss: 6.4266 | Eval Loss: 6.4326\n"
          ]
        },
        {
          "output_type": "stream",
          "name": "stderr",
          "text": [
            "Epoch 207/5000 (Training): 100%|██████████| 730/730 [00:03<00:00, 224.75it/s]\n",
            "Epoch 207/5000 (Validation): 100%|██████████| 730/730 [00:01<00:00, 648.95it/s]\n"
          ]
        },
        {
          "output_type": "stream",
          "name": "stdout",
          "text": [
            "Epoch [207/5000] | Train Loss: 6.4269 | Eval Loss: 6.4286\n"
          ]
        },
        {
          "output_type": "stream",
          "name": "stderr",
          "text": [
            "Epoch 208/5000 (Training): 100%|██████████| 730/730 [00:02<00:00, 253.58it/s]\n",
            "Epoch 208/5000 (Validation): 100%|██████████| 730/730 [00:00<00:00, 910.28it/s]\n"
          ]
        },
        {
          "output_type": "stream",
          "name": "stdout",
          "text": [
            "Epoch [208/5000] | Train Loss: 6.4266 | Eval Loss: 6.4319\n"
          ]
        },
        {
          "output_type": "stream",
          "name": "stderr",
          "text": [
            "Epoch 209/5000 (Training): 100%|██████████| 730/730 [00:02<00:00, 278.14it/s]\n",
            "Epoch 209/5000 (Validation): 100%|██████████| 730/730 [00:00<00:00, 921.46it/s]\n"
          ]
        },
        {
          "output_type": "stream",
          "name": "stdout",
          "text": [
            "Epoch [209/5000] | Train Loss: 6.4266 | Eval Loss: 6.4326\n"
          ]
        },
        {
          "output_type": "stream",
          "name": "stderr",
          "text": [
            "Epoch 210/5000 (Training): 100%|██████████| 730/730 [00:02<00:00, 276.17it/s]\n",
            "Epoch 210/5000 (Validation): 100%|██████████| 730/730 [00:00<00:00, 878.06it/s]\n"
          ]
        },
        {
          "output_type": "stream",
          "name": "stdout",
          "text": [
            "Epoch [210/5000] | Train Loss: 6.4270 | Eval Loss: 6.4401\n"
          ]
        },
        {
          "output_type": "stream",
          "name": "stderr",
          "text": [
            "Epoch 211/5000 (Training): 100%|██████████| 730/730 [00:03<00:00, 192.06it/s]\n",
            "Epoch 211/5000 (Validation): 100%|██████████| 730/730 [00:00<00:00, 871.47it/s]\n"
          ]
        },
        {
          "output_type": "stream",
          "name": "stdout",
          "text": [
            "Epoch [211/5000] | Train Loss: 6.4265 | Eval Loss: 6.4323\n"
          ]
        },
        {
          "output_type": "stream",
          "name": "stderr",
          "text": [
            "Epoch 212/5000 (Training): 100%|██████████| 730/730 [00:02<00:00, 273.88it/s]\n",
            "Epoch 212/5000 (Validation): 100%|██████████| 730/730 [00:00<00:00, 930.12it/s]\n"
          ]
        },
        {
          "output_type": "stream",
          "name": "stdout",
          "text": [
            "Epoch [212/5000] | Train Loss: 6.4266 | Eval Loss: 6.4318\n"
          ]
        },
        {
          "output_type": "stream",
          "name": "stderr",
          "text": [
            "Epoch 213/5000 (Training): 100%|██████████| 730/730 [00:02<00:00, 274.85it/s]\n",
            "Epoch 213/5000 (Validation): 100%|██████████| 730/730 [00:00<00:00, 923.03it/s]\n"
          ]
        },
        {
          "output_type": "stream",
          "name": "stdout",
          "text": [
            "Epoch [213/5000] | Train Loss: 6.4267 | Eval Loss: 6.4327\n"
          ]
        },
        {
          "output_type": "stream",
          "name": "stderr",
          "text": [
            "Epoch 214/5000 (Training): 100%|██████████| 730/730 [00:02<00:00, 265.70it/s]\n",
            "Epoch 214/5000 (Validation): 100%|██████████| 730/730 [00:01<00:00, 642.91it/s]\n"
          ]
        },
        {
          "output_type": "stream",
          "name": "stdout",
          "text": [
            "Epoch [214/5000] | Train Loss: 6.4270 | Eval Loss: 6.4404\n"
          ]
        },
        {
          "output_type": "stream",
          "name": "stderr",
          "text": [
            "Epoch 215/5000 (Training): 100%|██████████| 730/730 [00:03<00:00, 216.66it/s]\n",
            "Epoch 215/5000 (Validation): 100%|██████████| 730/730 [00:00<00:00, 931.71it/s]\n"
          ]
        },
        {
          "output_type": "stream",
          "name": "stdout",
          "text": [
            "Epoch [215/5000] | Train Loss: 6.4265 | Eval Loss: 6.4324\n"
          ]
        },
        {
          "output_type": "stream",
          "name": "stderr",
          "text": [
            "Epoch 216/5000 (Training): 100%|██████████| 730/730 [00:02<00:00, 275.35it/s]\n",
            "Epoch 216/5000 (Validation): 100%|██████████| 730/730 [00:00<00:00, 899.71it/s]\n"
          ]
        },
        {
          "output_type": "stream",
          "name": "stdout",
          "text": [
            "Epoch [216/5000] | Train Loss: 6.4266 | Eval Loss: 6.4322\n"
          ]
        },
        {
          "output_type": "stream",
          "name": "stderr",
          "text": [
            "Epoch 217/5000 (Training): 100%|██████████| 730/730 [00:02<00:00, 275.61it/s]\n",
            "Epoch 217/5000 (Validation): 100%|██████████| 730/730 [00:00<00:00, 896.34it/s]\n"
          ]
        },
        {
          "output_type": "stream",
          "name": "stdout",
          "text": [
            "Epoch [217/5000] | Train Loss: 6.4270 | Eval Loss: 6.4416\n"
          ]
        },
        {
          "output_type": "stream",
          "name": "stderr",
          "text": [
            "Epoch 218/5000 (Training): 100%|██████████| 730/730 [00:03<00:00, 219.73it/s]\n",
            "Epoch 218/5000 (Validation): 100%|██████████| 730/730 [00:01<00:00, 627.13it/s]\n"
          ]
        },
        {
          "output_type": "stream",
          "name": "stdout",
          "text": [
            "Epoch [218/5000] | Train Loss: 6.4265 | Eval Loss: 6.4325\n"
          ]
        },
        {
          "output_type": "stream",
          "name": "stderr",
          "text": [
            "Epoch 219/5000 (Training): 100%|██████████| 730/730 [00:02<00:00, 248.09it/s]\n",
            "Epoch 219/5000 (Validation): 100%|██████████| 730/730 [00:00<00:00, 946.05it/s]\n"
          ]
        },
        {
          "output_type": "stream",
          "name": "stdout",
          "text": [
            "Epoch [219/5000] | Train Loss: 6.4266 | Eval Loss: 6.4322\n"
          ]
        },
        {
          "output_type": "stream",
          "name": "stderr",
          "text": [
            "Epoch 220/5000 (Training): 100%|██████████| 730/730 [00:02<00:00, 273.73it/s]\n",
            "Epoch 220/5000 (Validation): 100%|██████████| 730/730 [00:00<00:00, 919.63it/s]\n"
          ]
        },
        {
          "output_type": "stream",
          "name": "stdout",
          "text": [
            "Epoch [220/5000] | Train Loss: 6.4270 | Eval Loss: 6.4417\n"
          ]
        },
        {
          "output_type": "stream",
          "name": "stderr",
          "text": [
            "Epoch 221/5000 (Training): 100%|██████████| 730/730 [00:02<00:00, 273.23it/s]\n",
            "Epoch 221/5000 (Validation): 100%|██████████| 730/730 [00:00<00:00, 881.73it/s]\n"
          ]
        },
        {
          "output_type": "stream",
          "name": "stdout",
          "text": [
            "Epoch [221/5000] | Train Loss: 6.4265 | Eval Loss: 6.4326\n"
          ]
        },
        {
          "output_type": "stream",
          "name": "stderr",
          "text": [
            "Epoch 222/5000 (Training): 100%|██████████| 730/730 [00:03<00:00, 193.67it/s]\n",
            "Epoch 222/5000 (Validation): 100%|██████████| 730/730 [00:00<00:00, 916.78it/s]\n"
          ]
        },
        {
          "output_type": "stream",
          "name": "stdout",
          "text": [
            "Epoch [222/5000] | Train Loss: 6.4266 | Eval Loss: 6.4322\n"
          ]
        },
        {
          "output_type": "stream",
          "name": "stderr",
          "text": [
            "Epoch 223/5000 (Training): 100%|██████████| 730/730 [00:02<00:00, 275.70it/s]\n",
            "Epoch 223/5000 (Validation): 100%|██████████| 730/730 [00:00<00:00, 897.71it/s]\n"
          ]
        },
        {
          "output_type": "stream",
          "name": "stdout",
          "text": [
            "Epoch [223/5000] | Train Loss: 6.4270 | Eval Loss: 6.4421\n"
          ]
        },
        {
          "output_type": "stream",
          "name": "stderr",
          "text": [
            "Epoch 224/5000 (Training): 100%|██████████| 730/730 [00:02<00:00, 266.00it/s]\n",
            "Epoch 224/5000 (Validation): 100%|██████████| 730/730 [00:00<00:00, 901.12it/s]\n"
          ]
        },
        {
          "output_type": "stream",
          "name": "stdout",
          "text": [
            "Epoch [224/5000] | Train Loss: 6.4265 | Eval Loss: 6.4327\n"
          ]
        },
        {
          "output_type": "stream",
          "name": "stderr",
          "text": [
            "Epoch 225/5000 (Training): 100%|██████████| 730/730 [00:02<00:00, 250.55it/s]\n",
            "Epoch 225/5000 (Validation): 100%|██████████| 730/730 [00:01<00:00, 629.59it/s]\n"
          ]
        },
        {
          "output_type": "stream",
          "name": "stdout",
          "text": [
            "Epoch [225/5000] | Train Loss: 6.4266 | Eval Loss: 6.4322\n"
          ]
        },
        {
          "output_type": "stream",
          "name": "stderr",
          "text": [
            "Epoch 226/5000 (Training): 100%|██████████| 730/730 [00:03<00:00, 223.37it/s]\n",
            "Epoch 226/5000 (Validation): 100%|██████████| 730/730 [00:00<00:00, 873.13it/s]\n"
          ]
        },
        {
          "output_type": "stream",
          "name": "stdout",
          "text": [
            "Epoch [226/5000] | Train Loss: 6.4270 | Eval Loss: 6.4423\n"
          ]
        },
        {
          "output_type": "stream",
          "name": "stderr",
          "text": [
            "Epoch 227/5000 (Training): 100%|██████████| 730/730 [00:02<00:00, 276.12it/s]\n",
            "Epoch 227/5000 (Validation): 100%|██████████| 730/730 [00:00<00:00, 922.54it/s]\n"
          ]
        },
        {
          "output_type": "stream",
          "name": "stdout",
          "text": [
            "Epoch [227/5000] | Train Loss: 6.4265 | Eval Loss: 6.4340\n"
          ]
        },
        {
          "output_type": "stream",
          "name": "stderr",
          "text": [
            "Epoch 228/5000 (Training): 100%|██████████| 730/730 [00:02<00:00, 278.19it/s]\n",
            "Epoch 228/5000 (Validation): 100%|██████████| 730/730 [00:00<00:00, 915.80it/s]\n"
          ]
        },
        {
          "output_type": "stream",
          "name": "stdout",
          "text": [
            "Epoch [228/5000] | Train Loss: 6.4266 | Eval Loss: 6.4320\n"
          ]
        },
        {
          "output_type": "stream",
          "name": "stderr",
          "text": [
            "Epoch 229/5000 (Training): 100%|██████████| 730/730 [00:03<00:00, 212.34it/s]\n",
            "Epoch 229/5000 (Validation): 100%|██████████| 730/730 [00:01<00:00, 663.11it/s]\n"
          ]
        },
        {
          "output_type": "stream",
          "name": "stdout",
          "text": [
            "Epoch [229/5000] | Train Loss: 6.4270 | Eval Loss: 6.4428\n"
          ]
        },
        {
          "output_type": "stream",
          "name": "stderr",
          "text": [
            "Epoch 230/5000 (Training): 100%|██████████| 730/730 [00:02<00:00, 259.41it/s]\n",
            "Epoch 230/5000 (Validation): 100%|██████████| 730/730 [00:00<00:00, 925.98it/s]\n"
          ]
        },
        {
          "output_type": "stream",
          "name": "stdout",
          "text": [
            "Epoch [230/5000] | Train Loss: 6.4265 | Eval Loss: 6.4326\n"
          ]
        },
        {
          "output_type": "stream",
          "name": "stderr",
          "text": [
            "Epoch 231/5000 (Training): 100%|██████████| 730/730 [00:02<00:00, 271.93it/s]\n",
            "Epoch 231/5000 (Validation): 100%|██████████| 730/730 [00:00<00:00, 910.58it/s]\n"
          ]
        },
        {
          "output_type": "stream",
          "name": "stdout",
          "text": [
            "Epoch [231/5000] | Train Loss: 6.4266 | Eval Loss: 6.4325\n"
          ]
        },
        {
          "output_type": "stream",
          "name": "stderr",
          "text": [
            "Epoch 232/5000 (Training): 100%|██████████| 730/730 [00:02<00:00, 274.39it/s]\n",
            "Epoch 232/5000 (Validation): 100%|██████████| 730/730 [00:00<00:00, 862.74it/s]\n"
          ]
        },
        {
          "output_type": "stream",
          "name": "stdout",
          "text": [
            "Epoch [232/5000] | Train Loss: 6.4266 | Eval Loss: 6.4322\n"
          ]
        },
        {
          "output_type": "stream",
          "name": "stderr",
          "text": [
            "Epoch 233/5000 (Training): 100%|██████████| 730/730 [00:03<00:00, 196.15it/s]\n",
            "Epoch 233/5000 (Validation): 100%|██████████| 730/730 [00:00<00:00, 918.04it/s]\n"
          ]
        },
        {
          "output_type": "stream",
          "name": "stdout",
          "text": [
            "Epoch [233/5000] | Train Loss: 6.4267 | Eval Loss: 6.4330\n"
          ]
        },
        {
          "output_type": "stream",
          "name": "stderr",
          "text": [
            "Epoch 234/5000 (Training): 100%|██████████| 730/730 [00:02<00:00, 274.57it/s]\n",
            "Epoch 234/5000 (Validation): 100%|██████████| 730/730 [00:00<00:00, 912.22it/s]\n"
          ]
        },
        {
          "output_type": "stream",
          "name": "stdout",
          "text": [
            "Epoch [234/5000] | Train Loss: 6.4270 | Eval Loss: 6.4414\n"
          ]
        },
        {
          "output_type": "stream",
          "name": "stderr",
          "text": [
            "Epoch 235/5000 (Training): 100%|██████████| 730/730 [00:02<00:00, 269.58it/s]\n",
            "Epoch 235/5000 (Validation): 100%|██████████| 730/730 [00:00<00:00, 864.55it/s]\n"
          ]
        },
        {
          "output_type": "stream",
          "name": "stdout",
          "text": [
            "Epoch [235/5000] | Train Loss: 6.4265 | Eval Loss: 6.4342\n"
          ]
        },
        {
          "output_type": "stream",
          "name": "stderr",
          "text": [
            "Epoch 236/5000 (Training): 100%|██████████| 730/730 [00:02<00:00, 247.71it/s]\n",
            "Epoch 236/5000 (Validation): 100%|██████████| 730/730 [00:01<00:00, 657.64it/s]\n"
          ]
        },
        {
          "output_type": "stream",
          "name": "stdout",
          "text": [
            "Epoch [236/5000] | Train Loss: 6.4266 | Eval Loss: 6.4321\n"
          ]
        },
        {
          "output_type": "stream",
          "name": "stderr",
          "text": [
            "Epoch 237/5000 (Training): 100%|██████████| 730/730 [00:03<00:00, 230.79it/s]\n",
            "Epoch 237/5000 (Validation): 100%|██████████| 730/730 [00:00<00:00, 937.15it/s]\n"
          ]
        },
        {
          "output_type": "stream",
          "name": "stdout",
          "text": [
            "Epoch [237/5000] | Train Loss: 6.4271 | Eval Loss: 6.4477\n"
          ]
        },
        {
          "output_type": "stream",
          "name": "stderr",
          "text": [
            "Epoch 238/5000 (Training): 100%|██████████| 730/730 [00:02<00:00, 281.67it/s]\n",
            "Epoch 238/5000 (Validation): 100%|██████████| 730/730 [00:00<00:00, 910.04it/s]\n"
          ]
        },
        {
          "output_type": "stream",
          "name": "stdout",
          "text": [
            "Epoch [238/5000] | Train Loss: 6.4265 | Eval Loss: 6.4261\n"
          ]
        },
        {
          "output_type": "stream",
          "name": "stderr",
          "text": [
            "Epoch 239/5000 (Training): 100%|██████████| 730/730 [00:02<00:00, 275.56it/s]\n",
            "Epoch 239/5000 (Validation): 100%|██████████| 730/730 [00:00<00:00, 910.01it/s]\n"
          ]
        },
        {
          "output_type": "stream",
          "name": "stdout",
          "text": [
            "Epoch [239/5000] | Train Loss: 6.4266 | Eval Loss: 6.4331\n"
          ]
        },
        {
          "output_type": "stream",
          "name": "stderr",
          "text": [
            "Epoch 240/5000 (Training): 100%|██████████| 730/730 [00:03<00:00, 218.83it/s]\n",
            "Epoch 240/5000 (Validation): 100%|██████████| 730/730 [00:01<00:00, 660.82it/s]\n"
          ]
        },
        {
          "output_type": "stream",
          "name": "stdout",
          "text": [
            "Epoch [240/5000] | Train Loss: 6.4266 | Eval Loss: 6.4325\n"
          ]
        },
        {
          "output_type": "stream",
          "name": "stderr",
          "text": [
            "Epoch 241/5000 (Training): 100%|██████████| 730/730 [00:02<00:00, 252.05it/s]\n",
            "Epoch 241/5000 (Validation): 100%|██████████| 730/730 [00:00<00:00, 897.87it/s]\n"
          ]
        },
        {
          "output_type": "stream",
          "name": "stdout",
          "text": [
            "Epoch [241/5000] | Train Loss: 6.4266 | Eval Loss: 6.4325\n"
          ]
        },
        {
          "output_type": "stream",
          "name": "stderr",
          "text": [
            "Epoch 242/5000 (Training): 100%|██████████| 730/730 [00:02<00:00, 277.95it/s]\n",
            "Epoch 242/5000 (Validation): 100%|██████████| 730/730 [00:00<00:00, 925.06it/s]\n"
          ]
        },
        {
          "output_type": "stream",
          "name": "stdout",
          "text": [
            "Epoch [242/5000] | Train Loss: 6.4267 | Eval Loss: 6.4330\n"
          ]
        },
        {
          "output_type": "stream",
          "name": "stderr",
          "text": [
            "Epoch 243/5000 (Training): 100%|██████████| 730/730 [00:02<00:00, 273.79it/s]\n",
            "Epoch 243/5000 (Validation): 100%|██████████| 730/730 [00:00<00:00, 905.27it/s]\n"
          ]
        },
        {
          "output_type": "stream",
          "name": "stdout",
          "text": [
            "Epoch [243/5000] | Train Loss: 6.4270 | Eval Loss: 6.4420\n"
          ]
        },
        {
          "output_type": "stream",
          "name": "stderr",
          "text": [
            "Epoch 244/5000 (Training): 100%|██████████| 730/730 [00:03<00:00, 194.77it/s]\n",
            "Epoch 244/5000 (Validation): 100%|██████████| 730/730 [00:00<00:00, 857.83it/s]\n"
          ]
        },
        {
          "output_type": "stream",
          "name": "stdout",
          "text": [
            "Epoch [244/5000] | Train Loss: 6.4265 | Eval Loss: 6.4328\n"
          ]
        },
        {
          "output_type": "stream",
          "name": "stderr",
          "text": [
            "Epoch 245/5000 (Training): 100%|██████████| 730/730 [00:02<00:00, 273.27it/s]\n",
            "Epoch 245/5000 (Validation): 100%|██████████| 730/730 [00:00<00:00, 861.89it/s]\n"
          ]
        },
        {
          "output_type": "stream",
          "name": "stdout",
          "text": [
            "Epoch [245/5000] | Train Loss: 6.4268 | Eval Loss: 6.4299\n"
          ]
        },
        {
          "output_type": "stream",
          "name": "stderr",
          "text": [
            "Epoch 246/5000 (Training): 100%|██████████| 730/730 [00:02<00:00, 273.84it/s]\n",
            "Epoch 246/5000 (Validation): 100%|██████████| 730/730 [00:00<00:00, 905.30it/s]\n"
          ]
        },
        {
          "output_type": "stream",
          "name": "stdout",
          "text": [
            "Epoch [246/5000] | Train Loss: 6.4265 | Eval Loss: 6.4331\n"
          ]
        },
        {
          "output_type": "stream",
          "name": "stderr",
          "text": [
            "Epoch 247/5000 (Training): 100%|██████████| 730/730 [00:02<00:00, 255.07it/s]\n",
            "Epoch 247/5000 (Validation): 100%|██████████| 730/730 [00:01<00:00, 644.62it/s]\n"
          ]
        },
        {
          "output_type": "stream",
          "name": "stdout",
          "text": [
            "Epoch [247/5000] | Train Loss: 6.4266 | Eval Loss: 6.4327\n"
          ]
        },
        {
          "output_type": "stream",
          "name": "stderr",
          "text": [
            "Epoch 248/5000 (Training): 100%|██████████| 730/730 [00:03<00:00, 218.06it/s]\n",
            "Epoch 248/5000 (Validation): 100%|██████████| 730/730 [00:00<00:00, 902.87it/s]\n"
          ]
        },
        {
          "output_type": "stream",
          "name": "stdout",
          "text": [
            "Epoch [248/5000] | Train Loss: 6.4271 | Eval Loss: 6.4475\n"
          ]
        },
        {
          "output_type": "stream",
          "name": "stderr",
          "text": [
            "Epoch 249/5000 (Training): 100%|██████████| 730/730 [00:02<00:00, 277.49it/s]\n",
            "Epoch 249/5000 (Validation): 100%|██████████| 730/730 [00:00<00:00, 939.32it/s]\n"
          ]
        },
        {
          "output_type": "stream",
          "name": "stdout",
          "text": [
            "Epoch [249/5000] | Train Loss: 6.4265 | Eval Loss: 6.4262\n"
          ]
        },
        {
          "output_type": "stream",
          "name": "stderr",
          "text": [
            "Epoch 250/5000 (Training): 100%|██████████| 730/730 [00:02<00:00, 276.16it/s]\n",
            "Epoch 250/5000 (Validation): 100%|██████████| 730/730 [00:00<00:00, 903.98it/s]\n"
          ]
        },
        {
          "output_type": "stream",
          "name": "stdout",
          "text": [
            "Epoch [250/5000] | Train Loss: 6.4266 | Eval Loss: 6.4331\n"
          ]
        },
        {
          "output_type": "stream",
          "name": "stderr",
          "text": [
            "Epoch 251/5000 (Training): 100%|██████████| 730/730 [00:03<00:00, 218.90it/s]\n",
            "Epoch 251/5000 (Validation): 100%|██████████| 730/730 [00:01<00:00, 659.07it/s]\n"
          ]
        },
        {
          "output_type": "stream",
          "name": "stdout",
          "text": [
            "Epoch [251/5000] | Train Loss: 6.4266 | Eval Loss: 6.4329\n"
          ]
        },
        {
          "output_type": "stream",
          "name": "stderr",
          "text": [
            "Epoch 252/5000 (Training): 100%|██████████| 730/730 [00:02<00:00, 246.96it/s]\n",
            "Epoch 252/5000 (Validation): 100%|██████████| 730/730 [00:00<00:00, 875.66it/s]\n"
          ]
        },
        {
          "output_type": "stream",
          "name": "stdout",
          "text": [
            "Epoch [252/5000] | Train Loss: 6.4271 | Eval Loss: 6.4526\n"
          ]
        },
        {
          "output_type": "stream",
          "name": "stderr",
          "text": [
            "Epoch 253/5000 (Training): 100%|██████████| 730/730 [00:02<00:00, 277.03it/s]\n",
            "Epoch 253/5000 (Validation): 100%|██████████| 730/730 [00:00<00:00, 916.27it/s]\n"
          ]
        },
        {
          "output_type": "stream",
          "name": "stdout",
          "text": [
            "Epoch [253/5000] | Train Loss: 6.4266 | Eval Loss: 6.4386\n"
          ]
        },
        {
          "output_type": "stream",
          "name": "stderr",
          "text": [
            "Epoch 254/5000 (Training): 100%|██████████| 730/730 [00:02<00:00, 272.32it/s]\n",
            "Epoch 254/5000 (Validation): 100%|██████████| 730/730 [00:00<00:00, 908.83it/s]\n"
          ]
        },
        {
          "output_type": "stream",
          "name": "stdout",
          "text": [
            "Epoch [254/5000] | Train Loss: 6.4266 | Eval Loss: 6.4366\n"
          ]
        },
        {
          "output_type": "stream",
          "name": "stderr",
          "text": [
            "Epoch 255/5000 (Training): 100%|██████████| 730/730 [00:03<00:00, 198.41it/s]\n",
            "Epoch 255/5000 (Validation): 100%|██████████| 730/730 [00:00<00:00, 817.89it/s]\n"
          ]
        },
        {
          "output_type": "stream",
          "name": "stdout",
          "text": [
            "Epoch [255/5000] | Train Loss: 6.4266 | Eval Loss: 6.4335\n"
          ]
        },
        {
          "output_type": "stream",
          "name": "stderr",
          "text": [
            "Epoch 256/5000 (Training): 100%|██████████| 730/730 [00:02<00:00, 273.15it/s]\n",
            "Epoch 256/5000 (Validation): 100%|██████████| 730/730 [00:00<00:00, 900.20it/s]\n"
          ]
        },
        {
          "output_type": "stream",
          "name": "stdout",
          "text": [
            "Epoch [256/5000] | Train Loss: 6.4266 | Eval Loss: 6.4329\n"
          ]
        },
        {
          "output_type": "stream",
          "name": "stderr",
          "text": [
            "Epoch 257/5000 (Training): 100%|██████████| 730/730 [00:02<00:00, 271.42it/s]\n",
            "Epoch 257/5000 (Validation): 100%|██████████| 730/730 [00:00<00:00, 894.87it/s]\n"
          ]
        },
        {
          "output_type": "stream",
          "name": "stdout",
          "text": [
            "Epoch [257/5000] | Train Loss: 6.4270 | Eval Loss: 6.4429\n"
          ]
        },
        {
          "output_type": "stream",
          "name": "stderr",
          "text": [
            "Epoch 258/5000 (Training): 100%|██████████| 730/730 [00:02<00:00, 268.32it/s]\n",
            "Epoch 258/5000 (Validation): 100%|██████████| 730/730 [00:01<00:00, 646.96it/s]\n"
          ]
        },
        {
          "output_type": "stream",
          "name": "stdout",
          "text": [
            "Epoch [258/5000] | Train Loss: 6.4265 | Eval Loss: 6.4325\n"
          ]
        },
        {
          "output_type": "stream",
          "name": "stderr",
          "text": [
            "Epoch 259/5000 (Training): 100%|██████████| 730/730 [00:03<00:00, 213.98it/s]\n",
            "Epoch 259/5000 (Validation): 100%|██████████| 730/730 [00:00<00:00, 924.92it/s]\n"
          ]
        },
        {
          "output_type": "stream",
          "name": "stdout",
          "text": [
            "Epoch [259/5000] | Train Loss: 6.4266 | Eval Loss: 6.4333\n"
          ]
        },
        {
          "output_type": "stream",
          "name": "stderr",
          "text": [
            "Epoch 260/5000 (Training): 100%|██████████| 730/730 [00:02<00:00, 274.64it/s]\n",
            "Epoch 260/5000 (Validation): 100%|██████████| 730/730 [00:00<00:00, 888.18it/s]\n"
          ]
        },
        {
          "output_type": "stream",
          "name": "stdout",
          "text": [
            "Epoch [260/5000] | Train Loss: 6.4266 | Eval Loss: 6.4329\n"
          ]
        },
        {
          "output_type": "stream",
          "name": "stderr",
          "text": [
            "Epoch 261/5000 (Training): 100%|██████████| 730/730 [00:02<00:00, 274.48it/s]\n",
            "Epoch 261/5000 (Validation): 100%|██████████| 730/730 [00:00<00:00, 914.31it/s]\n"
          ]
        },
        {
          "output_type": "stream",
          "name": "stdout",
          "text": [
            "Epoch [261/5000] | Train Loss: 6.4271 | Eval Loss: 6.4479\n"
          ]
        },
        {
          "output_type": "stream",
          "name": "stderr",
          "text": [
            "Epoch 262/5000 (Training): 100%|██████████| 730/730 [00:03<00:00, 221.39it/s]\n",
            "Epoch 262/5000 (Validation): 100%|██████████| 730/730 [00:01<00:00, 641.92it/s]\n"
          ]
        },
        {
          "output_type": "stream",
          "name": "stdout",
          "text": [
            "Epoch [262/5000] | Train Loss: 6.4266 | Eval Loss: 6.4263\n"
          ]
        },
        {
          "output_type": "stream",
          "name": "stderr",
          "text": [
            "Epoch 263/5000 (Training): 100%|██████████| 730/730 [00:02<00:00, 246.34it/s]\n",
            "Epoch 263/5000 (Validation): 100%|██████████| 730/730 [00:00<00:00, 874.91it/s]\n"
          ]
        },
        {
          "output_type": "stream",
          "name": "stdout",
          "text": [
            "Epoch [263/5000] | Train Loss: 6.4266 | Eval Loss: 6.4335\n"
          ]
        },
        {
          "output_type": "stream",
          "name": "stderr",
          "text": [
            "Epoch 264/5000 (Training): 100%|██████████| 730/730 [00:02<00:00, 270.84it/s]\n",
            "Epoch 264/5000 (Validation): 100%|██████████| 730/730 [00:00<00:00, 883.71it/s]\n"
          ]
        },
        {
          "output_type": "stream",
          "name": "stdout",
          "text": [
            "Epoch [264/5000] | Train Loss: 6.4266 | Eval Loss: 6.4329\n"
          ]
        },
        {
          "output_type": "stream",
          "name": "stderr",
          "text": [
            "Epoch 265/5000 (Training): 100%|██████████| 730/730 [00:02<00:00, 273.41it/s]\n",
            "Epoch 265/5000 (Validation): 100%|██████████| 730/730 [00:00<00:00, 900.59it/s]\n"
          ]
        },
        {
          "output_type": "stream",
          "name": "stdout",
          "text": [
            "Epoch [265/5000] | Train Loss: 6.4271 | Eval Loss: 6.4485\n"
          ]
        },
        {
          "output_type": "stream",
          "name": "stderr",
          "text": [
            "Epoch 266/5000 (Training): 100%|██████████| 730/730 [00:03<00:00, 197.53it/s]\n",
            "Epoch 266/5000 (Validation): 100%|██████████| 730/730 [00:00<00:00, 747.25it/s]\n"
          ]
        },
        {
          "output_type": "stream",
          "name": "stdout",
          "text": [
            "Epoch [266/5000] | Train Loss: 6.4266 | Eval Loss: 6.4265\n"
          ]
        },
        {
          "output_type": "stream",
          "name": "stderr",
          "text": [
            "Epoch 267/5000 (Training): 100%|██████████| 730/730 [00:02<00:00, 270.13it/s]\n",
            "Epoch 267/5000 (Validation): 100%|██████████| 730/730 [00:00<00:00, 872.58it/s]\n"
          ]
        },
        {
          "output_type": "stream",
          "name": "stdout",
          "text": [
            "Epoch [267/5000] | Train Loss: 6.4265 | Eval Loss: 6.4336\n"
          ]
        },
        {
          "output_type": "stream",
          "name": "stderr",
          "text": [
            "Epoch 268/5000 (Training): 100%|██████████| 730/730 [00:02<00:00, 262.06it/s]\n",
            "Epoch 268/5000 (Validation): 100%|██████████| 730/730 [00:00<00:00, 871.21it/s]\n"
          ]
        },
        {
          "output_type": "stream",
          "name": "stdout",
          "text": [
            "Epoch [268/5000] | Train Loss: 6.4266 | Eval Loss: 6.4329\n"
          ]
        },
        {
          "output_type": "stream",
          "name": "stderr",
          "text": [
            "Epoch 269/5000 (Training): 100%|██████████| 730/730 [00:02<00:00, 253.84it/s]\n",
            "Epoch 269/5000 (Validation): 100%|██████████| 730/730 [00:01<00:00, 672.63it/s]\n"
          ]
        },
        {
          "output_type": "stream",
          "name": "stdout",
          "text": [
            "Epoch [269/5000] | Train Loss: 6.4271 | Eval Loss: 6.4485\n"
          ]
        },
        {
          "output_type": "stream",
          "name": "stderr",
          "text": [
            "Epoch 270/5000 (Training): 100%|██████████| 730/730 [00:03<00:00, 223.70it/s]\n",
            "Epoch 270/5000 (Validation): 100%|██████████| 730/730 [00:00<00:00, 918.04it/s]\n"
          ]
        },
        {
          "output_type": "stream",
          "name": "stdout",
          "text": [
            "Epoch [270/5000] | Train Loss: 6.4266 | Eval Loss: 6.4266\n"
          ]
        },
        {
          "output_type": "stream",
          "name": "stderr",
          "text": [
            "Epoch 271/5000 (Training): 100%|██████████| 730/730 [00:02<00:00, 273.39it/s]\n",
            "Epoch 271/5000 (Validation): 100%|██████████| 730/730 [00:00<00:00, 868.45it/s]\n"
          ]
        },
        {
          "output_type": "stream",
          "name": "stdout",
          "text": [
            "Epoch [271/5000] | Train Loss: 6.4265 | Eval Loss: 6.4337\n"
          ]
        },
        {
          "output_type": "stream",
          "name": "stderr",
          "text": [
            "Epoch 272/5000 (Training): 100%|██████████| 730/730 [00:02<00:00, 270.55it/s]\n",
            "Epoch 272/5000 (Validation): 100%|██████████| 730/730 [00:00<00:00, 875.35it/s]\n"
          ]
        },
        {
          "output_type": "stream",
          "name": "stdout",
          "text": [
            "Epoch [272/5000] | Train Loss: 6.4266 | Eval Loss: 6.4329\n"
          ]
        },
        {
          "output_type": "stream",
          "name": "stderr",
          "text": [
            "Epoch 273/5000 (Training): 100%|██████████| 730/730 [00:03<00:00, 211.58it/s]\n",
            "Epoch 273/5000 (Validation): 100%|██████████| 730/730 [00:01<00:00, 584.72it/s]\n"
          ]
        },
        {
          "output_type": "stream",
          "name": "stdout",
          "text": [
            "Epoch [273/5000] | Train Loss: 6.4271 | Eval Loss: 6.4491\n"
          ]
        },
        {
          "output_type": "stream",
          "name": "stderr",
          "text": [
            "Epoch 274/5000 (Training): 100%|██████████| 730/730 [00:02<00:00, 246.68it/s]\n",
            "Epoch 274/5000 (Validation): 100%|██████████| 730/730 [00:00<00:00, 904.23it/s]\n"
          ]
        },
        {
          "output_type": "stream",
          "name": "stdout",
          "text": [
            "Epoch [274/5000] | Train Loss: 6.4266 | Eval Loss: 6.4267\n"
          ]
        },
        {
          "output_type": "stream",
          "name": "stderr",
          "text": [
            "Epoch 275/5000 (Training): 100%|██████████| 730/730 [00:02<00:00, 268.26it/s]\n",
            "Epoch 275/5000 (Validation): 100%|██████████| 730/730 [00:00<00:00, 934.81it/s]\n"
          ]
        },
        {
          "output_type": "stream",
          "name": "stdout",
          "text": [
            "Epoch [275/5000] | Train Loss: 6.4265 | Eval Loss: 6.4339\n"
          ]
        },
        {
          "output_type": "stream",
          "name": "stderr",
          "text": [
            "Epoch 276/5000 (Training): 100%|██████████| 730/730 [00:02<00:00, 280.99it/s]\n",
            "Epoch 276/5000 (Validation): 100%|██████████| 730/730 [00:00<00:00, 918.69it/s]\n"
          ]
        },
        {
          "output_type": "stream",
          "name": "stdout",
          "text": [
            "Epoch [276/5000] | Train Loss: 6.4266 | Eval Loss: 6.4329\n"
          ]
        },
        {
          "output_type": "stream",
          "name": "stderr",
          "text": [
            "Epoch 277/5000 (Training): 100%|██████████| 730/730 [00:03<00:00, 196.53it/s]\n",
            "Epoch 277/5000 (Validation): 100%|██████████| 730/730 [00:00<00:00, 806.93it/s]\n"
          ]
        },
        {
          "output_type": "stream",
          "name": "stdout",
          "text": [
            "Epoch [277/5000] | Train Loss: 6.4271 | Eval Loss: 6.4497\n"
          ]
        },
        {
          "output_type": "stream",
          "name": "stderr",
          "text": [
            "Epoch 278/5000 (Training): 100%|██████████| 730/730 [00:02<00:00, 263.35it/s]\n",
            "Epoch 278/5000 (Validation): 100%|██████████| 730/730 [00:00<00:00, 909.73it/s]\n"
          ]
        },
        {
          "output_type": "stream",
          "name": "stdout",
          "text": [
            "Epoch [278/5000] | Train Loss: 6.4266 | Eval Loss: 6.4270\n"
          ]
        },
        {
          "output_type": "stream",
          "name": "stderr",
          "text": [
            "Epoch 279/5000 (Training): 100%|██████████| 730/730 [00:02<00:00, 269.87it/s]\n",
            "Epoch 279/5000 (Validation): 100%|██████████| 730/730 [00:00<00:00, 881.67it/s]\n"
          ]
        },
        {
          "output_type": "stream",
          "name": "stdout",
          "text": [
            "Epoch [279/5000] | Train Loss: 6.4265 | Eval Loss: 6.4340\n"
          ]
        },
        {
          "output_type": "stream",
          "name": "stderr",
          "text": [
            "Epoch 280/5000 (Training): 100%|██████████| 730/730 [00:02<00:00, 253.89it/s]\n",
            "Epoch 280/5000 (Validation): 100%|██████████| 730/730 [00:01<00:00, 621.85it/s]\n"
          ]
        },
        {
          "output_type": "stream",
          "name": "stdout",
          "text": [
            "Epoch [280/5000] | Train Loss: 6.4266 | Eval Loss: 6.4268\n"
          ]
        },
        {
          "output_type": "stream",
          "name": "stderr",
          "text": [
            "Epoch 281/5000 (Training): 100%|██████████| 730/730 [00:03<00:00, 219.84it/s]\n",
            "Epoch 281/5000 (Validation): 100%|██████████| 730/730 [00:00<00:00, 870.20it/s]\n"
          ]
        },
        {
          "output_type": "stream",
          "name": "stdout",
          "text": [
            "Epoch [281/5000] | Train Loss: 6.4266 | Eval Loss: 6.4337\n"
          ]
        },
        {
          "output_type": "stream",
          "name": "stderr",
          "text": [
            "Epoch 282/5000 (Training): 100%|██████████| 730/730 [00:02<00:00, 253.71it/s]\n",
            "Epoch 282/5000 (Validation): 100%|██████████| 730/730 [00:00<00:00, 878.23it/s]\n"
          ]
        },
        {
          "output_type": "stream",
          "name": "stdout",
          "text": [
            "Epoch [282/5000] | Train Loss: 6.4266 | Eval Loss: 6.4331\n"
          ]
        },
        {
          "output_type": "stream",
          "name": "stderr",
          "text": [
            "Epoch 283/5000 (Training): 100%|██████████| 730/730 [00:02<00:00, 255.87it/s]\n",
            "Epoch 283/5000 (Validation): 100%|██████████| 730/730 [00:00<00:00, 855.46it/s]\n"
          ]
        },
        {
          "output_type": "stream",
          "name": "stdout",
          "text": [
            "Epoch [283/5000] | Train Loss: 6.4271 | Eval Loss: 6.4495\n"
          ]
        },
        {
          "output_type": "stream",
          "name": "stderr",
          "text": [
            "Epoch 284/5000 (Training): 100%|██████████| 730/730 [00:04<00:00, 182.18it/s]\n",
            "Epoch 284/5000 (Validation): 100%|██████████| 730/730 [00:01<00:00, 503.54it/s]\n"
          ]
        },
        {
          "output_type": "stream",
          "name": "stdout",
          "text": [
            "Epoch [284/5000] | Train Loss: 6.4266 | Eval Loss: 6.4270\n"
          ]
        },
        {
          "output_type": "stream",
          "name": "stderr",
          "text": [
            "Epoch 285/5000 (Training): 100%|██████████| 730/730 [00:02<00:00, 244.61it/s]\n",
            "Epoch 285/5000 (Validation): 100%|██████████| 730/730 [00:00<00:00, 893.99it/s]\n"
          ]
        },
        {
          "output_type": "stream",
          "name": "stdout",
          "text": [
            "Epoch [285/5000] | Train Loss: 6.4265 | Eval Loss: 6.4341\n"
          ]
        },
        {
          "output_type": "stream",
          "name": "stderr",
          "text": [
            "Epoch 286/5000 (Training): 100%|██████████| 730/730 [00:02<00:00, 247.15it/s]\n",
            "Epoch 286/5000 (Validation): 100%|██████████| 730/730 [00:00<00:00, 900.75it/s]\n"
          ]
        },
        {
          "output_type": "stream",
          "name": "stdout",
          "text": [
            "Epoch [286/5000] | Train Loss: 6.4266 | Eval Loss: 6.4269\n"
          ]
        },
        {
          "output_type": "stream",
          "name": "stderr",
          "text": [
            "Epoch 287/5000 (Training): 100%|██████████| 730/730 [00:03<00:00, 212.06it/s]\n",
            "Epoch 287/5000 (Validation): 100%|██████████| 730/730 [00:01<00:00, 516.64it/s]\n"
          ]
        },
        {
          "output_type": "stream",
          "name": "stdout",
          "text": [
            "Epoch [287/5000] | Train Loss: 6.4266 | Eval Loss: 6.4339\n"
          ]
        },
        {
          "output_type": "stream",
          "name": "stderr",
          "text": [
            "Epoch 288/5000 (Training): 100%|██████████| 730/730 [00:03<00:00, 239.13it/s]\n",
            "Epoch 288/5000 (Validation): 100%|██████████| 730/730 [00:02<00:00, 364.43it/s]\n"
          ]
        },
        {
          "output_type": "stream",
          "name": "stdout",
          "text": [
            "Epoch [288/5000] | Train Loss: 6.4266 | Eval Loss: 6.4331\n"
          ]
        },
        {
          "output_type": "stream",
          "name": "stderr",
          "text": [
            "Epoch 289/5000 (Training): 100%|██████████| 730/730 [00:02<00:00, 265.41it/s]\n",
            "Epoch 289/5000 (Validation): 100%|██████████| 730/730 [00:00<00:00, 901.79it/s]\n"
          ]
        },
        {
          "output_type": "stream",
          "name": "stdout",
          "text": [
            "Epoch [289/5000] | Train Loss: 6.4271 | Eval Loss: 6.4500\n"
          ]
        },
        {
          "output_type": "stream",
          "name": "stderr",
          "text": [
            "Epoch 290/5000 (Training): 100%|██████████| 730/730 [00:02<00:00, 252.76it/s]\n",
            "Epoch 290/5000 (Validation): 100%|██████████| 730/730 [00:01<00:00, 636.06it/s]\n"
          ]
        },
        {
          "output_type": "stream",
          "name": "stdout",
          "text": [
            "Epoch [290/5000] | Train Loss: 6.4266 | Eval Loss: 6.4271\n"
          ]
        },
        {
          "output_type": "stream",
          "name": "stderr",
          "text": [
            "Epoch 291/5000 (Training): 100%|██████████| 730/730 [00:03<00:00, 224.56it/s]\n",
            "Epoch 291/5000 (Validation): 100%|██████████| 730/730 [00:00<00:00, 912.19it/s]\n"
          ]
        },
        {
          "output_type": "stream",
          "name": "stdout",
          "text": [
            "Epoch [291/5000] | Train Loss: 6.4265 | Eval Loss: 6.4373\n"
          ]
        },
        {
          "output_type": "stream",
          "name": "stderr",
          "text": [
            "Epoch 292/5000 (Training): 100%|██████████| 730/730 [00:02<00:00, 270.81it/s]\n",
            "Epoch 292/5000 (Validation): 100%|██████████| 730/730 [00:00<00:00, 909.22it/s]\n"
          ]
        },
        {
          "output_type": "stream",
          "name": "stdout",
          "text": [
            "Epoch [292/5000] | Train Loss: 6.4266 | Eval Loss: 6.4376\n"
          ]
        },
        {
          "output_type": "stream",
          "name": "stderr",
          "text": [
            "Epoch 293/5000 (Training): 100%|██████████| 730/730 [00:02<00:00, 275.60it/s]\n",
            "Epoch 293/5000 (Validation): 100%|██████████| 730/730 [00:00<00:00, 891.21it/s]\n"
          ]
        },
        {
          "output_type": "stream",
          "name": "stdout",
          "text": [
            "Epoch [293/5000] | Train Loss: 6.4267 | Eval Loss: 6.4376\n"
          ]
        },
        {
          "output_type": "stream",
          "name": "stderr",
          "text": [
            "Epoch 294/5000 (Training): 100%|██████████| 730/730 [00:03<00:00, 211.53it/s]\n",
            "Epoch 294/5000 (Validation): 100%|██████████| 730/730 [00:01<00:00, 654.35it/s]\n"
          ]
        },
        {
          "output_type": "stream",
          "name": "stdout",
          "text": [
            "Epoch [294/5000] | Train Loss: 6.4267 | Eval Loss: 6.4377\n"
          ]
        },
        {
          "output_type": "stream",
          "name": "stderr",
          "text": [
            "Epoch 295/5000 (Training): 100%|██████████| 730/730 [00:03<00:00, 231.64it/s]\n",
            "Epoch 295/5000 (Validation): 100%|██████████| 730/730 [00:00<00:00, 890.45it/s]\n"
          ]
        },
        {
          "output_type": "stream",
          "name": "stdout",
          "text": [
            "Epoch [295/5000] | Train Loss: 6.4267 | Eval Loss: 6.4377\n"
          ]
        },
        {
          "output_type": "stream",
          "name": "stderr",
          "text": [
            "Epoch 296/5000 (Training): 100%|██████████| 730/730 [00:02<00:00, 274.44it/s]\n",
            "Epoch 296/5000 (Validation): 100%|██████████| 730/730 [00:00<00:00, 915.59it/s]\n"
          ]
        },
        {
          "output_type": "stream",
          "name": "stdout",
          "text": [
            "Epoch [296/5000] | Train Loss: 6.4267 | Eval Loss: 6.4377\n"
          ]
        },
        {
          "output_type": "stream",
          "name": "stderr",
          "text": [
            "Epoch 297/5000 (Training): 100%|██████████| 730/730 [00:02<00:00, 275.14it/s]\n",
            "Epoch 297/5000 (Validation): 100%|██████████| 730/730 [00:00<00:00, 740.48it/s]\n"
          ]
        },
        {
          "output_type": "stream",
          "name": "stdout",
          "text": [
            "Epoch [297/5000] | Train Loss: 6.4266 | Eval Loss: 6.4377\n"
          ]
        },
        {
          "output_type": "stream",
          "name": "stderr",
          "text": [
            "Epoch 298/5000 (Training): 100%|██████████| 730/730 [00:03<00:00, 189.59it/s]\n",
            "Epoch 298/5000 (Validation): 100%|██████████| 730/730 [00:00<00:00, 902.75it/s]\n"
          ]
        },
        {
          "output_type": "stream",
          "name": "stdout",
          "text": [
            "Epoch [298/5000] | Train Loss: 6.4267 | Eval Loss: 6.4378\n"
          ]
        },
        {
          "output_type": "stream",
          "name": "stderr",
          "text": [
            "Epoch 299/5000 (Training): 100%|██████████| 730/730 [00:02<00:00, 269.02it/s]\n",
            "Epoch 299/5000 (Validation): 100%|██████████| 730/730 [00:00<00:00, 867.59it/s]\n"
          ]
        },
        {
          "output_type": "stream",
          "name": "stdout",
          "text": [
            "Epoch [299/5000] | Train Loss: 6.4267 | Eval Loss: 6.4378\n"
          ]
        },
        {
          "output_type": "stream",
          "name": "stderr",
          "text": [
            "Epoch 300/5000 (Training): 100%|██████████| 730/730 [00:02<00:00, 267.92it/s]\n",
            "Epoch 300/5000 (Validation): 100%|██████████| 730/730 [00:00<00:00, 878.01it/s]\n"
          ]
        },
        {
          "output_type": "stream",
          "name": "stdout",
          "text": [
            "Epoch [300/5000] | Train Loss: 6.4266 | Eval Loss: 6.4378\n"
          ]
        },
        {
          "output_type": "stream",
          "name": "stderr",
          "text": [
            "Epoch 301/5000 (Training): 100%|██████████| 730/730 [00:03<00:00, 237.13it/s]\n",
            "Epoch 301/5000 (Validation): 100%|██████████| 730/730 [00:01<00:00, 657.59it/s]\n"
          ]
        },
        {
          "output_type": "stream",
          "name": "stdout",
          "text": [
            "Epoch [301/5000] | Train Loss: 6.4267 | Eval Loss: 6.4378\n"
          ]
        },
        {
          "output_type": "stream",
          "name": "stderr",
          "text": [
            "Epoch 302/5000 (Training): 100%|██████████| 730/730 [00:03<00:00, 233.04it/s]\n",
            "Epoch 302/5000 (Validation): 100%|██████████| 730/730 [00:00<00:00, 897.83it/s]\n"
          ]
        },
        {
          "output_type": "stream",
          "name": "stdout",
          "text": [
            "Epoch [302/5000] | Train Loss: 6.4267 | Eval Loss: 6.4379\n"
          ]
        },
        {
          "output_type": "stream",
          "name": "stderr",
          "text": [
            "Epoch 303/5000 (Training): 100%|██████████| 730/730 [00:02<00:00, 275.51it/s]\n",
            "Epoch 303/5000 (Validation): 100%|██████████| 730/730 [00:00<00:00, 866.94it/s]\n"
          ]
        },
        {
          "output_type": "stream",
          "name": "stdout",
          "text": [
            "Epoch [303/5000] | Train Loss: 6.4266 | Eval Loss: 6.4378\n"
          ]
        },
        {
          "output_type": "stream",
          "name": "stderr",
          "text": [
            "Epoch 304/5000 (Training): 100%|██████████| 730/730 [00:02<00:00, 272.76it/s]\n",
            "Epoch 304/5000 (Validation): 100%|██████████| 730/730 [00:00<00:00, 909.39it/s]\n"
          ]
        },
        {
          "output_type": "stream",
          "name": "stdout",
          "text": [
            "Epoch [304/5000] | Train Loss: 6.4267 | Eval Loss: 6.4379\n"
          ]
        },
        {
          "output_type": "stream",
          "name": "stderr",
          "text": [
            "Epoch 305/5000 (Training): 100%|██████████| 730/730 [00:03<00:00, 201.79it/s]\n",
            "Epoch 305/5000 (Validation): 100%|██████████| 730/730 [00:01<00:00, 660.47it/s]\n"
          ]
        },
        {
          "output_type": "stream",
          "name": "stdout",
          "text": [
            "Epoch [305/5000] | Train Loss: 6.4266 | Eval Loss: 6.4379\n"
          ]
        },
        {
          "output_type": "stream",
          "name": "stderr",
          "text": [
            "Epoch 306/5000 (Training): 100%|██████████| 730/730 [00:02<00:00, 273.34it/s]\n",
            "Epoch 306/5000 (Validation): 100%|██████████| 730/730 [00:00<00:00, 885.14it/s]\n"
          ]
        },
        {
          "output_type": "stream",
          "name": "stdout",
          "text": [
            "Epoch [306/5000] | Train Loss: 6.4267 | Eval Loss: 6.4380\n"
          ]
        },
        {
          "output_type": "stream",
          "name": "stderr",
          "text": [
            "Epoch 307/5000 (Training): 100%|██████████| 730/730 [00:02<00:00, 272.64it/s]\n",
            "Epoch 307/5000 (Validation): 100%|██████████| 730/730 [00:00<00:00, 891.59it/s]\n"
          ]
        },
        {
          "output_type": "stream",
          "name": "stdout",
          "text": [
            "Epoch [307/5000] | Train Loss: 6.4267 | Eval Loss: 6.4380\n"
          ]
        },
        {
          "output_type": "stream",
          "name": "stderr",
          "text": [
            "Epoch 308/5000 (Training): 100%|██████████| 730/730 [00:02<00:00, 263.67it/s]\n",
            "Epoch 308/5000 (Validation): 100%|██████████| 730/730 [00:01<00:00, 622.60it/s]\n"
          ]
        },
        {
          "output_type": "stream",
          "name": "stdout",
          "text": [
            "Epoch [308/5000] | Train Loss: 6.4266 | Eval Loss: 6.4380\n"
          ]
        },
        {
          "output_type": "stream",
          "name": "stderr",
          "text": [
            "Epoch 309/5000 (Training): 100%|██████████| 730/730 [00:03<00:00, 207.36it/s]\n",
            "Epoch 309/5000 (Validation): 100%|██████████| 730/730 [00:00<00:00, 890.21it/s]\n"
          ]
        },
        {
          "output_type": "stream",
          "name": "stdout",
          "text": [
            "Epoch [309/5000] | Train Loss: 6.4267 | Eval Loss: 6.4380\n"
          ]
        },
        {
          "output_type": "stream",
          "name": "stderr",
          "text": [
            "Epoch 310/5000 (Training): 100%|██████████| 730/730 [00:02<00:00, 267.23it/s]\n",
            "Epoch 310/5000 (Validation): 100%|██████████| 730/730 [00:00<00:00, 891.00it/s]\n"
          ]
        },
        {
          "output_type": "stream",
          "name": "stdout",
          "text": [
            "Epoch [310/5000] | Train Loss: 6.4266 | Eval Loss: 6.4380\n"
          ]
        },
        {
          "output_type": "stream",
          "name": "stderr",
          "text": [
            "Epoch 311/5000 (Training): 100%|██████████| 730/730 [00:02<00:00, 266.06it/s]\n",
            "Epoch 311/5000 (Validation): 100%|██████████| 730/730 [00:01<00:00, 692.56it/s]\n"
          ]
        },
        {
          "output_type": "stream",
          "name": "stdout",
          "text": [
            "Epoch [311/5000] | Train Loss: 6.4267 | Eval Loss: 6.4381\n"
          ]
        },
        {
          "output_type": "stream",
          "name": "stderr",
          "text": [
            "Epoch 312/5000 (Training): 100%|██████████| 730/730 [00:03<00:00, 216.60it/s]\n",
            "Epoch 312/5000 (Validation): 100%|██████████| 730/730 [00:01<00:00, 651.43it/s]\n"
          ]
        },
        {
          "output_type": "stream",
          "name": "stdout",
          "text": [
            "Epoch [312/5000] | Train Loss: 6.4266 | Eval Loss: 6.4381\n"
          ]
        },
        {
          "output_type": "stream",
          "name": "stderr",
          "text": [
            "Epoch 313/5000 (Training): 100%|██████████| 730/730 [00:02<00:00, 256.62it/s]\n",
            "Epoch 313/5000 (Validation): 100%|██████████| 730/730 [00:00<00:00, 889.22it/s]\n"
          ]
        },
        {
          "output_type": "stream",
          "name": "stdout",
          "text": [
            "Epoch [313/5000] | Train Loss: 6.4266 | Eval Loss: 6.4381\n"
          ]
        },
        {
          "output_type": "stream",
          "name": "stderr",
          "text": [
            "Epoch 314/5000 (Training): 100%|██████████| 730/730 [00:02<00:00, 276.01it/s]\n",
            "Epoch 314/5000 (Validation): 100%|██████████| 730/730 [00:00<00:00, 906.33it/s]\n"
          ]
        },
        {
          "output_type": "stream",
          "name": "stdout",
          "text": [
            "Epoch [314/5000] | Train Loss: 6.4266 | Eval Loss: 6.4382\n"
          ]
        },
        {
          "output_type": "stream",
          "name": "stderr",
          "text": [
            "Epoch 315/5000 (Training): 100%|██████████| 730/730 [00:02<00:00, 272.75it/s]\n",
            "Epoch 315/5000 (Validation): 100%|██████████| 730/730 [00:00<00:00, 806.00it/s]\n"
          ]
        },
        {
          "output_type": "stream",
          "name": "stdout",
          "text": [
            "Epoch [315/5000] | Train Loss: 6.4266 | Eval Loss: 6.4381\n"
          ]
        },
        {
          "output_type": "stream",
          "name": "stderr",
          "text": [
            "Epoch 316/5000 (Training): 100%|██████████| 730/730 [00:03<00:00, 194.16it/s]\n",
            "Epoch 316/5000 (Validation): 100%|██████████| 730/730 [00:00<00:00, 899.09it/s]\n"
          ]
        },
        {
          "output_type": "stream",
          "name": "stdout",
          "text": [
            "Epoch [316/5000] | Train Loss: 6.4266 | Eval Loss: 6.4382\n"
          ]
        },
        {
          "output_type": "stream",
          "name": "stderr",
          "text": [
            "Epoch 317/5000 (Training): 100%|██████████| 730/730 [00:02<00:00, 269.62it/s]\n",
            "Epoch 317/5000 (Validation): 100%|██████████| 730/730 [00:00<00:00, 870.94it/s]\n"
          ]
        },
        {
          "output_type": "stream",
          "name": "stdout",
          "text": [
            "Epoch [317/5000] | Train Loss: 6.4266 | Eval Loss: 6.4382\n"
          ]
        },
        {
          "output_type": "stream",
          "name": "stderr",
          "text": [
            "Epoch 318/5000 (Training): 100%|██████████| 730/730 [00:02<00:00, 278.43it/s]\n",
            "Epoch 318/5000 (Validation): 100%|██████████| 730/730 [00:00<00:00, 919.86it/s]\n"
          ]
        },
        {
          "output_type": "stream",
          "name": "stdout",
          "text": [
            "Epoch [318/5000] | Train Loss: 6.4266 | Eval Loss: 6.4382\n"
          ]
        },
        {
          "output_type": "stream",
          "name": "stderr",
          "text": [
            "Epoch 319/5000 (Training): 100%|██████████| 730/730 [00:02<00:00, 253.99it/s]\n",
            "Epoch 319/5000 (Validation): 100%|██████████| 730/730 [00:01<00:00, 645.48it/s]\n"
          ]
        },
        {
          "output_type": "stream",
          "name": "stdout",
          "text": [
            "Epoch [319/5000] | Train Loss: 6.4266 | Eval Loss: 6.4383\n"
          ]
        },
        {
          "output_type": "stream",
          "name": "stderr",
          "text": [
            "Epoch 320/5000 (Training): 100%|██████████| 730/730 [00:03<00:00, 217.73it/s]\n",
            "Epoch 320/5000 (Validation): 100%|██████████| 730/730 [00:00<00:00, 900.50it/s]\n"
          ]
        },
        {
          "output_type": "stream",
          "name": "stdout",
          "text": [
            "Epoch [320/5000] | Train Loss: 6.4266 | Eval Loss: 6.4383\n"
          ]
        },
        {
          "output_type": "stream",
          "name": "stderr",
          "text": [
            "Epoch 321/5000 (Training): 100%|██████████| 730/730 [00:02<00:00, 264.78it/s]\n",
            "Epoch 321/5000 (Validation): 100%|██████████| 730/730 [00:00<00:00, 919.27it/s]\n"
          ]
        },
        {
          "output_type": "stream",
          "name": "stdout",
          "text": [
            "Epoch [321/5000] | Train Loss: 6.4266 | Eval Loss: 6.4383\n"
          ]
        },
        {
          "output_type": "stream",
          "name": "stderr",
          "text": [
            "Epoch 322/5000 (Training): 100%|██████████| 730/730 [00:02<00:00, 270.86it/s]\n",
            "Epoch 322/5000 (Validation): 100%|██████████| 730/730 [00:00<00:00, 907.01it/s]\n"
          ]
        },
        {
          "output_type": "stream",
          "name": "stdout",
          "text": [
            "Epoch [322/5000] | Train Loss: 6.4266 | Eval Loss: 6.4383\n"
          ]
        },
        {
          "output_type": "stream",
          "name": "stderr",
          "text": [
            "Epoch 323/5000 (Training): 100%|██████████| 730/730 [00:03<00:00, 217.26it/s]\n",
            "Epoch 323/5000 (Validation): 100%|██████████| 730/730 [00:01<00:00, 635.85it/s]\n"
          ]
        },
        {
          "output_type": "stream",
          "name": "stdout",
          "text": [
            "Epoch [323/5000] | Train Loss: 6.4266 | Eval Loss: 6.4383\n"
          ]
        },
        {
          "output_type": "stream",
          "name": "stderr",
          "text": [
            "Epoch 324/5000 (Training): 100%|██████████| 730/730 [00:02<00:00, 260.57it/s]\n",
            "Epoch 324/5000 (Validation): 100%|██████████| 730/730 [00:00<00:00, 910.42it/s]\n"
          ]
        },
        {
          "output_type": "stream",
          "name": "stdout",
          "text": [
            "Epoch [324/5000] | Train Loss: 6.4266 | Eval Loss: 6.4384\n"
          ]
        },
        {
          "output_type": "stream",
          "name": "stderr",
          "text": [
            "Epoch 325/5000 (Training): 100%|██████████| 730/730 [00:02<00:00, 272.66it/s]\n",
            "Epoch 325/5000 (Validation): 100%|██████████| 730/730 [00:00<00:00, 902.82it/s]\n"
          ]
        },
        {
          "output_type": "stream",
          "name": "stdout",
          "text": [
            "Epoch [325/5000] | Train Loss: 6.4266 | Eval Loss: 6.4384\n"
          ]
        },
        {
          "output_type": "stream",
          "name": "stderr",
          "text": [
            "Epoch 326/5000 (Training): 100%|██████████| 730/730 [00:02<00:00, 268.64it/s]\n",
            "Epoch 326/5000 (Validation): 100%|██████████| 730/730 [00:00<00:00, 852.60it/s]\n"
          ]
        },
        {
          "output_type": "stream",
          "name": "stdout",
          "text": [
            "Epoch [326/5000] | Train Loss: 6.4266 | Eval Loss: 6.4384\n"
          ]
        },
        {
          "output_type": "stream",
          "name": "stderr",
          "text": [
            "Epoch 327/5000 (Training): 100%|██████████| 730/730 [00:03<00:00, 194.07it/s]\n",
            "Epoch 327/5000 (Validation): 100%|██████████| 730/730 [00:00<00:00, 906.47it/s]\n"
          ]
        },
        {
          "output_type": "stream",
          "name": "stdout",
          "text": [
            "Epoch [327/5000] | Train Loss: 6.4266 | Eval Loss: 6.4384\n"
          ]
        },
        {
          "output_type": "stream",
          "name": "stderr",
          "text": [
            "Epoch 328/5000 (Training): 100%|██████████| 730/730 [00:02<00:00, 274.13it/s]\n",
            "Epoch 328/5000 (Validation): 100%|██████████| 730/730 [00:00<00:00, 939.45it/s]\n"
          ]
        },
        {
          "output_type": "stream",
          "name": "stdout",
          "text": [
            "Epoch [328/5000] | Train Loss: 6.4266 | Eval Loss: 6.4385\n"
          ]
        },
        {
          "output_type": "stream",
          "name": "stderr",
          "text": [
            "Epoch 329/5000 (Training): 100%|██████████| 730/730 [00:02<00:00, 266.13it/s]\n",
            "Epoch 329/5000 (Validation): 100%|██████████| 730/730 [00:00<00:00, 901.78it/s]\n"
          ]
        },
        {
          "output_type": "stream",
          "name": "stdout",
          "text": [
            "Epoch [329/5000] | Train Loss: 6.4266 | Eval Loss: 6.4385\n"
          ]
        },
        {
          "output_type": "stream",
          "name": "stderr",
          "text": [
            "Epoch 330/5000 (Training): 100%|██████████| 730/730 [00:02<00:00, 248.97it/s]\n",
            "Epoch 330/5000 (Validation): 100%|██████████| 730/730 [00:01<00:00, 656.54it/s]\n"
          ]
        },
        {
          "output_type": "stream",
          "name": "stdout",
          "text": [
            "Epoch [330/5000] | Train Loss: 6.4266 | Eval Loss: 6.4385\n"
          ]
        },
        {
          "output_type": "stream",
          "name": "stderr",
          "text": [
            "Epoch 331/5000 (Training): 100%|██████████| 730/730 [00:03<00:00, 225.50it/s]\n",
            "Epoch 331/5000 (Validation): 100%|██████████| 730/730 [00:00<00:00, 894.02it/s]\n"
          ]
        },
        {
          "output_type": "stream",
          "name": "stdout",
          "text": [
            "Epoch [331/5000] | Train Loss: 6.4266 | Eval Loss: 6.4385\n"
          ]
        },
        {
          "output_type": "stream",
          "name": "stderr",
          "text": [
            "Epoch 332/5000 (Training): 100%|██████████| 730/730 [00:02<00:00, 274.07it/s]\n",
            "Epoch 332/5000 (Validation): 100%|██████████| 730/730 [00:00<00:00, 926.27it/s]\n"
          ]
        },
        {
          "output_type": "stream",
          "name": "stdout",
          "text": [
            "Epoch [332/5000] | Train Loss: 6.4266 | Eval Loss: 6.4385\n"
          ]
        },
        {
          "output_type": "stream",
          "name": "stderr",
          "text": [
            "Epoch 333/5000 (Training): 100%|██████████| 730/730 [00:02<00:00, 268.81it/s]\n",
            "Epoch 333/5000 (Validation): 100%|██████████| 730/730 [00:00<00:00, 912.00it/s]\n"
          ]
        },
        {
          "output_type": "stream",
          "name": "stdout",
          "text": [
            "Epoch [333/5000] | Train Loss: 6.4266 | Eval Loss: 6.4386\n"
          ]
        },
        {
          "output_type": "stream",
          "name": "stderr",
          "text": [
            "Epoch 334/5000 (Training): 100%|██████████| 730/730 [00:03<00:00, 211.01it/s]\n",
            "Epoch 334/5000 (Validation): 100%|██████████| 730/730 [00:01<00:00, 664.42it/s]\n"
          ]
        },
        {
          "output_type": "stream",
          "name": "stdout",
          "text": [
            "Epoch [334/5000] | Train Loss: 6.4266 | Eval Loss: 6.4386\n"
          ]
        },
        {
          "output_type": "stream",
          "name": "stderr",
          "text": [
            "Epoch 335/5000 (Training): 100%|██████████| 730/730 [00:02<00:00, 260.58it/s]\n",
            "Epoch 335/5000 (Validation): 100%|██████████| 730/730 [00:00<00:00, 916.16it/s]\n"
          ]
        },
        {
          "output_type": "stream",
          "name": "stdout",
          "text": [
            "Epoch [335/5000] | Train Loss: 6.4266 | Eval Loss: 6.4386\n"
          ]
        },
        {
          "output_type": "stream",
          "name": "stderr",
          "text": [
            "Epoch 336/5000 (Training): 100%|██████████| 730/730 [00:02<00:00, 275.70it/s]\n",
            "Epoch 336/5000 (Validation): 100%|██████████| 730/730 [00:00<00:00, 885.44it/s]\n"
          ]
        },
        {
          "output_type": "stream",
          "name": "stdout",
          "text": [
            "Epoch [336/5000] | Train Loss: 6.4266 | Eval Loss: 6.4387\n"
          ]
        },
        {
          "output_type": "stream",
          "name": "stderr",
          "text": [
            "Epoch 337/5000 (Training): 100%|██████████| 730/730 [00:03<00:00, 228.47it/s]\n",
            "Epoch 337/5000 (Validation): 100%|██████████| 730/730 [00:01<00:00, 661.06it/s]\n"
          ]
        },
        {
          "output_type": "stream",
          "name": "stdout",
          "text": [
            "Epoch [337/5000] | Train Loss: 6.4266 | Eval Loss: 6.4387\n"
          ]
        },
        {
          "output_type": "stream",
          "name": "stderr",
          "text": [
            "Epoch 338/5000 (Training): 100%|██████████| 730/730 [00:03<00:00, 202.81it/s]\n",
            "Epoch 338/5000 (Validation): 100%|██████████| 730/730 [00:00<00:00, 905.94it/s]\n"
          ]
        },
        {
          "output_type": "stream",
          "name": "stdout",
          "text": [
            "Epoch [338/5000] | Train Loss: 6.4266 | Eval Loss: 6.4387\n"
          ]
        },
        {
          "output_type": "stream",
          "name": "stderr",
          "text": [
            "Epoch 339/5000 (Training): 100%|██████████| 730/730 [00:02<00:00, 274.62it/s]\n",
            "Epoch 339/5000 (Validation): 100%|██████████| 730/730 [00:00<00:00, 898.12it/s]\n"
          ]
        },
        {
          "output_type": "stream",
          "name": "stdout",
          "text": [
            "Epoch [339/5000] | Train Loss: 6.4266 | Eval Loss: 6.4387\n"
          ]
        },
        {
          "output_type": "stream",
          "name": "stderr",
          "text": [
            "Epoch 340/5000 (Training): 100%|██████████| 730/730 [00:02<00:00, 273.44it/s]\n",
            "Epoch 340/5000 (Validation): 100%|██████████| 730/730 [00:00<00:00, 795.22it/s]\n"
          ]
        },
        {
          "output_type": "stream",
          "name": "stdout",
          "text": [
            "Epoch [340/5000] | Train Loss: 6.4266 | Eval Loss: 6.4388\n"
          ]
        },
        {
          "output_type": "stream",
          "name": "stderr",
          "text": [
            "Epoch 341/5000 (Training): 100%|██████████| 730/730 [00:03<00:00, 217.67it/s]\n",
            "Epoch 341/5000 (Validation): 100%|██████████| 730/730 [00:01<00:00, 654.92it/s]\n"
          ]
        },
        {
          "output_type": "stream",
          "name": "stdout",
          "text": [
            "Epoch [341/5000] | Train Loss: 6.4266 | Eval Loss: 6.4388\n"
          ]
        },
        {
          "output_type": "stream",
          "name": "stderr",
          "text": [
            "Epoch 342/5000 (Training): 100%|██████████| 730/730 [00:03<00:00, 243.32it/s]\n",
            "Epoch 342/5000 (Validation): 100%|██████████| 730/730 [00:00<00:00, 906.97it/s]\n"
          ]
        },
        {
          "output_type": "stream",
          "name": "stdout",
          "text": [
            "Epoch [342/5000] | Train Loss: 6.4266 | Eval Loss: 6.4387\n"
          ]
        },
        {
          "output_type": "stream",
          "name": "stderr",
          "text": [
            "Epoch 343/5000 (Training): 100%|██████████| 730/730 [00:02<00:00, 273.30it/s]\n",
            "Epoch 343/5000 (Validation): 100%|██████████| 730/730 [00:00<00:00, 893.56it/s]\n"
          ]
        },
        {
          "output_type": "stream",
          "name": "stdout",
          "text": [
            "Epoch [343/5000] | Train Loss: 6.4266 | Eval Loss: 6.4388\n"
          ]
        },
        {
          "output_type": "stream",
          "name": "stderr",
          "text": [
            "Epoch 344/5000 (Training): 100%|██████████| 730/730 [00:02<00:00, 273.80it/s]\n",
            "Epoch 344/5000 (Validation): 100%|██████████| 730/730 [00:00<00:00, 826.05it/s]\n"
          ]
        },
        {
          "output_type": "stream",
          "name": "stdout",
          "text": [
            "Epoch [344/5000] | Train Loss: 6.4266 | Eval Loss: 6.4388\n"
          ]
        },
        {
          "output_type": "stream",
          "name": "stderr",
          "text": [
            "Epoch 345/5000 (Training): 100%|██████████| 730/730 [00:03<00:00, 194.25it/s]\n",
            "Epoch 345/5000 (Validation): 100%|██████████| 730/730 [00:00<00:00, 746.65it/s]\n"
          ]
        },
        {
          "output_type": "stream",
          "name": "stdout",
          "text": [
            "Epoch [345/5000] | Train Loss: 6.4266 | Eval Loss: 6.4389\n"
          ]
        },
        {
          "output_type": "stream",
          "name": "stderr",
          "text": [
            "Epoch 346/5000 (Training): 100%|██████████| 730/730 [00:02<00:00, 266.16it/s]\n",
            "Epoch 346/5000 (Validation): 100%|██████████| 730/730 [00:00<00:00, 912.72it/s]\n"
          ]
        },
        {
          "output_type": "stream",
          "name": "stdout",
          "text": [
            "Epoch [346/5000] | Train Loss: 6.4266 | Eval Loss: 6.4389\n"
          ]
        },
        {
          "output_type": "stream",
          "name": "stderr",
          "text": [
            "Epoch 347/5000 (Training): 100%|██████████| 730/730 [00:03<00:00, 212.47it/s]\n",
            "Epoch 347/5000 (Validation): 100%|██████████| 730/730 [00:00<00:00, 912.39it/s]\n"
          ]
        },
        {
          "output_type": "stream",
          "name": "stdout",
          "text": [
            "Epoch [347/5000] | Train Loss: 6.4266 | Eval Loss: 6.4389\n"
          ]
        },
        {
          "output_type": "stream",
          "name": "stderr",
          "text": [
            "Epoch 348/5000 (Training): 100%|██████████| 730/730 [00:07<00:00, 103.86it/s]\n",
            "Epoch 348/5000 (Validation): 100%|██████████| 730/730 [00:01<00:00, 595.45it/s]\n"
          ]
        },
        {
          "output_type": "stream",
          "name": "stdout",
          "text": [
            "Epoch [348/5000] | Train Loss: 6.4266 | Eval Loss: 6.4389\n"
          ]
        },
        {
          "output_type": "stream",
          "name": "stderr",
          "text": [
            "Epoch 349/5000 (Training): 100%|██████████| 730/730 [00:03<00:00, 223.55it/s]\n",
            "Epoch 349/5000 (Validation): 100%|██████████| 730/730 [00:01<00:00, 692.42it/s]\n"
          ]
        },
        {
          "output_type": "stream",
          "name": "stdout",
          "text": [
            "Epoch [349/5000] | Train Loss: 6.4266 | Eval Loss: 6.4389\n"
          ]
        },
        {
          "output_type": "stream",
          "name": "stderr",
          "text": [
            "Epoch 350/5000 (Training): 100%|██████████| 730/730 [00:02<00:00, 254.88it/s]\n",
            "Epoch 350/5000 (Validation): 100%|██████████| 730/730 [00:00<00:00, 922.89it/s]\n"
          ]
        },
        {
          "output_type": "stream",
          "name": "stdout",
          "text": [
            "Epoch [350/5000] | Train Loss: 6.4266 | Eval Loss: 6.4390\n"
          ]
        },
        {
          "output_type": "stream",
          "name": "stderr",
          "text": [
            "Epoch 351/5000 (Training): 100%|██████████| 730/730 [00:03<00:00, 199.55it/s]\n",
            "Epoch 351/5000 (Validation): 100%|██████████| 730/730 [00:01<00:00, 692.49it/s]\n"
          ]
        },
        {
          "output_type": "stream",
          "name": "stdout",
          "text": [
            "Epoch [351/5000] | Train Loss: 6.4266 | Eval Loss: 6.4390\n"
          ]
        },
        {
          "output_type": "stream",
          "name": "stderr",
          "text": [
            "Epoch 352/5000 (Training): 100%|██████████| 730/730 [00:02<00:00, 274.26it/s]\n",
            "Epoch 352/5000 (Validation): 100%|██████████| 730/730 [00:00<00:00, 891.34it/s]\n"
          ]
        },
        {
          "output_type": "stream",
          "name": "stdout",
          "text": [
            "Epoch [352/5000] | Train Loss: 6.4266 | Eval Loss: 6.4390\n"
          ]
        },
        {
          "output_type": "stream",
          "name": "stderr",
          "text": [
            "Epoch 353/5000 (Training): 100%|██████████| 730/730 [00:02<00:00, 275.25it/s]\n",
            "Epoch 353/5000 (Validation): 100%|██████████| 730/730 [00:00<00:00, 895.24it/s]\n"
          ]
        },
        {
          "output_type": "stream",
          "name": "stdout",
          "text": [
            "Epoch [353/5000] | Train Loss: 6.4266 | Eval Loss: 6.4390\n"
          ]
        },
        {
          "output_type": "stream",
          "name": "stderr",
          "text": [
            "Epoch 354/5000 (Training): 100%|██████████| 730/730 [00:02<00:00, 271.22it/s]\n",
            "Epoch 354/5000 (Validation): 100%|██████████| 730/730 [00:01<00:00, 649.79it/s]\n"
          ]
        },
        {
          "output_type": "stream",
          "name": "stdout",
          "text": [
            "Epoch [354/5000] | Train Loss: 6.4266 | Eval Loss: 6.4391\n"
          ]
        },
        {
          "output_type": "stream",
          "name": "stderr",
          "text": [
            "Epoch 355/5000 (Training): 100%|██████████| 730/730 [00:03<00:00, 201.13it/s]\n",
            "Epoch 355/5000 (Validation): 100%|██████████| 730/730 [00:00<00:00, 882.26it/s]\n"
          ]
        },
        {
          "output_type": "stream",
          "name": "stdout",
          "text": [
            "Epoch [355/5000] | Train Loss: 6.4266 | Eval Loss: 6.4391\n"
          ]
        },
        {
          "output_type": "stream",
          "name": "stderr",
          "text": [
            "Epoch 356/5000 (Training): 100%|██████████| 730/730 [00:02<00:00, 269.63it/s]\n",
            "Epoch 356/5000 (Validation): 100%|██████████| 730/730 [00:00<00:00, 897.08it/s]\n"
          ]
        },
        {
          "output_type": "stream",
          "name": "stdout",
          "text": [
            "Epoch [356/5000] | Train Loss: 6.4266 | Eval Loss: 6.4390\n"
          ]
        },
        {
          "output_type": "stream",
          "name": "stderr",
          "text": [
            "Epoch 357/5000 (Training): 100%|██████████| 730/730 [00:02<00:00, 266.73it/s]\n",
            "Epoch 357/5000 (Validation): 100%|██████████| 730/730 [00:00<00:00, 876.37it/s]\n"
          ]
        },
        {
          "output_type": "stream",
          "name": "stdout",
          "text": [
            "Epoch [357/5000] | Train Loss: 6.4266 | Eval Loss: 6.4391\n"
          ]
        },
        {
          "output_type": "stream",
          "name": "stderr",
          "text": [
            "Epoch 358/5000 (Training): 100%|██████████| 730/730 [00:03<00:00, 229.50it/s]\n",
            "Epoch 358/5000 (Validation): 100%|██████████| 730/730 [00:01<00:00, 639.93it/s]\n"
          ]
        },
        {
          "output_type": "stream",
          "name": "stdout",
          "text": [
            "Epoch [358/5000] | Train Loss: 6.4266 | Eval Loss: 6.4391\n"
          ]
        },
        {
          "output_type": "stream",
          "name": "stderr",
          "text": [
            "Epoch 359/5000 (Training): 100%|██████████| 730/730 [00:03<00:00, 239.70it/s]\n",
            "Epoch 359/5000 (Validation): 100%|██████████| 730/730 [00:00<00:00, 874.35it/s]\n"
          ]
        },
        {
          "output_type": "stream",
          "name": "stdout",
          "text": [
            "Epoch [359/5000] | Train Loss: 6.4266 | Eval Loss: 6.4391\n"
          ]
        },
        {
          "output_type": "stream",
          "name": "stderr",
          "text": [
            "Epoch 360/5000 (Training): 100%|██████████| 730/730 [00:02<00:00, 272.60it/s]\n",
            "Epoch 360/5000 (Validation): 100%|██████████| 730/730 [00:00<00:00, 919.05it/s]\n"
          ]
        },
        {
          "output_type": "stream",
          "name": "stdout",
          "text": [
            "Epoch [360/5000] | Train Loss: 6.4266 | Eval Loss: 6.4391\n"
          ]
        },
        {
          "output_type": "stream",
          "name": "stderr",
          "text": [
            "Epoch 361/5000 (Training): 100%|██████████| 730/730 [00:02<00:00, 275.83it/s]\n",
            "Epoch 361/5000 (Validation): 100%|██████████| 730/730 [00:00<00:00, 879.25it/s]\n"
          ]
        },
        {
          "output_type": "stream",
          "name": "stdout",
          "text": [
            "Epoch [361/5000] | Train Loss: 6.4266 | Eval Loss: 6.4392\n"
          ]
        },
        {
          "output_type": "stream",
          "name": "stderr",
          "text": [
            "Epoch 362/5000 (Training): 100%|██████████| 730/730 [00:03<00:00, 195.82it/s]\n",
            "Epoch 362/5000 (Validation): 100%|██████████| 730/730 [00:00<00:00, 730.38it/s]\n"
          ]
        },
        {
          "output_type": "stream",
          "name": "stdout",
          "text": [
            "Epoch [362/5000] | Train Loss: 6.4266 | Eval Loss: 6.4392\n"
          ]
        },
        {
          "output_type": "stream",
          "name": "stderr",
          "text": [
            "Epoch 363/5000 (Training): 100%|██████████| 730/730 [00:02<00:00, 272.85it/s]\n",
            "Epoch 363/5000 (Validation): 100%|██████████| 730/730 [00:00<00:00, 882.70it/s]\n"
          ]
        },
        {
          "output_type": "stream",
          "name": "stdout",
          "text": [
            "Epoch [363/5000] | Train Loss: 6.4266 | Eval Loss: 6.4392\n"
          ]
        },
        {
          "output_type": "stream",
          "name": "stderr",
          "text": [
            "Epoch 364/5000 (Training): 100%|██████████| 730/730 [00:02<00:00, 273.60it/s]\n",
            "Epoch 364/5000 (Validation): 100%|██████████| 730/730 [00:00<00:00, 876.23it/s]\n"
          ]
        },
        {
          "output_type": "stream",
          "name": "stdout",
          "text": [
            "Epoch [364/5000] | Train Loss: 6.4266 | Eval Loss: 6.4392\n"
          ]
        },
        {
          "output_type": "stream",
          "name": "stderr",
          "text": [
            "Epoch 365/5000 (Training): 100%|██████████| 730/730 [00:03<00:00, 224.20it/s]\n",
            "Epoch 365/5000 (Validation): 100%|██████████| 730/730 [00:01<00:00, 627.54it/s]\n"
          ]
        },
        {
          "output_type": "stream",
          "name": "stdout",
          "text": [
            "Epoch [365/5000] | Train Loss: 6.4266 | Eval Loss: 6.4392\n"
          ]
        },
        {
          "output_type": "stream",
          "name": "stderr",
          "text": [
            "Epoch 366/5000 (Training): 100%|██████████| 730/730 [00:03<00:00, 217.21it/s]\n",
            "Epoch 366/5000 (Validation): 100%|██████████| 730/730 [00:00<00:00, 908.85it/s]\n"
          ]
        },
        {
          "output_type": "stream",
          "name": "stdout",
          "text": [
            "Epoch [366/5000] | Train Loss: 6.4266 | Eval Loss: 6.4393\n"
          ]
        },
        {
          "output_type": "stream",
          "name": "stderr",
          "text": [
            "Epoch 367/5000 (Training): 100%|██████████| 730/730 [00:02<00:00, 268.04it/s]\n",
            "Epoch 367/5000 (Validation): 100%|██████████| 730/730 [00:00<00:00, 904.24it/s]\n"
          ]
        },
        {
          "output_type": "stream",
          "name": "stdout",
          "text": [
            "Epoch [367/5000] | Train Loss: 6.4266 | Eval Loss: 6.4393\n"
          ]
        },
        {
          "output_type": "stream",
          "name": "stderr",
          "text": [
            "Epoch 368/5000 (Training): 100%|██████████| 730/730 [00:02<00:00, 273.28it/s]\n",
            "Epoch 368/5000 (Validation): 100%|██████████| 730/730 [00:00<00:00, 889.04it/s]\n"
          ]
        },
        {
          "output_type": "stream",
          "name": "stdout",
          "text": [
            "Epoch [368/5000] | Train Loss: 6.4266 | Eval Loss: 6.4393\n"
          ]
        },
        {
          "output_type": "stream",
          "name": "stderr",
          "text": [
            "Epoch 369/5000 (Training): 100%|██████████| 730/730 [00:03<00:00, 216.44it/s]\n",
            "Epoch 369/5000 (Validation): 100%|██████████| 730/730 [00:01<00:00, 662.85it/s]\n"
          ]
        },
        {
          "output_type": "stream",
          "name": "stdout",
          "text": [
            "Epoch [369/5000] | Train Loss: 6.4266 | Eval Loss: 6.4393\n"
          ]
        },
        {
          "output_type": "stream",
          "name": "stderr",
          "text": [
            "Epoch 370/5000 (Training): 100%|██████████| 730/730 [00:02<00:00, 254.31it/s]\n",
            "Epoch 370/5000 (Validation): 100%|██████████| 730/730 [00:00<00:00, 913.28it/s]\n"
          ]
        },
        {
          "output_type": "stream",
          "name": "stdout",
          "text": [
            "Epoch [370/5000] | Train Loss: 6.4266 | Eval Loss: 6.4394\n"
          ]
        },
        {
          "output_type": "stream",
          "name": "stderr",
          "text": [
            "Epoch 371/5000 (Training): 100%|██████████| 730/730 [00:02<00:00, 276.75it/s]\n",
            "Epoch 371/5000 (Validation): 100%|██████████| 730/730 [00:00<00:00, 902.69it/s]\n"
          ]
        },
        {
          "output_type": "stream",
          "name": "stdout",
          "text": [
            "Epoch [371/5000] | Train Loss: 6.4266 | Eval Loss: 6.4394\n"
          ]
        },
        {
          "output_type": "stream",
          "name": "stderr",
          "text": [
            "Epoch 372/5000 (Training): 100%|██████████| 730/730 [00:02<00:00, 272.22it/s]\n",
            "Epoch 372/5000 (Validation): 100%|██████████| 730/730 [00:00<00:00, 826.16it/s]\n"
          ]
        },
        {
          "output_type": "stream",
          "name": "stdout",
          "text": [
            "Epoch [372/5000] | Train Loss: 6.4266 | Eval Loss: 6.4394\n"
          ]
        },
        {
          "output_type": "stream",
          "name": "stderr",
          "text": [
            "Epoch 373/5000 (Training): 100%|██████████| 730/730 [00:03<00:00, 191.63it/s]\n",
            "Epoch 373/5000 (Validation): 100%|██████████| 730/730 [00:00<00:00, 836.57it/s]\n"
          ]
        },
        {
          "output_type": "stream",
          "name": "stdout",
          "text": [
            "Epoch [373/5000] | Train Loss: 6.4266 | Eval Loss: 6.4394\n"
          ]
        },
        {
          "output_type": "stream",
          "name": "stderr",
          "text": [
            "Epoch 374/5000 (Training): 100%|██████████| 730/730 [00:02<00:00, 266.67it/s]\n",
            "Epoch 374/5000 (Validation): 100%|██████████| 730/730 [00:00<00:00, 840.16it/s]\n"
          ]
        },
        {
          "output_type": "stream",
          "name": "stdout",
          "text": [
            "Epoch [374/5000] | Train Loss: 6.4266 | Eval Loss: 6.4394\n"
          ]
        },
        {
          "output_type": "stream",
          "name": "stderr",
          "text": [
            "Epoch 375/5000 (Training): 100%|██████████| 730/730 [00:02<00:00, 264.54it/s]\n",
            "Epoch 375/5000 (Validation): 100%|██████████| 730/730 [00:00<00:00, 873.12it/s]\n"
          ]
        },
        {
          "output_type": "stream",
          "name": "stdout",
          "text": [
            "Epoch [375/5000] | Train Loss: 6.4266 | Eval Loss: 6.4395\n"
          ]
        },
        {
          "output_type": "stream",
          "name": "stderr",
          "text": [
            "Epoch 376/5000 (Training): 100%|██████████| 730/730 [00:03<00:00, 221.11it/s]\n",
            "Epoch 376/5000 (Validation): 100%|██████████| 730/730 [00:01<00:00, 627.62it/s]\n"
          ]
        },
        {
          "output_type": "stream",
          "name": "stdout",
          "text": [
            "Epoch [376/5000] | Train Loss: 6.4266 | Eval Loss: 6.4395\n"
          ]
        },
        {
          "output_type": "stream",
          "name": "stderr",
          "text": [
            "Epoch 377/5000 (Training): 100%|██████████| 730/730 [00:03<00:00, 232.10it/s]\n",
            "Epoch 377/5000 (Validation): 100%|██████████| 730/730 [00:00<00:00, 909.20it/s]\n"
          ]
        },
        {
          "output_type": "stream",
          "name": "stdout",
          "text": [
            "Epoch [377/5000] | Train Loss: 6.4266 | Eval Loss: 6.4395\n"
          ]
        },
        {
          "output_type": "stream",
          "name": "stderr",
          "text": [
            "Epoch 378/5000 (Training): 100%|██████████| 730/730 [00:02<00:00, 267.69it/s]\n",
            "Epoch 378/5000 (Validation): 100%|██████████| 730/730 [00:00<00:00, 891.89it/s]\n"
          ]
        },
        {
          "output_type": "stream",
          "name": "stdout",
          "text": [
            "Epoch [378/5000] | Train Loss: 6.4266 | Eval Loss: 6.4395\n"
          ]
        },
        {
          "output_type": "stream",
          "name": "stderr",
          "text": [
            "Epoch 379/5000 (Training): 100%|██████████| 730/730 [00:02<00:00, 265.89it/s]\n",
            "Epoch 379/5000 (Validation): 100%|██████████| 730/730 [00:00<00:00, 884.46it/s]\n"
          ]
        },
        {
          "output_type": "stream",
          "name": "stdout",
          "text": [
            "Epoch [379/5000] | Train Loss: 6.4266 | Eval Loss: 6.4395\n"
          ]
        },
        {
          "output_type": "stream",
          "name": "stderr",
          "text": [
            "Epoch 380/5000 (Training): 100%|██████████| 730/730 [00:03<00:00, 200.73it/s]\n",
            "Epoch 380/5000 (Validation): 100%|██████████| 730/730 [00:01<00:00, 673.17it/s]\n"
          ]
        },
        {
          "output_type": "stream",
          "name": "stdout",
          "text": [
            "Epoch [380/5000] | Train Loss: 6.4266 | Eval Loss: 6.4395\n"
          ]
        },
        {
          "output_type": "stream",
          "name": "stderr",
          "text": [
            "Epoch 381/5000 (Training): 100%|██████████| 730/730 [00:02<00:00, 259.78it/s]\n",
            "Epoch 381/5000 (Validation): 100%|██████████| 730/730 [00:00<00:00, 793.77it/s]\n"
          ]
        },
        {
          "output_type": "stream",
          "name": "stdout",
          "text": [
            "Epoch [381/5000] | Train Loss: 6.4266 | Eval Loss: 6.4396\n"
          ]
        },
        {
          "output_type": "stream",
          "name": "stderr",
          "text": [
            "Epoch 382/5000 (Training): 100%|██████████| 730/730 [00:02<00:00, 265.89it/s]\n",
            "Epoch 382/5000 (Validation): 100%|██████████| 730/730 [00:00<00:00, 893.30it/s]\n"
          ]
        },
        {
          "output_type": "stream",
          "name": "stdout",
          "text": [
            "Epoch [382/5000] | Train Loss: 6.4266 | Eval Loss: 6.4396\n"
          ]
        },
        {
          "output_type": "stream",
          "name": "stderr",
          "text": [
            "Epoch 383/5000 (Training): 100%|██████████| 730/730 [00:02<00:00, 255.40it/s]\n",
            "Epoch 383/5000 (Validation): 100%|██████████| 730/730 [00:01<00:00, 624.65it/s]\n"
          ]
        },
        {
          "output_type": "stream",
          "name": "stdout",
          "text": [
            "Epoch [383/5000] | Train Loss: 6.4266 | Eval Loss: 6.4396\n"
          ]
        },
        {
          "output_type": "stream",
          "name": "stderr",
          "text": [
            "Epoch 384/5000 (Training): 100%|██████████| 730/730 [00:03<00:00, 212.28it/s]\n",
            "Epoch 384/5000 (Validation): 100%|██████████| 730/730 [00:00<00:00, 874.05it/s]\n"
          ]
        },
        {
          "output_type": "stream",
          "name": "stdout",
          "text": [
            "Epoch [384/5000] | Train Loss: 6.4266 | Eval Loss: 6.4396\n"
          ]
        },
        {
          "output_type": "stream",
          "name": "stderr",
          "text": [
            "Epoch 385/5000 (Training): 100%|██████████| 730/730 [00:02<00:00, 268.11it/s]\n",
            "Epoch 385/5000 (Validation): 100%|██████████| 730/730 [00:00<00:00, 870.63it/s]\n"
          ]
        },
        {
          "output_type": "stream",
          "name": "stdout",
          "text": [
            "Epoch [385/5000] | Train Loss: 6.4266 | Eval Loss: 6.4396\n"
          ]
        },
        {
          "output_type": "stream",
          "name": "stderr",
          "text": [
            "Epoch 386/5000 (Training): 100%|██████████| 730/730 [00:02<00:00, 264.78it/s]\n",
            "Epoch 386/5000 (Validation): 100%|██████████| 730/730 [00:00<00:00, 918.40it/s]\n"
          ]
        },
        {
          "output_type": "stream",
          "name": "stdout",
          "text": [
            "Epoch [386/5000] | Train Loss: 6.4266 | Eval Loss: 6.4397\n"
          ]
        },
        {
          "output_type": "stream",
          "name": "stderr",
          "text": [
            "Epoch 387/5000 (Training): 100%|██████████| 730/730 [00:03<00:00, 214.76it/s]\n",
            "Epoch 387/5000 (Validation): 100%|██████████| 730/730 [00:01<00:00, 668.36it/s]\n"
          ]
        },
        {
          "output_type": "stream",
          "name": "stdout",
          "text": [
            "Epoch [387/5000] | Train Loss: 6.4266 | Eval Loss: 6.4397\n"
          ]
        },
        {
          "output_type": "stream",
          "name": "stderr",
          "text": [
            "Epoch 388/5000 (Training): 100%|██████████| 730/730 [00:02<00:00, 260.02it/s]\n",
            "Epoch 388/5000 (Validation): 100%|██████████| 730/730 [00:00<00:00, 880.91it/s]\n"
          ]
        },
        {
          "output_type": "stream",
          "name": "stdout",
          "text": [
            "Epoch [388/5000] | Train Loss: 6.4266 | Eval Loss: 6.4397\n"
          ]
        },
        {
          "output_type": "stream",
          "name": "stderr",
          "text": [
            "Epoch 389/5000 (Training): 100%|██████████| 730/730 [00:02<00:00, 272.05it/s]\n",
            "Epoch 389/5000 (Validation): 100%|██████████| 730/730 [00:00<00:00, 896.88it/s]\n"
          ]
        },
        {
          "output_type": "stream",
          "name": "stdout",
          "text": [
            "Epoch [389/5000] | Train Loss: 6.4266 | Eval Loss: 6.4397\n"
          ]
        },
        {
          "output_type": "stream",
          "name": "stderr",
          "text": [
            "Epoch 390/5000 (Training): 100%|██████████| 730/730 [00:02<00:00, 262.63it/s]\n",
            "Epoch 390/5000 (Validation): 100%|██████████| 730/730 [00:00<00:00, 834.80it/s]\n"
          ]
        },
        {
          "output_type": "stream",
          "name": "stdout",
          "text": [
            "Epoch [390/5000] | Train Loss: 6.4266 | Eval Loss: 6.4397\n"
          ]
        },
        {
          "output_type": "stream",
          "name": "stderr",
          "text": [
            "Epoch 391/5000 (Training): 100%|██████████| 730/730 [00:03<00:00, 191.79it/s]\n",
            "Epoch 391/5000 (Validation): 100%|██████████| 730/730 [00:00<00:00, 906.31it/s]\n"
          ]
        },
        {
          "output_type": "stream",
          "name": "stdout",
          "text": [
            "Epoch [391/5000] | Train Loss: 6.4266 | Eval Loss: 6.4397\n"
          ]
        },
        {
          "output_type": "stream",
          "name": "stderr",
          "text": [
            "Epoch 392/5000 (Training): 100%|██████████| 730/730 [00:02<00:00, 271.76it/s]\n",
            "Epoch 392/5000 (Validation): 100%|██████████| 730/730 [00:00<00:00, 918.59it/s]\n"
          ]
        },
        {
          "output_type": "stream",
          "name": "stdout",
          "text": [
            "Epoch [392/5000] | Train Loss: 6.4266 | Eval Loss: 6.4398\n"
          ]
        },
        {
          "output_type": "stream",
          "name": "stderr",
          "text": [
            "Epoch 393/5000 (Training): 100%|██████████| 730/730 [00:02<00:00, 273.97it/s]\n",
            "Epoch 393/5000 (Validation): 100%|██████████| 730/730 [00:00<00:00, 956.34it/s]\n"
          ]
        },
        {
          "output_type": "stream",
          "name": "stdout",
          "text": [
            "Epoch [393/5000] | Train Loss: 6.4266 | Eval Loss: 6.4398\n"
          ]
        },
        {
          "output_type": "stream",
          "name": "stderr",
          "text": [
            "Epoch 394/5000 (Training): 100%|██████████| 730/730 [00:02<00:00, 250.73it/s]\n",
            "Epoch 394/5000 (Validation): 100%|██████████| 730/730 [00:01<00:00, 637.57it/s]\n"
          ]
        },
        {
          "output_type": "stream",
          "name": "stdout",
          "text": [
            "Epoch [394/5000] | Train Loss: 6.4266 | Eval Loss: 6.4398\n"
          ]
        },
        {
          "output_type": "stream",
          "name": "stderr",
          "text": [
            "Epoch 395/5000 (Training): 100%|██████████| 730/730 [00:03<00:00, 219.40it/s]\n",
            "Epoch 395/5000 (Validation): 100%|██████████| 730/730 [00:00<00:00, 917.64it/s]\n"
          ]
        },
        {
          "output_type": "stream",
          "name": "stdout",
          "text": [
            "Epoch [395/5000] | Train Loss: 6.4266 | Eval Loss: 6.4398\n"
          ]
        },
        {
          "output_type": "stream",
          "name": "stderr",
          "text": [
            "Epoch 396/5000 (Training): 100%|██████████| 730/730 [00:02<00:00, 275.05it/s]\n",
            "Epoch 396/5000 (Validation): 100%|██████████| 730/730 [00:00<00:00, 911.02it/s]\n"
          ]
        },
        {
          "output_type": "stream",
          "name": "stdout",
          "text": [
            "Epoch [396/5000] | Train Loss: 6.4266 | Eval Loss: 6.4398\n"
          ]
        },
        {
          "output_type": "stream",
          "name": "stderr",
          "text": [
            "Epoch 397/5000 (Training): 100%|██████████| 730/730 [00:02<00:00, 272.08it/s]\n",
            "Epoch 397/5000 (Validation): 100%|██████████| 730/730 [00:00<00:00, 905.10it/s]\n"
          ]
        },
        {
          "output_type": "stream",
          "name": "stdout",
          "text": [
            "Epoch [397/5000] | Train Loss: 6.4266 | Eval Loss: 6.4398\n"
          ]
        },
        {
          "output_type": "stream",
          "name": "stderr",
          "text": [
            "Epoch 398/5000 (Training): 100%|██████████| 730/730 [00:03<00:00, 214.85it/s]\n",
            "Epoch 398/5000 (Validation): 100%|██████████| 730/730 [00:01<00:00, 620.74it/s]\n"
          ]
        },
        {
          "output_type": "stream",
          "name": "stdout",
          "text": [
            "Epoch [398/5000] | Train Loss: 6.4266 | Eval Loss: 6.4399\n"
          ]
        },
        {
          "output_type": "stream",
          "name": "stderr",
          "text": [
            "Epoch 399/5000 (Training): 100%|██████████| 730/730 [00:02<00:00, 257.14it/s]\n",
            "Epoch 399/5000 (Validation): 100%|██████████| 730/730 [00:00<00:00, 906.55it/s]\n"
          ]
        },
        {
          "output_type": "stream",
          "name": "stdout",
          "text": [
            "Epoch [399/5000] | Train Loss: 6.4266 | Eval Loss: 6.4399\n"
          ]
        },
        {
          "output_type": "stream",
          "name": "stderr",
          "text": [
            "Epoch 400/5000 (Training): 100%|██████████| 730/730 [00:02<00:00, 269.63it/s]\n",
            "Epoch 400/5000 (Validation): 100%|██████████| 730/730 [00:00<00:00, 916.59it/s]\n"
          ]
        },
        {
          "output_type": "stream",
          "name": "stdout",
          "text": [
            "Epoch [400/5000] | Train Loss: 6.4266 | Eval Loss: 6.4399\n"
          ]
        },
        {
          "output_type": "stream",
          "name": "stderr",
          "text": [
            "Epoch 401/5000 (Training): 100%|██████████| 730/730 [00:02<00:00, 273.43it/s]\n",
            "Epoch 401/5000 (Validation): 100%|██████████| 730/730 [00:00<00:00, 817.78it/s]\n"
          ]
        },
        {
          "output_type": "stream",
          "name": "stdout",
          "text": [
            "Epoch [401/5000] | Train Loss: 6.4266 | Eval Loss: 6.4399\n"
          ]
        },
        {
          "output_type": "stream",
          "name": "stderr",
          "text": [
            "Epoch 402/5000 (Training): 100%|██████████| 730/730 [00:03<00:00, 197.65it/s]\n",
            "Epoch 402/5000 (Validation): 100%|██████████| 730/730 [00:00<00:00, 926.79it/s]\n"
          ]
        },
        {
          "output_type": "stream",
          "name": "stdout",
          "text": [
            "Epoch [402/5000] | Train Loss: 6.4266 | Eval Loss: 6.4399\n"
          ]
        },
        {
          "output_type": "stream",
          "name": "stderr",
          "text": [
            "Epoch 403/5000 (Training): 100%|██████████| 730/730 [00:02<00:00, 273.39it/s]\n",
            "Epoch 403/5000 (Validation): 100%|██████████| 730/730 [00:00<00:00, 853.00it/s]\n"
          ]
        },
        {
          "output_type": "stream",
          "name": "stdout",
          "text": [
            "Epoch [403/5000] | Train Loss: 6.4266 | Eval Loss: 6.4399\n"
          ]
        },
        {
          "output_type": "stream",
          "name": "stderr",
          "text": [
            "Epoch 404/5000 (Training): 100%|██████████| 730/730 [00:02<00:00, 253.70it/s]\n",
            "Epoch 404/5000 (Validation): 100%|██████████| 730/730 [00:00<00:00, 890.68it/s]\n"
          ]
        },
        {
          "output_type": "stream",
          "name": "stdout",
          "text": [
            "Epoch [404/5000] | Train Loss: 6.4266 | Eval Loss: 6.4399\n"
          ]
        },
        {
          "output_type": "stream",
          "name": "stderr",
          "text": [
            "Epoch 405/5000 (Training): 100%|██████████| 730/730 [00:03<00:00, 225.76it/s]\n",
            "Epoch 405/5000 (Validation): 100%|██████████| 730/730 [00:01<00:00, 667.34it/s]\n"
          ]
        },
        {
          "output_type": "stream",
          "name": "stdout",
          "text": [
            "Epoch [405/5000] | Train Loss: 6.4266 | Eval Loss: 6.4400\n"
          ]
        },
        {
          "output_type": "stream",
          "name": "stderr",
          "text": [
            "Epoch 406/5000 (Training): 100%|██████████| 730/730 [00:03<00:00, 234.86it/s]\n",
            "Epoch 406/5000 (Validation): 100%|██████████| 730/730 [00:00<00:00, 864.36it/s]\n"
          ]
        },
        {
          "output_type": "stream",
          "name": "stdout",
          "text": [
            "Epoch [406/5000] | Train Loss: 6.4266 | Eval Loss: 6.4400\n"
          ]
        },
        {
          "output_type": "stream",
          "name": "stderr",
          "text": [
            "Epoch 407/5000 (Training): 100%|██████████| 730/730 [00:02<00:00, 263.11it/s]\n",
            "Epoch 407/5000 (Validation): 100%|██████████| 730/730 [00:00<00:00, 905.19it/s]\n"
          ]
        },
        {
          "output_type": "stream",
          "name": "stdout",
          "text": [
            "Epoch [407/5000] | Train Loss: 6.4266 | Eval Loss: 6.4400\n"
          ]
        },
        {
          "output_type": "stream",
          "name": "stderr",
          "text": [
            "Epoch 408/5000 (Training): 100%|██████████| 730/730 [00:02<00:00, 260.82it/s]\n",
            "Epoch 408/5000 (Validation): 100%|██████████| 730/730 [00:00<00:00, 750.39it/s]\n"
          ]
        },
        {
          "output_type": "stream",
          "name": "stdout",
          "text": [
            "Epoch [408/5000] | Train Loss: 6.4266 | Eval Loss: 6.4400\n"
          ]
        },
        {
          "output_type": "stream",
          "name": "stderr",
          "text": [
            "Epoch 409/5000 (Training): 100%|██████████| 730/730 [00:03<00:00, 196.67it/s]\n",
            "Epoch 409/5000 (Validation): 100%|██████████| 730/730 [00:00<00:00, 761.50it/s]\n"
          ]
        },
        {
          "output_type": "stream",
          "name": "stdout",
          "text": [
            "Epoch [409/5000] | Train Loss: 6.4266 | Eval Loss: 6.4400\n"
          ]
        },
        {
          "output_type": "stream",
          "name": "stderr",
          "text": [
            "Epoch 410/5000 (Training): 100%|██████████| 730/730 [00:02<00:00, 275.05it/s]\n",
            "Epoch 410/5000 (Validation): 100%|██████████| 730/730 [00:00<00:00, 843.32it/s]\n"
          ]
        },
        {
          "output_type": "stream",
          "name": "stdout",
          "text": [
            "Epoch [410/5000] | Train Loss: 6.4266 | Eval Loss: 6.4400\n"
          ]
        },
        {
          "output_type": "stream",
          "name": "stderr",
          "text": [
            "Epoch 411/5000 (Training): 100%|██████████| 730/730 [00:02<00:00, 271.23it/s]\n",
            "Epoch 411/5000 (Validation): 100%|██████████| 730/730 [00:00<00:00, 894.99it/s]\n"
          ]
        },
        {
          "output_type": "stream",
          "name": "stdout",
          "text": [
            "Epoch [411/5000] | Train Loss: 6.4266 | Eval Loss: 6.4401\n"
          ]
        },
        {
          "output_type": "stream",
          "name": "stderr",
          "text": [
            "Epoch 412/5000 (Training): 100%|██████████| 730/730 [00:03<00:00, 216.78it/s]\n",
            "Epoch 412/5000 (Validation): 100%|██████████| 730/730 [00:03<00:00, 210.47it/s]\n"
          ]
        },
        {
          "output_type": "stream",
          "name": "stdout",
          "text": [
            "Epoch [412/5000] | Train Loss: 6.4266 | Eval Loss: 6.4401\n"
          ]
        },
        {
          "output_type": "stream",
          "name": "stderr",
          "text": [
            "Epoch 413/5000 (Training): 100%|██████████| 730/730 [00:03<00:00, 201.73it/s]\n",
            "Epoch 413/5000 (Validation): 100%|██████████| 730/730 [00:00<00:00, 860.52it/s]\n"
          ]
        },
        {
          "output_type": "stream",
          "name": "stdout",
          "text": [
            "Epoch [413/5000] | Train Loss: 6.4266 | Eval Loss: 6.4401\n"
          ]
        },
        {
          "output_type": "stream",
          "name": "stderr",
          "text": [
            "Epoch 414/5000 (Training): 100%|██████████| 730/730 [00:02<00:00, 275.71it/s]\n",
            "Epoch 414/5000 (Validation): 100%|██████████| 730/730 [00:00<00:00, 921.21it/s]\n"
          ]
        },
        {
          "output_type": "stream",
          "name": "stdout",
          "text": [
            "Epoch [414/5000] | Train Loss: 6.4266 | Eval Loss: 6.4401\n"
          ]
        },
        {
          "output_type": "stream",
          "name": "stderr",
          "text": [
            "Epoch 415/5000 (Training):  35%|███▍      | 253/730 [00:00<00:01, 266.34it/s]\n"
          ]
        },
        {
          "output_type": "error",
          "ename": "KeyboardInterrupt",
          "evalue": "ignored",
          "traceback": [
            "\u001b[0;31m---------------------------------------------------------------------------\u001b[0m",
            "\u001b[0;31mKeyboardInterrupt\u001b[0m                         Traceback (most recent call last)",
            "\u001b[0;32m<ipython-input-17-30b32a11d0c1>\u001b[0m in \u001b[0;36m<cell line: 23>\u001b[0;34m()\u001b[0m\n\u001b[1;32m     35\u001b[0m         \u001b[0mreconstructed_output\u001b[0m \u001b[0;34m=\u001b[0m \u001b[0mtorch\u001b[0m\u001b[0;34m.\u001b[0m\u001b[0mwhere\u001b[0m\u001b[0;34m(\u001b[0m\u001b[0mtorch\u001b[0m\u001b[0;34m.\u001b[0m\u001b[0misnan\u001b[0m\u001b[0;34m(\u001b[0m\u001b[0mreconstructed_output\u001b[0m\u001b[0;34m)\u001b[0m\u001b[0;34m,\u001b[0m \u001b[0mtorch\u001b[0m\u001b[0;34m.\u001b[0m\u001b[0mzeros_like\u001b[0m\u001b[0;34m(\u001b[0m\u001b[0mreconstructed_output\u001b[0m\u001b[0;34m)\u001b[0m\u001b[0;34m,\u001b[0m \u001b[0mreconstructed_output\u001b[0m\u001b[0;34m)\u001b[0m\u001b[0;34m\u001b[0m\u001b[0;34m\u001b[0m\u001b[0m\n\u001b[1;32m     36\u001b[0m         \u001b[0mreconstructed_output\u001b[0m\u001b[0;34m[\u001b[0m\u001b[0mtorch\u001b[0m\u001b[0;34m.\u001b[0m\u001b[0misnan\u001b[0m\u001b[0;34m(\u001b[0m\u001b[0mreconstructed_output\u001b[0m\u001b[0;34m)\u001b[0m\u001b[0;34m]\u001b[0m \u001b[0;34m=\u001b[0m \u001b[0;36m0\u001b[0m\u001b[0;34m\u001b[0m\u001b[0;34m\u001b[0m\u001b[0m\n\u001b[0;32m---> 37\u001b[0;31m         \u001b[0mloss\u001b[0m \u001b[0;34m=\u001b[0m \u001b[0mnegative_log_likelihood\u001b[0m\u001b[0;34m(\u001b[0m\u001b[0minputs\u001b[0m\u001b[0;34m,\u001b[0m \u001b[0mreconstructed_output\u001b[0m\u001b[0;34m)\u001b[0m\u001b[0;34m\u001b[0m\u001b[0;34m\u001b[0m\u001b[0m\n\u001b[0m\u001b[1;32m     38\u001b[0m \u001b[0;34m\u001b[0m\u001b[0m\n\u001b[1;32m     39\u001b[0m         \u001b[0mloss\u001b[0m\u001b[0;34m.\u001b[0m\u001b[0mbackward\u001b[0m\u001b[0;34m(\u001b[0m\u001b[0;34m)\u001b[0m\u001b[0;34m\u001b[0m\u001b[0;34m\u001b[0m\u001b[0m\n",
            "\u001b[0;32m<ipython-input-10-732c50d6489a>\u001b[0m in \u001b[0;36mnegative_log_likelihood\u001b[0;34m(x, rv_x)\u001b[0m\n\u001b[1;32m      3\u001b[0m   \u001b[0mlog_variance\u001b[0m \u001b[0;34m=\u001b[0m \u001b[0mrv_x\u001b[0m\u001b[0;34m[\u001b[0m\u001b[0;34m:\u001b[0m\u001b[0;34m,\u001b[0m \u001b[0;36m1\u001b[0m\u001b[0;34m]\u001b[0m\u001b[0;34m\u001b[0m\u001b[0;34m\u001b[0m\u001b[0m\n\u001b[1;32m      4\u001b[0m   \u001b[0mdist\u001b[0m \u001b[0;34m=\u001b[0m \u001b[0mNormal\u001b[0m\u001b[0;34m(\u001b[0m\u001b[0mmean\u001b[0m\u001b[0;34m,\u001b[0m \u001b[0mtorch\u001b[0m\u001b[0;34m.\u001b[0m\u001b[0mexp\u001b[0m\u001b[0;34m(\u001b[0m\u001b[0;36m0.5\u001b[0m \u001b[0;34m*\u001b[0m \u001b[0mlog_variance\u001b[0m\u001b[0;34m)\u001b[0m\u001b[0;34m)\u001b[0m  \u001b[0;31m# Assuming log_variance represents the log-variance\u001b[0m\u001b[0;34m\u001b[0m\u001b[0;34m\u001b[0m\u001b[0m\n\u001b[0;32m----> 5\u001b[0;31m   \u001b[0mlog_prob\u001b[0m \u001b[0;34m=\u001b[0m \u001b[0;34m-\u001b[0m\u001b[0mdist\u001b[0m\u001b[0;34m.\u001b[0m\u001b[0mlog_prob\u001b[0m\u001b[0;34m(\u001b[0m\u001b[0mx\u001b[0m\u001b[0;34m)\u001b[0m\u001b[0;34m.\u001b[0m\u001b[0mmean\u001b[0m\u001b[0;34m(\u001b[0m\u001b[0;34m)\u001b[0m  \u001b[0;31m# Calculate the negative log-likelihood\u001b[0m\u001b[0;34m\u001b[0m\u001b[0;34m\u001b[0m\u001b[0m\n\u001b[0m\u001b[1;32m      6\u001b[0m \u001b[0;34m\u001b[0m\u001b[0m\n\u001b[1;32m      7\u001b[0m   \u001b[0;32mreturn\u001b[0m \u001b[0mlog_prob\u001b[0m\u001b[0;34m\u001b[0m\u001b[0;34m\u001b[0m\u001b[0m\n",
            "\u001b[0;32m/usr/local/lib/python3.10/dist-packages/torch/distributions/normal.py\u001b[0m in \u001b[0;36mlog_prob\u001b[0;34m(self, value)\u001b[0m\n\u001b[1;32m     86\u001b[0m             \u001b[0;34m-\u001b[0m\u001b[0;34m(\u001b[0m\u001b[0;34m(\u001b[0m\u001b[0mvalue\u001b[0m \u001b[0;34m-\u001b[0m \u001b[0mself\u001b[0m\u001b[0;34m.\u001b[0m\u001b[0mloc\u001b[0m\u001b[0;34m)\u001b[0m \u001b[0;34m**\u001b[0m \u001b[0;36m2\u001b[0m\u001b[0;34m)\u001b[0m \u001b[0;34m/\u001b[0m \u001b[0;34m(\u001b[0m\u001b[0;36m2\u001b[0m \u001b[0;34m*\u001b[0m \u001b[0mvar\u001b[0m\u001b[0;34m)\u001b[0m\u001b[0;34m\u001b[0m\u001b[0;34m\u001b[0m\u001b[0m\n\u001b[1;32m     87\u001b[0m             \u001b[0;34m-\u001b[0m \u001b[0mlog_scale\u001b[0m\u001b[0;34m\u001b[0m\u001b[0;34m\u001b[0m\u001b[0m\n\u001b[0;32m---> 88\u001b[0;31m             \u001b[0;34m-\u001b[0m \u001b[0mmath\u001b[0m\u001b[0;34m.\u001b[0m\u001b[0mlog\u001b[0m\u001b[0;34m(\u001b[0m\u001b[0mmath\u001b[0m\u001b[0;34m.\u001b[0m\u001b[0msqrt\u001b[0m\u001b[0;34m(\u001b[0m\u001b[0;36m2\u001b[0m \u001b[0;34m*\u001b[0m \u001b[0mmath\u001b[0m\u001b[0;34m.\u001b[0m\u001b[0mpi\u001b[0m\u001b[0;34m)\u001b[0m\u001b[0;34m)\u001b[0m\u001b[0;34m\u001b[0m\u001b[0;34m\u001b[0m\u001b[0m\n\u001b[0m\u001b[1;32m     89\u001b[0m         )\n\u001b[1;32m     90\u001b[0m \u001b[0;34m\u001b[0m\u001b[0m\n",
            "\u001b[0;31mKeyboardInterrupt\u001b[0m: "
          ]
        }
      ]
    },
    {
      "cell_type": "code",
      "source": [
        "class IndependentNormal(nn.Module):\n",
        "    def __init__(self, num_features):\n",
        "        super(IndependentNormal, self).__init__()\n",
        "        self.num_features = num_features\n",
        "        self.locs = nn.Linear(num_features, num_features)\n",
        "        self.scales = nn.Linear(num_features, num_features)\n",
        "\n",
        "    def forward(self, x):\n",
        "        locs = self.locs(x)\n",
        "        scales = F.softplus(self.scales(x)) + 1e-5  # Adding a small value to prevent numerical issues\n",
        "        return Normal(locs, scales)"
      ],
      "metadata": {
        "id": "_MOnTiCZ6kj1"
      },
      "execution_count": null,
      "outputs": []
    },
    {
      "cell_type": "code",
      "source": [
        "class IndependentDirichlet(nn.Module):\n",
        "    def __init__(self, num_features):\n",
        "        super(IndependentDirichlet, self).__init__()\n",
        "        self.num_features = num_features\n",
        "        self.alphas = nn.Linear(num_features, num_features)\n",
        "\n",
        "    def forward(self, x):\n",
        "        alphas = F.softplus(self.alphas(x)) + 1e-5  # Adding a small value to prevent numerical issues\n",
        "        return Dirichlet(alphas)"
      ],
      "metadata": {
        "id": "EwqnQd5aEXwx"
      },
      "execution_count": null,
      "outputs": []
    },
    {
      "cell_type": "code",
      "source": [
        "import torch.distributions as td\n",
        "\n",
        "class Sphere_Encoder(nn.Module):\n",
        "    def __init__(self):\n",
        "        super(Sphere_Encoder, self).__init__()\n",
        "        self.encoded_size = 4\n",
        "        self.prior = td.Independent(td.Normal(loc=torch.zeros(self.encoded_size), scale=torch.ones(self.encoded_size)),\n",
        "                                    reinterpreted_batch_ndims=1)\n",
        "        self.concat = nn.Linear(8, 8)\n",
        "        self.dense1 = nn.Linear(6, 8)\n",
        "        self.dense2 = nn.Linear(8, 8)\n",
        "        self.lambda1 = lambda x: torch.abs(x) + 0.001\n",
        "        self.dense3 = nn.Linear(8, self.encoded_size)\n",
        "        self.ind_norm1 = IndependentNormal(self.encoded_size)\n",
        "\n",
        "    def forward(self, inputs):\n",
        "        inputs1, inputs2 = inputs\n",
        "        x = torch.cat([inputs1, inputs2 / 10], dim=1)\n",
        "        x = F.relu(self.dense1(x))\n",
        "        x = F.relu(self.dense2(x))\n",
        "        x = torch.abs(x) + 0.001\n",
        "        x = self.dense3(x)\n",
        "        x = self.ind_norm1(x)\n",
        "        return x\n",
        "\n",
        "class Sphere_Decoder(nn.Module):\n",
        "    def __init__(self):\n",
        "        super(Sphere_Decoder, self).__init__()\n",
        "        self.K = 5\n",
        "        self.dense1 = nn.Linear(4, 5)\n",
        "        self.dense2 = nn.Linear(6, 10)\n",
        "        self.dense31 = nn.Linear(self.K * 2, self.K)\n",
        "        self.ind_norm11 = IndependentNormal(self.K)\n",
        "        self.dense32 = nn.Linear(5, 5)\n",
        "        self.lambda1 = lambda x: 1 / (1 + x)\n",
        "        self.dirichlet = IndependentDirichlet(self.K)\n",
        "\n",
        "    def forward(self, inputs):\n",
        "        inputs1, inputs2 = inputs\n",
        "        inputs2 = self.lambda1(inputs2)\n",
        "        print(inputs1)\n",
        "        x = F.relu(self.dense1(inputs1.mean))\n",
        "        x = torch.cat([x, inputs2], dim=1)\n",
        "        x = F.relu(self.dense2(x))\n",
        "        x = self.dense31(x)\n",
        "        x = self.ind_norm11(x)\n",
        "        x = self.dirichlet(x.mean)\n",
        "        return x.mean\n",
        "\n",
        "class Sphere_VAE(nn.Module):\n",
        "    def __init__(self):\n",
        "        super(Sphere_VAE, self).__init__()\n",
        "        self.encoder = Sphere_Encoder()\n",
        "        self.decoder = Sphere_Decoder()\n",
        "\n",
        "    def forward(self, inputs):\n",
        "        inputs1, inputs2 = inputs\n",
        "        return self.decoder([self.encoder([inputs1, inputs2]), inputs2])"
      ],
      "metadata": {
        "id": "Asz5bAlMEagF"
      },
      "execution_count": null,
      "outputs": []
    },
    {
      "cell_type": "code",
      "source": [
        "angle_train_dep = R4_S[::25,:]\n",
        "print(angle_train_dep.shape)\n",
        "print(train_dataset.shape)\n",
        "angle_eval_dep  = R4_S\n",
        "print(angle_eval_dep.shape)"
      ],
      "metadata": {
        "colab": {
          "base_uri": "https://localhost:8080/"
        },
        "id": "JYVd_ZDzElMA",
        "outputId": "67e4f0ec-700b-4d69-d7e7-bdd2d71cc1c8"
      },
      "execution_count": null,
      "outputs": [
        {
          "output_type": "stream",
          "name": "stdout",
          "text": [
            "(730, 5)\n",
            "(730, 1)\n",
            "(18244, 5)\n"
          ]
        }
      ]
    },
    {
      "cell_type": "code",
      "source": [
        "ang_vae = Sphere_VAE()\n",
        "\n",
        "# Define optimizer and loss function\n",
        "optimizer = optim.Adam(ang_vae.parameters(), lr=1e-3)\n",
        "\n",
        "train_loader = train_dataset\n",
        "eval_loader = train_dataset\n",
        "\n",
        "\n",
        "epochs = 5000\n",
        "batch_size = 32\n",
        "\n",
        "for epoch in range(epochs):\n",
        "    epoch_loss = 0.0\n",
        "<r\n",
        "    # Training\n",
        "    ang_vae.train()\n",
        "    with tqdm(range(0, len(angle_train_dep), batch_size)) as t:\n",
        "        for i in t:\n",
        "            optimizer.zero_grad()\n",
        "            angle_train_batch = angle_train_dep[i:i+batch_size]\n",
        "            train_data_batch = train_dataset[i:i+batch_size]\n",
        "            print(angle_train_batch.shape)\n",
        "            print(train_data_batch.shape)\n",
        "            angle_train_batch = torch.tensor(angle_train_batch, dtype=torch.float32)\n",
        "            train_data_batch = torch.tensor(train_data_batch, dtype=torch.float32)\n",
        "\n",
        "            output = ang_vae([angle_train_batch, train_data_batch])\n",
        "            print(output.shape)\n",
        "            loss = negative_log_likelihood(output, angle_train_batch)  # Change this line\n",
        "\n",
        "            loss.backward()\n",
        "            optimizer.step()\n",
        "\n",
        "            epoch_loss += loss.item()\n",
        "            t.set_postfix(loss=epoch_loss / (i / batch_size + 1))  # Update progress bar with loss\n",
        "\n",
        "    epoch_loss /= len(angle_train_dep) / batch_size\n",
        "\n",
        "    # Validation\n",
        "    ang_vae.eval()\n",
        "    val_loss = 0.0\n",
        "    with torch.no_grad(), tqdm(range(0, len(angle_eval_dep), batch_size)) as t:\n",
        "        for i in t:\n",
        "            angle_val_batch = angle_eval_dep[i:i+batch_size]\n",
        "            eval_data_batch = eval_dataset[i:i+batch_size]\n",
        "\n",
        "            angle_val_batch = torch.tensor(angle_val_batch, dtype=torch.float32)\n",
        "            eval_data_batch = torch.tensor(eval_data_batch, dtype=torch.float32)\n",
        "\n",
        "            output = ang_vae([angle_val_batch, eval_data_batch])\n",
        "\n",
        "            loss = negative_log_likelihood(output, angle_val_batch)  # Change this line\n",
        "\n",
        "            val_loss += loss.item()\n",
        "            t.set_postfix(val_loss=val_loss / (i / batch_size + 1))  # Update progress bar with validation loss\n",
        "\n",
        "    val_loss /= len(angle_eval_dep) / batch_size\n",
        "\n",
        "    print(f\"Epoch [{epoch+1}/{epochs}] Loss: {epoch_loss:.4f} Val Loss: {val_loss:.4f}\")"
      ],
      "metadata": {
        "id": "OfNU0sHHE9Tj"
      },
      "execution_count": null,
      "outputs": []
    }
  ]
}